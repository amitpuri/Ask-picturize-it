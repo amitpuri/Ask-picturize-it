{
 "cells": [
  {
   "attachments": {},
   "cell_type": "markdown",
   "metadata": {},
   "source": [
    "# DALL-E"
   ]
  },
  {
   "cell_type": "code",
   "execution_count": null,
   "metadata": {},
   "outputs": [],
   "source": [
    "from IPython.display import Image\n",
    "from IPython.core.display import HTML"
   ]
  },
  {
   "attachments": {},
   "cell_type": "markdown",
   "metadata": {},
   "source": [
    "### Set up OpenAI API"
   ]
  },
  {
   "cell_type": "code",
   "execution_count": null,
   "metadata": {},
   "outputs": [],
   "source": [
    "OPENAI_KEY = \"\"\n",
    "OPENAI_RESOURCE_ENDPOINT = \"\""
   ]
  },
  {
   "attachments": {},
   "cell_type": "markdown",
   "metadata": {},
   "source": [
    "The DALL-E Models are not implemented in the standard openai package, you can only make use of it via the REST API."
   ]
  },
  {
   "cell_type": "code",
   "execution_count": null,
   "metadata": {},
   "outputs": [],
   "source": [
    "import requests\n",
    "import time\n",
    "import os\n",
    "api_base = OPENAI_RESOURCE_ENDPOINT\n",
    "api_key = OPENAI_KEY\n",
    "api_version = '2022-08-03-preview'\n",
    "url = \"{}dalle/text-to-image?api-version={}\".format(api_base, api_version)\n",
    "headers= { \"api-key\": api_key, \"Content-Type\": \"application/json\" }\n",
    "body = {\n",
    "    \"caption\": \"a waterpainting of a giraffe riding a bicycle\",\n",
    "    \"resolution\": \"1024x1024\"\n",
    "}\n",
    "submission = requests.post(url, headers=headers, json=body)\n",
    "operation_location = submission.headers['Operation-Location']\n",
    "retry_after = submission.headers['Retry-after']\n",
    "status = \"\"\n",
    "while (status != \"Succeeded\" and status != \"Failed\" and status != \"Cancelled\"):\n",
    "    time.sleep(int(retry_after))\n",
    "    response = requests.get(operation_location, headers=headers)\n",
    "    status = response.json()['status']\n",
    "if(status == \"Succeeded\"):\n",
    "    image_url = response.json()['result']['contentUrl']\n",
    "    print(response.json())\n",
    "    Image(url= image_url)\n",
    "if (status == \"Failed\"):\n",
    "    print('Error:', response.json().get('error').get('code'), '-', response.json().get('error').get('message'))"
   ]
  }
 ],
 "metadata": {
  "kernelspec": {
   "display_name": "Python 3",
   "language": "python",
   "name": "python3"
  },
  "language_info": {
   "codemirror_mode": {
    "name": "ipython",
    "version": 3
   },
   "file_extension": ".py",
   "mimetype": "text/x-python",
   "name": "python",
   "nbconvert_exporter": "python",
   "pygments_lexer": "ipython3",
   "version": "3.9.10"
  },
  "orig_nbformat": 4,
  "vscode": {
   "interpreter": {
    "hash": "11938c6bc6919ae2720b4d5011047913343b08a43b18698fd82dedb0d4417594"
   }
  }
 },
 "nbformat": 4,
 "nbformat_minor": 2
}
