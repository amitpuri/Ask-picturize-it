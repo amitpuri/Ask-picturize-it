{
  "nbformat": 4,
  "nbformat_minor": 0,
  "metadata": {
    "colab": {
      "provenance": []
    },
    "kernelspec": {
      "name": "python3",
      "display_name": "Python 3"
    },
    "language_info": {
      "name": "python"
    }
  },
  "cells": [
    {
      "cell_type": "markdown",
      "source": [
        "# Langchain: Tools & Chains"
      ],
      "metadata": {
        "id": "XoJ-RGiUo-uJ"
      }
    },
    {
      "cell_type": "code",
      "execution_count": null,
      "metadata": {
        "colab": {
          "base_uri": "https://localhost:8080/"
        },
        "id": "8RSTxnoIozRN",
        "outputId": "849f18d3-d85d-458a-e3b0-a7de5af4fe7c"
      },
      "outputs": [
        {
          "output_type": "stream",
          "name": "stdout",
          "text": [
            "\u001b[?25l     \u001b[90m━━━━━━━━━━━━━━━━━━━━━━━━━━━━━━━━━━━━━━━━\u001b[0m \u001b[32m0.0/55.5 KB\u001b[0m \u001b[31m?\u001b[0m eta \u001b[36m-:--:--\u001b[0m\r\u001b[2K     \u001b[91m━━━━━━━━━━━━━━━━━━━━━━━━━━━━━━━━━━━━\u001b[0m\u001b[91m╸\u001b[0m\u001b[90m━━━\u001b[0m \u001b[32m51.2/55.5 KB\u001b[0m \u001b[31m5.0 MB/s\u001b[0m eta \u001b[36m0:00:01\u001b[0m\r\u001b[2K     \u001b[90m━━━━━━━━━━━━━━━━━━━━━━━━━━━━━━━━━━━━━━━━\u001b[0m \u001b[32m55.5/55.5 KB\u001b[0m \u001b[31m1.1 MB/s\u001b[0m eta \u001b[36m0:00:00\u001b[0m\n",
            "\u001b[?25h  Installing build dependencies ... \u001b[?25l\u001b[?25hdone\n",
            "  Getting requirements to build wheel ... \u001b[?25l\u001b[?25hdone\n",
            "  Installing backend dependencies ... \u001b[?25l\u001b[?25hdone\n",
            "  Preparing metadata (pyproject.toml) ... \u001b[?25l\u001b[?25hdone\n",
            "\u001b[2K     \u001b[90m━━━━━━━━━━━━━━━━━━━━━━━━━━━━━━━━━━━━━━━\u001b[0m \u001b[32m288.8/288.8 KB\u001b[0m \u001b[31m9.2 MB/s\u001b[0m eta \u001b[36m0:00:00\u001b[0m\n",
            "\u001b[2K     \u001b[90m━━━━━━━━━━━━━━━━━━━━━━━━━━━━━━━━━━━━━━\u001b[0m \u001b[32m190.3/190.3 KB\u001b[0m \u001b[31m10.6 MB/s\u001b[0m eta \u001b[36m0:00:00\u001b[0m\n",
            "\u001b[?25h  Building wheel for openai (pyproject.toml) ... \u001b[?25l\u001b[?25hdone\n"
          ]
        }
      ],
      "source": [
        "!pip -q install openai langchain huggingface_hub"
      ]
    },
    {
      "cell_type": "code",
      "source": [
        "import os\n",
        "\n",
        "os.environ['OPENAI_API_KEY'] = ''\n",
        "os.environ['HUGGINGFACEHUB_API_TOKEN'] = ''"
      ],
      "metadata": {
        "id": "9iIacDfgpB2M"
      },
      "execution_count": null,
      "outputs": []
    },
    {
      "cell_type": "code",
      "source": [],
      "metadata": {
        "id": "ktJiR23xQz6a"
      },
      "execution_count": null,
      "outputs": []
    },
    {
      "cell_type": "markdown",
      "source": [
        "## Basic LLMChain - Fact Extraction"
      ],
      "metadata": {
        "id": "-KB9qA8bpxgJ"
      }
    },
    {
      "cell_type": "code",
      "source": [
        "from langchain.prompts import PromptTemplate\n",
        "from langchain.llms import OpenAI\n",
        "from langchain.chains import LLMChain"
      ],
      "metadata": {
        "id": "-lzO5PfUpwfv"
      },
      "execution_count": null,
      "outputs": []
    },
    {
      "cell_type": "code",
      "source": [
        "llm = OpenAI(model_name='text-davinci-003', \n",
        "             temperature=0, \n",
        "             max_tokens = 256)"
      ],
      "metadata": {
        "id": "sTiEn3tKp7mZ"
      },
      "execution_count": null,
      "outputs": []
    },
    {
      "cell_type": "code",
      "source": [
        "article = '''Coinbase, the second-largest crypto exchange by trading volume, released its Q4 2022 earnings on Tuesday, giving shareholders and market players alike an updated look into its financials. In response to the report, the company's shares are down modestly in early after-hours trading.In the fourth quarter of 2022, Coinbase generated $605 million in total revenue, down sharply from $2.49 billion in the year-ago quarter. Coinbase's top line was not enough to cover its expenses: The company lost $557 million in the three-month period on a GAAP basis (net income) worth -$2.46 per share, and an adjusted EBITDA deficit of $124 million.Wall Street expected Coinbase to report $581.2 million in revenue and earnings per share of -$2.44 with adjusted EBITDA of -$201.8 million driven by 8.4 million monthly transaction users (MTUs), according to data provided by Yahoo Finance.Before its Q4 earnings were released, Coinbase's stock had risen 86% year-to-date. Even with that rally, the value of Coinbase when measured on a per-share basis is still down significantly from its 52-week high of $206.79.That Coinbase beat revenue expectations is notable in that it came with declines in trading volume; Coinbase historically generated the bulk of its revenues from trading fees, making Q4 2022 notable. Consumer trading volumes fell from $26 billion in the third quarter of last year to $20 billion in Q4, while institutional volumes across the same timeframe fell from $133 billion to $125 billion.The overall crypto market capitalization fell about 64%, or $1.5 trillion during 2022, which resulted in Coinbase's total trading volumes and transaction revenues to fall 50% and 66% year-over-year, respectively, the company reported.As you would expect with declines in trading volume, trading revenue at Coinbase fell in Q4 compared to the third quarter of last year, dipping from $365.9 million to $322.1 million. (TechCrunch is comparing Coinbase's Q4 2022 results to Q3 2022 instead of Q4 2021, as the latter comparison would be less useful given how much the crypto market has changed in the last year; we're all aware that overall crypto activity has fallen from the final months of 2021.)There were bits of good news in the Coinbase report. While Coinbase's trading revenues were less than exuberant, the company's other revenues posted gains. What Coinbase calls its \"subscription and services revenue\" rose from $210.5 million in Q3 2022 to $282.8 million in Q4 of the same year, a gain of just over 34% in a single quarter.And even as the crypto industry faced a number of catastrophic events, including the Terra/LUNA and FTX collapses to name a few, there was still growth in other areas. The monthly active developers in crypto have more than doubled since 2020 to over 20,000, while major brands like Starbucks, Nike and Adidas have dived into the space alongside social media platforms like Instagram and Reddit.With big players getting into crypto, industry players are hoping this move results in greater adoption both for product use cases and trading volumes. Although there was a lot of movement from traditional retail markets and Web 2.0 businesses, trading volume for both consumer and institutional users fell quarter-over-quarter for Coinbase.Looking forward, it'll be interesting to see if these pieces pick back up and trading interest reemerges in 2023, or if platforms like Coinbase will have to keep looking elsewhere for revenue (like its subscription service) if users continue to shy away from the market.\n",
        "'''"
      ],
      "metadata": {
        "id": "WCBfxD4cqXsx"
      },
      "execution_count": null,
      "outputs": []
    },
    {
      "cell_type": "code",
      "source": [
        "len(article)"
      ],
      "metadata": {
        "colab": {
          "base_uri": "https://localhost:8080/"
        },
        "id": "eMnYNdKIjJiq",
        "outputId": "c13315e5-5a4d-4755-f5eb-a2eb1ff07eb7"
      },
      "execution_count": null,
      "outputs": [
        {
          "output_type": "execute_result",
          "data": {
            "text/plain": [
              "3533"
            ]
          },
          "metadata": {},
          "execution_count": 22
        }
      ]
    },
    {
      "cell_type": "code",
      "source": [
        "fact_extraction_prompt = PromptTemplate(\n",
        "    input_variables=[\"text_input\"],\n",
        "    template=\"Extract the key facts out of this text. Don't include opinions. Give each fact a number and keep them short sentences. :\\n\\n {text_input}\"\n",
        ")"
      ],
      "metadata": {
        "id": "qYPq1mrSfVTt"
      },
      "execution_count": null,
      "outputs": []
    },
    {
      "cell_type": "code",
      "source": [
        "fact_extraction_chain = LLMChain(llm=llm, prompt=fact_extraction_prompt)\n",
        "\n",
        "facts = fact_extraction_chain.run(article)\n",
        "\n",
        "print(facts)"
      ],
      "metadata": {
        "colab": {
          "base_uri": "https://localhost:8080/"
        },
        "id": "RmumMw1mfweL",
        "outputId": "f281efe0-8768-4fab-c8bc-dd4bf9581fd6"
      },
      "execution_count": null,
      "outputs": [
        {
          "output_type": "stream",
          "name": "stdout",
          "text": [
            "\n",
            "1. Coinbase released its Q4 2022 earnings on Tuesday.\n",
            "2. Coinbase generated $605 million in total revenue in Q4 2022.\n",
            "3. Coinbase lost $557 million in the three-month period on a GAAP basis.\n",
            "4. Coinbase's stock had risen 86% year-to-date before its Q4 earnings were released.\n",
            "5. Consumer trading volumes fell from $26 billion in Q3 2022 to $20 billion in Q4 2022.\n",
            "6. Institutional volumes across the same timeframe fell from $133 billion to $125 billion.\n",
            "7. The overall crypto market capitalization fell about 64%, or $1.5 trillion during 2022.\n",
            "8. Trading revenue at Coinbase fell from $365.9 million in Q3 2022 to $322.1 million in Q4 2022.\n",
            "9. Coinbase's \"subscription and services revenue\" rose from $210.5 million in Q3 2022 to $282.8 million in Q4 2022.\n",
            "10. Monthly active developers in crypto have more than doubled since 2020 to over 20,000.\n"
          ]
        }
      ]
    },
    {
      "cell_type": "code",
      "source": [
        "print(facts)"
      ],
      "metadata": {
        "colab": {
          "base_uri": "https://localhost:8080/"
        },
        "id": "rByDz-oxlA6j",
        "outputId": "8687f8a5-aa5f-4744-d4f6-27c638a19e5b"
      },
      "execution_count": null,
      "outputs": [
        {
          "output_type": "stream",
          "name": "stdout",
          "text": [
            "\n",
            "1. Coinbase released its Q4 2022 earnings on Tuesday.\n",
            "2. Coinbase generated $605 million in total revenue in Q4 2022.\n",
            "3. Coinbase lost $557 million in the three-month period on a GAAP basis.\n",
            "4. Coinbase's stock had risen 86% year-to-date before its Q4 earnings were released.\n",
            "5. Consumer trading volumes fell from $26 billion in Q3 2022 to $20 billion in Q4 2022.\n",
            "6. Institutional volumes across the same timeframe fell from $133 billion to $125 billion.\n",
            "7. The overall crypto market capitalization fell about 64%, or $1.5 trillion during 2022.\n",
            "8. Trading revenue at Coinbase fell from $365.9 million in Q3 2022 to $322.1 million in Q4 2022.\n",
            "9. Coinbase's \"subscription and services revenue\" rose from $210.5 million in Q3 2022 to $282.8 million in Q4 2022.\n",
            "10. Monthly active developers in crypto have more than doubled since 2020 to over 20,000.\n"
          ]
        }
      ]
    },
    {
      "cell_type": "markdown",
      "source": [
        "## Rewrite as a summary from the facts"
      ],
      "metadata": {
        "id": "YR2JtDm0hs03"
      }
    },
    {
      "cell_type": "code",
      "source": [
        "investor_update_prompt = PromptTemplate(\n",
        "    input_variables=[\"facts\"],\n",
        "    template=\"You are a Goldman Sachs analyst. Take the following list of facts and use them to write a short paragrah for investors. Don't leave out key info:\\n\\n {facts}\"\n",
        ")"
      ],
      "metadata": {
        "id": "nG--CuMJh1Gi"
      },
      "execution_count": null,
      "outputs": []
    },
    {
      "cell_type": "code",
      "source": [
        "investor_update_chain = LLMChain(llm=llm, prompt=investor_update_prompt)\n",
        "\n",
        "investor_update = investor_update_chain.run(facts)\n",
        "\n",
        "print(investor_update)\n",
        "len(investor_update)"
      ],
      "metadata": {
        "colab": {
          "base_uri": "https://localhost:8080/"
        },
        "outputId": "6b3a58b9-a39d-40df-bbde-395b6fa61d02",
        "id": "1rJu6HOoh1Gi"
      },
      "execution_count": null,
      "outputs": [
        {
          "output_type": "stream",
          "name": "stdout",
          "text": [
            "\n",
            "\n",
            "Coinbase released its Q4 2022 earnings on Tuesday, revealing total revenue of $605 million and a GAAP loss of $557 million. Despite the losses, Coinbase's stock had risen 86% year-to-date before its Q4 earnings were released. Consumer trading volumes fell from $26 billion in Q3 2022 to $20 billion in Q4 2022, while institutional volumes fell from $133 billion to $125 billion. The overall crypto market capitalization fell about 64%, or $1.5 trillion during 2022. Trading revenue at Coinbase fell from $365.9 million in Q3 2022 to $322.1 million in Q4 2022, while its \"subscription and services revenue\" rose from $210.5 million in Q3 2022 to $282.8 million in Q4 2022. Despite the market downturn, monthly active developers in crypto have more than doubled since 2020 to over 20,000.\n"
          ]
        },
        {
          "output_type": "execute_result",
          "data": {
            "text/plain": [
              "788"
            ]
          },
          "metadata": {},
          "execution_count": 26
        }
      ]
    },
    {
      "cell_type": "code",
      "source": [],
      "metadata": {
        "id": "uCEfXHyFi-K8"
      },
      "execution_count": null,
      "outputs": []
    },
    {
      "cell_type": "code",
      "source": [
        "triples_prompt = PromptTemplate(\n",
        "    input_variables=[\"facts\"],\n",
        "    template=\"Take the following list of facts and turn them into triples for a knowledge graph:\\n\\n {facts}\"\n",
        ")"
      ],
      "metadata": {
        "id": "mQ2TNW1emNHu"
      },
      "execution_count": null,
      "outputs": []
    },
    {
      "cell_type": "code",
      "source": [
        "triples_chain = LLMChain(llm=llm, prompt=triples_prompt)\n",
        "\n",
        "triples = triples_chain.run(facts)\n",
        "\n",
        "print(triples)\n",
        "len(triples)"
      ],
      "metadata": {
        "colab": {
          "base_uri": "https://localhost:8080/"
        },
        "outputId": "f9312fc7-2eb8-41e0-92d2-166a764203fc",
        "id": "ZWyFFkDomNH5"
      },
      "execution_count": null,
      "outputs": [
        {
          "output_type": "stream",
          "name": "stdout",
          "text": [
            "\n",
            "\n",
            "1. (Coinbase, released, Q4 2022 earnings)\n",
            "2. (Coinbase, generated, $605 million total revenue)\n",
            "3. (Coinbase, lost, $557 million GAAP basis)\n",
            "4. (Coinbase's stock, had risen, 86% year-to-date)\n",
            "5. (Consumer trading volumes, fell, $26 billion Q3 2022 to $20 billion Q4 2022)\n",
            "6. (Institutional volumes, fell, $133 billion to $125 billion)\n",
            "7. (Overall crypto market capitalization, fell, 64% or $1.5 trillion during 2022)\n",
            "8. (Trading revenue at Coinbase, fell, $365.9 million Q3 2022 to $322.1 million Q4 2022)\n",
            "9. (Coinbase's \"subscription and services revenue\", rose, $210.5 million Q3 2022 to $282.8 million Q4 2022)\n",
            "10. (Monthly active developers in crypto, have more than doubled, since 2020 to over 20,000)\n"
          ]
        },
        {
          "output_type": "execute_result",
          "data": {
            "text/plain": [
              "707"
            ]
          },
          "metadata": {},
          "execution_count": 32
        }
      ]
    },
    {
      "cell_type": "markdown",
      "source": [
        "## Chaining these together"
      ],
      "metadata": {
        "id": "-FNzbLpWnRy4"
      }
    },
    {
      "cell_type": "code",
      "source": [
        "from langchain.chains import SimpleSequentialChain, SequentialChain\n",
        "\n",
        "full_chain = SimpleSequentialChain(chains=[fact_extraction_chain, investor_update_chain], verbose=True)"
      ],
      "metadata": {
        "id": "XZLtU9O-nVya"
      },
      "execution_count": null,
      "outputs": []
    },
    {
      "cell_type": "code",
      "source": [
        "response = full_chain.run(article)"
      ],
      "metadata": {
        "colab": {
          "base_uri": "https://localhost:8080/"
        },
        "id": "fomCgIYCnsQA",
        "outputId": "69fb9403-0b03-484c-d260-0dc9f0150de0"
      },
      "execution_count": null,
      "outputs": [
        {
          "output_type": "stream",
          "name": "stdout",
          "text": [
            "\n",
            "\n",
            "\u001b[1m> Entering new SimpleSequentialChain chain...\u001b[0m\n",
            "\u001b[36;1m\u001b[1;3m\n",
            "1. Coinbase released its Q4 2022 earnings on Tuesday.\n",
            "2. Coinbase generated $605 million in total revenue in Q4 2022.\n",
            "3. Coinbase lost $557 million in the three-month period on a GAAP basis.\n",
            "4. Coinbase's stock had risen 86% year-to-date before its Q4 earnings were released.\n",
            "5. Consumer trading volumes fell from $26 billion in Q3 2022 to $20 billion in Q4 2022.\n",
            "6. Institutional volumes across the same timeframe fell from $133 billion to $125 billion.\n",
            "7. The overall crypto market capitalization fell about 64%, or $1.5 trillion during 2022.\n",
            "8. Trading revenue at Coinbase fell from $365.9 million in Q3 2022 to $322.1 million in Q4 2022.\n",
            "9. Coinbase's \"subscription and services revenue\" rose from $210.5 million in Q3 2022 to $282.8 million in Q4 2022.\n",
            "10. Monthly active developers in crypto have more than doubled since 2020 to over 20,000.\u001b[0m\n",
            "\u001b[33;1m\u001b[1;3m\n",
            "\n",
            "Coinbase released its Q4 2022 earnings on Tuesday, revealing total revenue of $605 million and a GAAP loss of $557 million. Despite the losses, Coinbase's stock had risen 86% year-to-date before its Q4 earnings were released. Consumer trading volumes fell from $26 billion in Q3 2022 to $20 billion in Q4 2022, while institutional volumes fell from $133 billion to $125 billion. The overall crypto market capitalization fell about 64%, or $1.5 trillion during 2022. Trading revenue at Coinbase fell from $365.9 million in Q3 2022 to $322.1 million in Q4 2022, while its \"subscription and services revenue\" rose from $210.5 million in Q3 2022 to $282.8 million in Q4 2022. Despite the market downturn, monthly active developers in crypto have more than doubled since 2020 to over 20,000.\u001b[0m\n",
            "\n",
            "\u001b[1m> Finished chain.\u001b[0m\n"
          ]
        }
      ]
    },
    {
      "cell_type": "code",
      "source": [
        "response"
      ],
      "metadata": {
        "colab": {
          "base_uri": "https://localhost:8080/",
          "height": 139
        },
        "id": "8fGYacnpoYP7",
        "outputId": "c15e6827-ff1d-469a-ff0d-4978aa976b97"
      },
      "execution_count": null,
      "outputs": [
        {
          "output_type": "execute_result",
          "data": {
            "text/plain": [
              "'\\n\\nCoinbase released its Q4 2022 earnings on Tuesday, revealing total revenue of $605 million and a GAAP loss of $557 million. Despite the losses, Coinbase\\'s stock had risen 86% year-to-date before its Q4 earnings were released. Consumer trading volumes fell from $26 billion in Q3 2022 to $20 billion in Q4 2022, while institutional volumes fell from $133 billion to $125 billion. The overall crypto market capitalization fell about 64%, or $1.5 trillion during 2022. Trading revenue at Coinbase fell from $365.9 million in Q3 2022 to $322.1 million in Q4 2022, while its \"subscription and services revenue\" rose from $210.5 million in Q3 2022 to $282.8 million in Q4 2022. Despite the market downturn, monthly active developers in crypto have more than doubled since 2020 to over 20,000.'"
            ],
            "application/vnd.google.colaboratory.intrinsic+json": {
              "type": "string"
            }
          },
          "metadata": {},
          "execution_count": 38
        }
      ]
    },
    {
      "cell_type": "markdown",
      "source": [
        "## PAL Math Chain"
      ],
      "metadata": {
        "id": "2l3HG0YUqLlF"
      }
    },
    {
      "cell_type": "code",
      "source": [
        "from langchain.chains import PALChain"
      ],
      "metadata": {
        "id": "ZF-jpK_XqPK0"
      },
      "execution_count": null,
      "outputs": []
    },
    {
      "cell_type": "code",
      "source": [
        "llm = OpenAI(model_name='code-davinci-002', \n",
        "             temperature=0, \n",
        "             max_tokens=512)"
      ],
      "metadata": {
        "id": "Ggg2goAsqX2F"
      },
      "execution_count": null,
      "outputs": []
    },
    {
      "cell_type": "code",
      "source": [
        "pal_chain = PALChain.from_math_prompt(llm, verbose=True)"
      ],
      "metadata": {
        "id": "d7QPImg8qX9F"
      },
      "execution_count": null,
      "outputs": []
    },
    {
      "cell_type": "code",
      "source": [
        "question = \"Jan has three times the number of pets as Marcia. Marcia has two more pets than Cindy. If Cindy has four pets, how many total pets do the three have?\""
      ],
      "metadata": {
        "id": "bqHtkj5wqYCZ"
      },
      "execution_count": null,
      "outputs": []
    },
    {
      "cell_type": "code",
      "source": [
        "question_02= \"The cafeteria had 23 apples. If they used 20 for lunch and bought 6 more, how many apples do they have?\""
      ],
      "metadata": {
        "id": "2NMqJo2zrYdf"
      },
      "execution_count": null,
      "outputs": []
    },
    {
      "cell_type": "code",
      "source": [
        "pal_chain.run(question_02)"
      ],
      "metadata": {
        "colab": {
          "base_uri": "https://localhost:8080/",
          "height": 261
        },
        "id": "ZOlbkO5Kqv4k",
        "outputId": "18721070-fe09-48f5-8505-03fe0787aa29"
      },
      "execution_count": null,
      "outputs": [
        {
          "output_type": "stream",
          "name": "stdout",
          "text": [
            "\n",
            "\n",
            "\u001b[1m> Entering new PALChain chain...\u001b[0m\n",
            "\u001b[32;1m\u001b[1;3mdef solution():\n",
            "    \"\"\"The cafeteria had 23 apples. If they used 20 for lunch and bought 6 more, how many apples do they have?\"\"\"\n",
            "    apples_initial = 23\n",
            "    apples_used = 20\n",
            "    apples_bought = 6\n",
            "    apples_left = apples_initial - apples_used + apples_bought\n",
            "    result = apples_left\n",
            "    return result\u001b[0m\n",
            "\n",
            "\u001b[1m> Finished chain.\u001b[0m\n"
          ]
        },
        {
          "output_type": "execute_result",
          "data": {
            "text/plain": [
              "'9'"
            ],
            "application/vnd.google.colaboratory.intrinsic+json": {
              "type": "string"
            }
          },
          "metadata": {},
          "execution_count": 47
        }
      ]
    },
    {
      "cell_type": "markdown",
      "source": [
        "## API Chains - OpenMeteo - Weather information\n",
        "\n",
        "can throw errors based on API return length"
      ],
      "metadata": {
        "id": "xidOhWp7rk_5"
      }
    },
    {
      "cell_type": "code",
      "source": [
        "from langchain import OpenAI\n",
        "from langchain.chains.api.prompt import API_RESPONSE_PROMPT\n",
        "\n",
        "from langchain.chains import APIChain\n",
        "from langchain.prompts.prompt import PromptTemplate\n"
      ],
      "metadata": {
        "id": "8p96niVlRPh8"
      },
      "execution_count": null,
      "outputs": []
    },
    {
      "cell_type": "code",
      "source": [
        "llm = OpenAI(temperature=0,\n",
        "             max_tokens=100)"
      ],
      "metadata": {
        "id": "BsPzhnj_RUPy"
      },
      "execution_count": null,
      "outputs": []
    },
    {
      "cell_type": "code",
      "source": [
        "from langchain.chains.api import open_meteo_docs\n",
        "chain_new = APIChain.from_llm_and_api_docs(llm, \n",
        "                                           open_meteo_docs.OPEN_METEO_DOCS, \n",
        "                                           verbose=True)"
      ],
      "metadata": {
        "id": "THJPYYB_cD8U"
      },
      "execution_count": null,
      "outputs": []
    },
    {
      "cell_type": "code",
      "source": [
        "chain_new.run('What is the temperature like right now in Bedok, Singapore in degrees Celcius?')"
      ],
      "metadata": {
        "colab": {
          "base_uri": "https://localhost:8080/",
          "height": 177
        },
        "id": "mkfkkjpzcKym",
        "outputId": "1a52f5b8-43e7-4e31-a5a0-a211b84c01fb"
      },
      "execution_count": null,
      "outputs": [
        {
          "output_type": "stream",
          "name": "stdout",
          "text": [
            "\n",
            "\n",
            "\u001b[1m> Entering new APIChain chain...\u001b[0m\n",
            "\u001b[32;1m\u001b[1;3mhttps://api.open-meteo.com/v1/forecast?latitude=1.3&longitude=103.9&hourly=temperature_2m&current_weather=true&temperature_unit=celsius\u001b[0m\n",
            "\u001b[33;1m\u001b[1;3m{\"latitude\":1.375,\"longitude\":103.875,\"generationtime_ms\":0.38802623748779297,\"utc_offset_seconds\":0,\"timezone\":\"GMT\",\"timezone_abbreviation\":\"GMT\",\"elevation\":6.0,\"current_weather\":{\"temperature\":26.1,\"windspeed\":10.5,\"winddirection\":16.0,\"weathercode\":3,\"time\":\"2023-02-22T14:00\"},\"hourly_units\":{\"time\":\"iso8601\",\"temperature_2m\":\"°C\"},\"hourly\":{\"time\":[\"2023-02-22T00:00\",\"2023-02-22T01:00\",\"2023-02-22T02:00\",\"2023-02-22T03:00\",\"2023-02-22T04:00\",\"2023-02-22T05:00\",\"2023-02-22T06:00\",\"2023-02-22T07:00\",\"2023-02-22T08:00\",\"2023-02-22T09:00\",\"2023-02-22T10:00\",\"2023-02-22T11:00\",\"2023-02-22T12:00\",\"2023-02-22T13:00\",\"2023-02-22T14:00\",\"2023-02-22T15:00\",\"2023-02-22T16:00\",\"2023-02-22T17:00\",\"2023-02-22T18:00\",\"2023-02-22T19:00\",\"2023-02-22T20:00\",\"2023-02-22T21:00\",\"2023-02-22T22:00\",\"2023-02-22T23:00\",\"2023-02-23T00:00\",\"2023-02-23T01:00\",\"2023-02-23T02:00\",\"2023-02-23T03:00\",\"2023-02-23T04:00\",\"2023-02-23T05:00\",\"2023-02-23T06:00\",\"2023-02-23T07:00\",\"2023-02-23T08:00\",\"2023-02-23T09:00\",\"2023-02-23T10:00\",\"2023-02-23T11:00\",\"2023-02-23T12:00\",\"2023-02-23T13:00\",\"2023-02-23T14:00\",\"2023-02-23T15:00\",\"2023-02-23T16:00\",\"2023-02-23T17:00\",\"2023-02-23T18:00\",\"2023-02-23T19:00\",\"2023-02-23T20:00\",\"2023-02-23T21:00\",\"2023-02-23T22:00\",\"2023-02-23T23:00\",\"2023-02-24T00:00\",\"2023-02-24T01:00\",\"2023-02-24T02:00\",\"2023-02-24T03:00\",\"2023-02-24T04:00\",\"2023-02-24T05:00\",\"2023-02-24T06:00\",\"2023-02-24T07:00\",\"2023-02-24T08:00\",\"2023-02-24T09:00\",\"2023-02-24T10:00\",\"2023-02-24T11:00\",\"2023-02-24T12:00\",\"2023-02-24T13:00\",\"2023-02-24T14:00\",\"2023-02-24T15:00\",\"2023-02-24T16:00\",\"2023-02-24T17:00\",\"2023-02-24T18:00\",\"2023-02-24T19:00\",\"2023-02-24T20:00\",\"2023-02-24T21:00\",\"2023-02-24T22:00\",\"2023-02-24T23:00\",\"2023-02-25T00:00\",\"2023-02-25T01:00\",\"2023-02-25T02:00\",\"2023-02-25T03:00\",\"2023-02-25T04:00\",\"2023-02-25T05:00\",\"2023-02-25T06:00\",\"2023-02-25T07:00\",\"2023-02-25T08:00\",\"2023-02-25T09:00\",\"2023-02-25T10:00\",\"2023-02-25T11:00\",\"2023-02-25T12:00\",\"2023-02-25T13:00\",\"2023-02-25T14:00\",\"2023-02-25T15:00\",\"2023-02-25T16:00\",\"2023-02-25T17:00\",\"2023-02-25T18:00\",\"2023-02-25T19:00\",\"2023-02-25T20:00\",\"2023-02-25T21:00\",\"2023-02-25T22:00\",\"2023-02-25T23:00\",\"2023-02-26T00:00\",\"2023-02-26T01:00\",\"2023-02-26T02:00\",\"2023-02-26T03:00\",\"2023-02-26T04:00\",\"2023-02-26T05:00\",\"2023-02-26T06:00\",\"2023-02-26T07:00\",\"2023-02-26T08:00\",\"2023-02-26T09:00\",\"2023-02-26T10:00\",\"2023-02-26T11:00\",\"2023-02-26T12:00\",\"2023-02-26T13:00\",\"2023-02-26T14:00\",\"2023-02-26T15:00\",\"2023-02-26T16:00\",\"2023-02-26T17:00\",\"2023-02-26T18:00\",\"2023-02-26T19:00\",\"2023-02-26T20:00\",\"2023-02-26T21:00\",\"2023-02-26T22:00\",\"2023-02-26T23:00\",\"2023-02-27T00:00\",\"2023-02-27T01:00\",\"2023-02-27T02:00\",\"2023-02-27T03:00\",\"2023-02-27T04:00\",\"2023-02-27T05:00\",\"2023-02-27T06:00\",\"2023-02-27T07:00\",\"2023-02-27T08:00\",\"2023-02-27T09:00\",\"2023-02-27T10:00\",\"2023-02-27T11:00\",\"2023-02-27T12:00\",\"2023-02-27T13:00\",\"2023-02-27T14:00\",\"2023-02-27T15:00\",\"2023-02-27T16:00\",\"2023-02-27T17:00\",\"2023-02-27T18:00\",\"2023-02-27T19:00\",\"2023-02-27T20:00\",\"2023-02-27T21:00\",\"2023-02-27T22:00\",\"2023-02-27T23:00\",\"2023-02-28T00:00\",\"2023-02-28T01:00\",\"2023-02-28T02:00\",\"2023-02-28T03:00\",\"2023-02-28T04:00\",\"2023-02-28T05:00\",\"2023-02-28T06:00\",\"2023-02-28T07:00\",\"2023-02-28T08:00\",\"2023-02-28T09:00\",\"2023-02-28T10:00\",\"2023-02-28T11:00\",\"2023-02-28T12:00\",\"2023-02-28T13:00\",\"2023-02-28T14:00\",\"2023-02-28T15:00\",\"2023-02-28T16:00\",\"2023-02-28T17:00\",\"2023-02-28T18:00\",\"2023-02-28T19:00\",\"2023-02-28T20:00\",\"2023-02-28T21:00\",\"2023-02-28T22:00\",\"2023-02-28T23:00\"],\"temperature_2m\":[25.1,26.0,27.4,28.4,29.3,29.9,30.0,29.5,29.6,29.0,28.3,27.6,26.8,26.3,26.1,25.9,25.7,25.6,25.4,25.2,25.1,25.0,24.9,24.8,25.0,26.2,27.8,29.3,30.2,31.0,30.9,31.0,30.9,30.2,29.4,28.4,27.4,26.7,26.3,25.9,25.6,25.5,25.4,25.3,25.2,25.0,24.9,24.9,25.1,26.1,27.5,29.2,30.4,31.1,31.3,31.7,31.4,31.0,29.9,28.6,27.5,26.8,26.4,26.0,25.7,25.4,25.2,25.1,25.0,24.9,24.9,25.0,25.2,26.2,27.6,29.1,29.7,29.9,30.1,29.7,29.0,28.6,27.8,27.3,26.5,26.1,26.0,25.8,25.7,25.6,25.5,25.5,25.4,25.4,25.3,25.2,25.3,25.8,26.4,27.1,27.4,27.5,27.6,27.5,27.2,26.8,26.5,26.1,25.7,25.5,25.4,25.3,25.1,25.0,24.9,24.8,24.8,24.9,24.8,24.8,25.0,25.5,26.1,26.9,27.2,27.5,27.6,28.0,27.8,27.4,27.1,26.6,26.1,25.9,25.8,25.6,25.4,25.3,25.1,25.1,25.0,25.0,24.9,24.9,25.0,25.4,25.9,26.6,27.0,27.3,27.6,27.5,27.2,26.8,26.4,26.1,25.7,25.5,25.4,25.3,25.2,25.1,25.0,24.9,24.9,24.9,24.9,24.9]}}\u001b[0m\n",
            "\n",
            "\u001b[1m> Finished chain.\u001b[0m\n"
          ]
        },
        {
          "output_type": "execute_result",
          "data": {
            "text/plain": [
              "' The temperature right now in Bedok, Singapore is 26.1 degrees Celcius.'"
            ],
            "application/vnd.google.colaboratory.intrinsic+json": {
              "type": "string"
            }
          },
          "metadata": {},
          "execution_count": 96
        }
      ]
    },
    {
      "cell_type": "code",
      "source": [
        "chain_new.run('Is it raining in Singapore?')"
      ],
      "metadata": {
        "colab": {
          "base_uri": "https://localhost:8080/",
          "height": 194
        },
        "id": "0qziCnvURUkI",
        "outputId": "a7af19be-df86-4f2a-adfa-1e6f373ec598"
      },
      "execution_count": null,
      "outputs": [
        {
          "output_type": "stream",
          "name": "stdout",
          "text": [
            "\n",
            "\n",
            "\u001b[1m> Entering new APIChain chain...\u001b[0m\n",
            "\u001b[32;1m\u001b[1;3mhttps://api.open-meteo.com/v1/forecast?latitude=1.3521&longitude=103.8198&current_weather=true&rain=true\u001b[0m\n",
            "\u001b[33;1m\u001b[1;3m{\"latitude\":1.375,\"longitude\":103.875,\"generationtime_ms\":0.41103363037109375,\"utc_offset_seconds\":0,\"timezone\":\"GMT\",\"timezone_abbreviation\":\"GMT\",\"elevation\":46.0,\"current_weather\":{\"temperature\":25.8,\"windspeed\":10.5,\"winddirection\":16.0,\"weathercode\":3,\"time\":\"2023-02-22T14:00\"}}\u001b[0m\n",
            "\n",
            "\u001b[1m> Finished chain.\u001b[0m\n"
          ]
        },
        {
          "output_type": "execute_result",
          "data": {
            "text/plain": [
              "' It is currently 25.8°C in Singapore with a windspeed of 10.5 km/h and a winddirection of 16°. The weathercode is 3, which indicates that it is currently raining in Singapore.'"
            ],
            "application/vnd.google.colaboratory.intrinsic+json": {
              "type": "string"
            }
          },
          "metadata": {},
          "execution_count": 97
        }
      ]
    },
    {
      "cell_type": "code",
      "source": [
        "# chain_new."
      ],
      "metadata": {
        "id": "LcZKznlUTyJH"
      },
      "execution_count": null,
      "outputs": []
    },
    {
      "cell_type": "code",
      "source": [],
      "metadata": {
        "id": "zN6kl7u7eK1l"
      },
      "execution_count": null,
      "outputs": []
    }
  ]
}