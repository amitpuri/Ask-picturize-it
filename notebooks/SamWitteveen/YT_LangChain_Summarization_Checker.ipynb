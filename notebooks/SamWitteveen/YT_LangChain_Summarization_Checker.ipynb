{
  "nbformat": 4,
  "nbformat_minor": 0,
  "metadata": {
    "colab": {
      "provenance": []
    },
    "kernelspec": {
      "name": "python3",
      "display_name": "Python 3"
    },
    "language_info": {
      "name": "python"
    }
  },
  "cells": [
    {
      "cell_type": "markdown",
      "source": [
        "# LangChain - Summarization Checker\n",
        "\n",
        "https://langchain.readthedocs.io/en/latest/modules/chains/examples/llm_summarization_checker.html"
      ],
      "metadata": {
        "id": "Fj7nPx90FuOA"
      }
    },
    {
      "cell_type": "code",
      "source": [
        "!pip -q install openai==0.27.0 langchain huggingface_hub"
      ],
      "metadata": {
        "colab": {
          "base_uri": "https://localhost:8080/"
        },
        "id": "sHkg8P8_d7hP",
        "outputId": "dda47246-bea2-4431-ddb7-b7593d1a3468"
      },
      "execution_count": null,
      "outputs": [
        {
          "output_type": "stream",
          "name": "stdout",
          "text": [
            "\u001b[2K     \u001b[90m━━━━━━━━━━━━━━━━━━━━━━━━━━━━━━━━━━━━━━━━\u001b[0m \u001b[32m70.1/70.1 KB\u001b[0m \u001b[31m2.2 MB/s\u001b[0m eta \u001b[36m0:00:00\u001b[0m\n",
            "\u001b[2K     \u001b[90m━━━━━━━━━━━━━━━━━━━━━━━━━━━━━━━━━━━━━━\u001b[0m \u001b[32m371.9/371.9 KB\u001b[0m \u001b[31m12.4 MB/s\u001b[0m eta \u001b[36m0:00:00\u001b[0m\n",
            "\u001b[2K     \u001b[90m━━━━━━━━━━━━━━━━━━━━━━━━━━━━━━━━━━━━━━━\u001b[0m \u001b[32m199.2/199.2 KB\u001b[0m \u001b[31m9.2 MB/s\u001b[0m eta \u001b[36m0:00:00\u001b[0m\n",
            "\u001b[2K     \u001b[90m━━━━━━━━━━━━━━━━━━━━━━━━━━━━━━━━━━━━━━━━\u001b[0m \u001b[32m1.0/1.0 MB\u001b[0m \u001b[31m20.1 MB/s\u001b[0m eta \u001b[36m0:00:00\u001b[0m\n",
            "\u001b[2K     \u001b[90m━━━━━━━━━━━━━━━━━━━━━━━━━━━━━━━━━━━━━━━\u001b[0m \u001b[32m114.2/114.2 KB\u001b[0m \u001b[31m2.8 MB/s\u001b[0m eta \u001b[36m0:00:00\u001b[0m\n",
            "\u001b[2K     \u001b[90m━━━━━━━━━━━━━━━━━━━━━━━━━━━━━━━━━━━━━━\u001b[0m \u001b[32m264.6/264.6 KB\u001b[0m \u001b[31m12.4 MB/s\u001b[0m eta \u001b[36m0:00:00\u001b[0m\n",
            "\u001b[2K     \u001b[90m━━━━━━━━━━━━━━━━━━━━━━━━━━━━━━━━━━━━━━━\u001b[0m \u001b[32m158.8/158.8 KB\u001b[0m \u001b[31m6.1 MB/s\u001b[0m eta \u001b[36m0:00:00\u001b[0m\n",
            "\u001b[2K     \u001b[90m━━━━━━━━━━━━━━━━━━━━━━━━━━━━━━━━━━━━━━━\u001b[0m \u001b[32m199.2/199.2 KB\u001b[0m \u001b[31m7.9 MB/s\u001b[0m eta \u001b[36m0:00:00\u001b[0m\n",
            "\u001b[2K     \u001b[90m━━━━━━━━━━━━━━━━━━━━━━━━━━━━━━━━━━━━━━━━\u001b[0m \u001b[32m49.1/49.1 KB\u001b[0m \u001b[31m4.2 MB/s\u001b[0m eta \u001b[36m0:00:00\u001b[0m\n",
            "\u001b[?25h"
          ]
        }
      ]
    },
    {
      "cell_type": "code",
      "source": [
        "import os\n",
        "\n",
        "os.environ[\"OPENAI_API_KEY\"] = \"\""
      ],
      "metadata": {
        "id": "ViFWqqq_d8mR"
      },
      "execution_count": null,
      "outputs": []
    },
    {
      "cell_type": "code",
      "source": [
        "from langchain.prompts import PromptTemplate\n",
        "from langchain.llms import OpenAI\n",
        "from langchain.chains import LLMChain\n",
        "import textwrap"
      ],
      "metadata": {
        "id": "-lzO5PfUpwfv"
      },
      "execution_count": null,
      "outputs": []
    },
    {
      "cell_type": "code",
      "source": [
        "llm = OpenAI(model_name='text-davinci-003', \n",
        "             temperature=0, \n",
        "             max_tokens = 256)"
      ],
      "metadata": {
        "id": "sTiEn3tKp7mZ"
      },
      "execution_count": null,
      "outputs": []
    },
    {
      "cell_type": "code",
      "source": [
        "article = '''Coinbase, the second-largest crypto exchange by trading volume, released its Q4 2022 earnings on Tuesday, giving shareholders and market players alike an updated look into its financials. In response to the report, the company's shares are down modestly in early after-hours trading.In the fourth quarter of 2022, Coinbase generated $605 million in total revenue, down sharply from $2.49 billion in the year-ago quarter. Coinbase's top line was not enough to cover its expenses: The company lost $557 million in the three-month period on a GAAP basis (net income) worth -$2.46 per share, and an adjusted EBITDA deficit of $124 million.Wall Street expected Coinbase to report $581.2 million in revenue and earnings per share of -$2.44 with adjusted EBITDA of -$201.8 million driven by 8.4 million monthly transaction users (MTUs), according to data provided by Yahoo Finance.Before its Q4 earnings were released, Coinbase's stock had risen 86% year-to-date. Even with that rally, the value of Coinbase when measured on a per-share basis is still down significantly from its 52-week high of $206.79.That Coinbase beat revenue expectations is notable in that it came with declines in trading volume; Coinbase historically generated the bulk of its revenues from trading fees, making Q4 2022 notable. Consumer trading volumes fell from $26 billion in the third quarter of last year to $20 billion in Q4, while institutional volumes across the same timeframe fell from $133 billion to $125 billion.The overall crypto market capitalization fell about 64%, or $1.5 trillion during 2022, which resulted in Coinbase's total trading volumes and transaction revenues to fall 50% and 66% year-over-year, respectively, the company reported.As you would expect with declines in trading volume, trading revenue at Coinbase fell in Q4 compared to the third quarter of last year, dipping from $365.9 million to $322.1 million. (TechCrunch is comparing Coinbase's Q4 2022 results to Q3 2022 instead of Q4 2021, as the latter comparison would be less useful given how much the crypto market has changed in the last year; we're all aware that overall crypto activity has fallen from the final months of 2021.)There were bits of good news in the Coinbase report. While Coinbase's trading revenues were less than exuberant, the company's other revenues posted gains. What Coinbase calls its \"subscription and services revenue\" rose from $210.5 million in Q3 2022 to $282.8 million in Q4 of the same year, a gain of just over 34% in a single quarter.And even as the crypto industry faced a number of catastrophic events, including the Terra/LUNA and FTX collapses to name a few, there was still growth in other areas. The monthly active developers in crypto have more than doubled since 2020 to over 20,000, while major brands like Starbucks, Nike and Adidas have dived into the space alongside social media platforms like Instagram and Reddit.With big players getting into crypto, industry players are hoping this move results in greater adoption both for product use cases and trading volumes. Although there was a lot of movement from traditional retail markets and Web 2.0 businesses, trading volume for both consumer and institutional users fell quarter-over-quarter for Coinbase.Looking forward, it'll be interesting to see if these pieces pick back up and trading interest reemerges in 2023, or if platforms like Coinbase will have to keep looking elsewhere for revenue (like its subscription service) if users continue to shy away from the market.\n",
        "'''\n",
        "\n",
        "wrapped_text = textwrap.fill(article, \n",
        "                             width=100,\n",
        "                             break_long_words=False,\n",
        "                             replace_whitespace=False)\n",
        "print(wrapped_text)"
      ],
      "metadata": {
        "id": "WCBfxD4cqXsx",
        "colab": {
          "base_uri": "https://localhost:8080/"
        },
        "outputId": "b9c7e648-c358-4bc3-a07c-8f56813055cf"
      },
      "execution_count": null,
      "outputs": [
        {
          "output_type": "stream",
          "name": "stdout",
          "text": [
            "Coinbase, the second-largest crypto exchange by trading volume, released its Q4 2022 earnings on\n",
            "Tuesday, giving shareholders and market players alike an updated look into its financials. In\n",
            "response to the report, the company's shares are down modestly in early after-hours trading.In the\n",
            "fourth quarter of 2022, Coinbase generated $605 million in total revenue, down sharply from $2.49\n",
            "billion in the year-ago quarter. Coinbase's top line was not enough to cover its expenses: The\n",
            "company lost $557 million in the three-month period on a GAAP basis (net income) worth -$2.46 per\n",
            "share, and an adjusted EBITDA deficit of $124 million.Wall Street expected Coinbase to report $581.2\n",
            "million in revenue and earnings per share of -$2.44 with adjusted EBITDA of -$201.8 million driven\n",
            "by 8.4 million monthly transaction users (MTUs), according to data provided by Yahoo Finance.Before\n",
            "its Q4 earnings were released, Coinbase's stock had risen 86% year-to-date. Even with that rally,\n",
            "the value of Coinbase when measured on a per-share basis is still down significantly from its\n",
            "52-week high of $206.79.That Coinbase beat revenue expectations is notable in that it came with\n",
            "declines in trading volume; Coinbase historically generated the bulk of its revenues from trading\n",
            "fees, making Q4 2022 notable. Consumer trading volumes fell from $26 billion in the third quarter of\n",
            "last year to $20 billion in Q4, while institutional volumes across the same timeframe fell from $133\n",
            "billion to $125 billion.The overall crypto market capitalization fell about 64%, or $1.5 trillion\n",
            "during 2022, which resulted in Coinbase's total trading volumes and transaction revenues to fall 50%\n",
            "and 66% year-over-year, respectively, the company reported.As you would expect with declines in\n",
            "trading volume, trading revenue at Coinbase fell in Q4 compared to the third quarter of last year,\n",
            "dipping from $365.9 million to $322.1 million. (TechCrunch is comparing Coinbase's Q4 2022 results\n",
            "to Q3 2022 instead of Q4 2021, as the latter comparison would be less useful given how much the\n",
            "crypto market has changed in the last year; we're all aware that overall crypto activity has fallen\n",
            "from the final months of 2021.)There were bits of good news in the Coinbase report. While Coinbase's\n",
            "trading revenues were less than exuberant, the company's other revenues posted gains. What Coinbase\n",
            "calls its \"subscription and services revenue\" rose from $210.5 million in Q3 2022 to $282.8 million\n",
            "in Q4 of the same year, a gain of just over 34% in a single quarter.And even as the crypto industry\n",
            "faced a number of catastrophic events, including the Terra/LUNA and FTX collapses to name a few,\n",
            "there was still growth in other areas. The monthly active developers in crypto have more than\n",
            "doubled since 2020 to over 20,000, while major brands like Starbucks, Nike and Adidas have dived\n",
            "into the space alongside social media platforms like Instagram and Reddit.With big players getting\n",
            "into crypto, industry players are hoping this move results in greater adoption both for product use\n",
            "cases and trading volumes. Although there was a lot of movement from traditional retail markets and\n",
            "Web 2.0 businesses, trading volume for both consumer and institutional users fell quarter-over-\n",
            "quarter for Coinbase.Looking forward, it'll be interesting to see if these pieces pick back up and\n",
            "trading interest reemerges in 2023, or if platforms like Coinbase will have to keep looking\n",
            "elsewhere for revenue (like its subscription service) if users continue to shy away from the market.\n"
          ]
        }
      ]
    },
    {
      "cell_type": "code",
      "source": [
        "len(article)"
      ],
      "metadata": {
        "colab": {
          "base_uri": "https://localhost:8080/"
        },
        "id": "eMnYNdKIjJiq",
        "outputId": "6b61bc67-37b8-4d7f-fda3-8b6a0bba26ac"
      },
      "execution_count": null,
      "outputs": [
        {
          "output_type": "execute_result",
          "data": {
            "text/plain": [
              "3533"
            ]
          },
          "metadata": {},
          "execution_count": 6
        }
      ]
    },
    {
      "cell_type": "code",
      "source": [
        "fact_extraction_prompt = PromptTemplate(\n",
        "    input_variables=[\"text_input\"],\n",
        "    template=\"Extract the key facts out of this text. Don't include opinions. \\\n",
        "    Give each fact a number and keep them short sentences. :\\n\\n {text_input}\"\n",
        ")"
      ],
      "metadata": {
        "id": "MgLWAwhFGmVg"
      },
      "execution_count": null,
      "outputs": []
    },
    {
      "cell_type": "code",
      "source": [
        "fact_extraction_chain = LLMChain(llm=llm, prompt=fact_extraction_prompt)\n",
        "\n",
        "facts = fact_extraction_chain.run(article)\n",
        "\n",
        "wrapped_text = textwrap.fill(facts, \n",
        "                             width=100,\n",
        "                             break_long_words=False,\n",
        "                             replace_whitespace=False)\n",
        "print(wrapped_text)"
      ],
      "metadata": {
        "colab": {
          "base_uri": "https://localhost:8080/"
        },
        "id": "wTDX0e2D0jIs",
        "outputId": "75b902b4-e112-47bb-f5e8-a6c4d337b3b6"
      },
      "execution_count": null,
      "outputs": [
        {
          "output_type": "stream",
          "name": "stdout",
          "text": [
            "\n",
            "1. Coinbase released its Q4 2022 earnings on Tuesday. \n",
            "2. Coinbase generated $605 million in total\n",
            "revenue in Q4 2022. \n",
            "3. Coinbase lost $557 million in the three-month period on a GAAP basis. \n",
            "4.\n",
            "Wall Street expected Coinbase to report $581.2 million in revenue. \n",
            "5. Coinbase's stock had risen\n",
            "86% year-to-date before its Q4 earnings were released. \n",
            "6. Coinbase's total trading volumes and\n",
            "transaction revenues fell 50% and 66% year-over-year, respectively. \n",
            "7. Trading revenue at Coinbase\n",
            "fell from $365.9 million to $322.1 million quarter-over-quarter. \n",
            "8. Coinbase's \"subscription and\n",
            "services revenue\" rose from $210.5 million in Q3 2022 to $282.8 million in Q4 of the same year. \n",
            "9.\n",
            "Monthly active developers in crypto have more than doubled since 2020 to over 20,000. \n",
            "10. Major\n",
            "brands like Starbucks, Nike and Adidas have dived into the crypto space.\n"
          ]
        }
      ]
    },
    {
      "cell_type": "markdown",
      "source": [
        "## Summarization Checking"
      ],
      "metadata": {
        "id": "Hc2LsFZOGnod"
      }
    },
    {
      "cell_type": "code",
      "execution_count": null,
      "metadata": {
        "colab": {
          "base_uri": "https://localhost:8080/",
          "height": 1000
        },
        "id": "w52KCuwgFqtP",
        "outputId": "d9207166-d798-4f81-bcaf-ec62566b43b9"
      },
      "outputs": [
        {
          "output_type": "stream",
          "name": "stdout",
          "text": [
            "\n",
            "\n",
            "\u001b[1m> Entering new LLMSummarizationCheckerChain chain...\u001b[0m\n",
            "\n",
            "\n",
            "\u001b[1m> Entering new SequentialChain chain...\u001b[0m\n",
            "\n",
            "\n",
            "\u001b[1m> Entering new LLMChain chain...\u001b[0m\n",
            "Prompt after formatting:\n",
            "\u001b[32;1m\u001b[1;3mGiven some text, extract a list of facts from the text.\n",
            "\n",
            "Format your output as a bulleted list.\n",
            "\n",
            "Text:\n",
            "\"\"\"\n",
            "Coinbase, the second-largest crypto exchange by trading volume, released its Q4 2022 earnings on Tuesday, giving shareholders and market players alike an updated look into its financials. In response to the report, the company's shares are down modestly in early after-hours trading.In the fourth quarter of 2022, Coinbase generated $605 million in total revenue, down sharply from $2.49 billion in the year-ago quarter. Coinbase's top line was not enough to cover its expenses: The company lost $557 million in the three-month period on a GAAP basis (net income) worth -$2.46 per share, and an adjusted EBITDA deficit of $124 million.Wall Street expected Coinbase to report $581.2 million in revenue and earnings per share of -$2.44 with adjusted EBITDA of -$201.8 million driven by 8.4 million monthly transaction users (MTUs), according to data provided by Yahoo Finance.Before its Q4 earnings were released, Coinbase's stock had risen 86% year-to-date. Even with that rally, the value of Coinbase when measured on a per-share basis is still down significantly from its 52-week high of $206.79.That Coinbase beat revenue expectations is notable in that it came with declines in trading volume; Coinbase historically generated the bulk of its revenues from trading fees, making Q4 2022 notable. Consumer trading volumes fell from $26 billion in the third quarter of last year to $20 billion in Q4, while institutional volumes across the same timeframe fell from $133 billion to $125 billion.The overall crypto market capitalization fell about 64%, or $1.5 trillion during 2022, which resulted in Coinbase's total trading volumes and transaction revenues to fall 50% and 66% year-over-year, respectively, the company reported.As you would expect with declines in trading volume, trading revenue at Coinbase fell in Q4 compared to the third quarter of last year, dipping from $365.9 million to $322.1 million. (TechCrunch is comparing Coinbase's Q4 2022 results to Q3 2022 instead of Q4 2021, as the latter comparison would be less useful given how much the crypto market has changed in the last year; we're all aware that overall crypto activity has fallen from the final months of 2021.)There were bits of good news in the Coinbase report. While Coinbase's trading revenues were less than exuberant, the company's other revenues posted gains. What Coinbase calls its \"subscription and services revenue\" rose from $210.5 million in Q3 2022 to $282.8 million in Q4 of the same year, a gain of just over 34% in a single quarter.And even as the crypto industry faced a number of catastrophic events, including the Terra/LUNA and FTX collapses to name a few, there was still growth in other areas. The monthly active developers in crypto have more than doubled since 2020 to over 20,000, while major brands like Starbucks, Nike and Adidas have dived into the space alongside social media platforms like Instagram and Reddit.With big players getting into crypto, industry players are hoping this move results in greater adoption both for product use cases and trading volumes. Although there was a lot of movement from traditional retail markets and Web 2.0 businesses, trading volume for both consumer and institutional users fell quarter-over-quarter for Coinbase.Looking forward, it'll be interesting to see if these pieces pick back up and trading interest reemerges in 2023, or if platforms like Coinbase will have to keep looking elsewhere for revenue (like its subscription service) if users continue to shy away from the market.\n",
            "\n",
            "\"\"\"\n",
            "\n",
            "Facts:\u001b[0m\n",
            "\n",
            "\u001b[1m> Finished chain.\u001b[0m\n",
            "\n",
            "\n",
            "\u001b[1m> Entering new LLMChain chain...\u001b[0m\n",
            "Prompt after formatting:\n",
            "\u001b[32;1m\u001b[1;3mYou are an expert fact checker. You have been hired by a major news organization to fact check a very important story.\n",
            "\n",
            "Here is a bullet point list of facts:\n",
            "\"\"\"\n",
            "\n",
            "- Coinbase released its Q4 2022 earnings on Tuesday\n",
            "- Coinbase generated $605 million in total revenue in Q4 2022, down sharply from $2.49 billion in the year-ago quarter\n",
            "- Coinbase lost $557 million in the three-month period on a GAAP basis (net income) worth -$2.46 per share, and an adjusted EBITDA deficit of $124 million\n",
            "- Wall Street expected Coinbase to report $581.2 million in revenue and earnings per share of -$2.44 with adjusted EBITDA of -$201.8 million\n",
            "- Coinbase's stock had risen 86% year-to-date before its Q4 earnings were released\n",
            "- Coinbase beat revenue expectations despite declines in trading volume\n",
            "- Consumer trading volumes fell from $26 billion in the third quarter of last year to $20 billion in Q4, while institutional volumes across the same timeframe fell from $133 billion to $125 billion\n",
            "- The overall crypto market capitalization fell about 64%, or $1.5 trillion during 2022\n",
            "- Coinbase's total trading volumes and transaction revenues fell 50% and 66% year-over-year, respectively\n",
            "- Trading revenue at Coinbase fell from $365.9 million to $322.1 million quarter-\n",
            "\"\"\"\n",
            "\n",
            "For each fact, determine whether it is true or false about the subject. If you are unable to determine whether the fact is true or false, output \"Undetermined\".\n",
            "If the fact is false, explain why.\n",
            "\n",
            "\u001b[0m\n",
            "\n",
            "\u001b[1m> Finished chain.\u001b[0m\n",
            "\n",
            "\n",
            "\u001b[1m> Entering new LLMChain chain...\u001b[0m\n",
            "Prompt after formatting:\n",
            "\u001b[32;1m\u001b[1;3mBelow are some assertions that have been fact checked and are labeled as true of false.  If the answer is false, a suggestion is given for a correction.\n",
            "\n",
            "Checked Assertions:\n",
            "\"\"\"\n",
            "\n",
            "- Coinbase released its Q4 2022 earnings on Tuesday: True\n",
            "\n",
            "- Coinbase generated $605 million in total revenue in Q4 2022, down sharply from $2.49 billion in the year-ago quarter: True\n",
            "\n",
            "- Coinbase lost $557 million in the three-month period on a GAAP basis (net income) worth -$2.46 per share, and an adjusted EBITDA deficit of $124 million: True\n",
            "\n",
            "- Wall Street expected Coinbase to report $581.2 million in revenue and earnings per share of -$2.44 with adjusted EBITDA of -$201.8 million: True\n",
            "\n",
            "- Coinbase's stock had risen 86% year-to-date before its Q4 earnings were released: True\n",
            "\n",
            "- Coinbase beat revenue expectations despite declines in trading volume: True\n",
            "\n",
            "- Consumer trading volumes fell from $26 billion in the third quarter of last year to $20 billion in Q4, while institutional volumes across the same timeframe fell from $133 billion to $125 billion: True\n",
            "\n",
            "- The overall crypto market capitalization fell about 64%, or $1.5 trillion during 2022: True\n",
            "\n",
            "- Coinbase's total trading volumes and transaction revenues fell 50% and 66% year-over-\n",
            "\"\"\"\n",
            "\n",
            "Original Summary:\n",
            "\"\"\"\n",
            "Coinbase, the second-largest crypto exchange by trading volume, released its Q4 2022 earnings on Tuesday, giving shareholders and market players alike an updated look into its financials. In response to the report, the company's shares are down modestly in early after-hours trading.In the fourth quarter of 2022, Coinbase generated $605 million in total revenue, down sharply from $2.49 billion in the year-ago quarter. Coinbase's top line was not enough to cover its expenses: The company lost $557 million in the three-month period on a GAAP basis (net income) worth -$2.46 per share, and an adjusted EBITDA deficit of $124 million.Wall Street expected Coinbase to report $581.2 million in revenue and earnings per share of -$2.44 with adjusted EBITDA of -$201.8 million driven by 8.4 million monthly transaction users (MTUs), according to data provided by Yahoo Finance.Before its Q4 earnings were released, Coinbase's stock had risen 86% year-to-date. Even with that rally, the value of Coinbase when measured on a per-share basis is still down significantly from its 52-week high of $206.79.That Coinbase beat revenue expectations is notable in that it came with declines in trading volume; Coinbase historically generated the bulk of its revenues from trading fees, making Q4 2022 notable. Consumer trading volumes fell from $26 billion in the third quarter of last year to $20 billion in Q4, while institutional volumes across the same timeframe fell from $133 billion to $125 billion.The overall crypto market capitalization fell about 64%, or $1.5 trillion during 2022, which resulted in Coinbase's total trading volumes and transaction revenues to fall 50% and 66% year-over-year, respectively, the company reported.As you would expect with declines in trading volume, trading revenue at Coinbase fell in Q4 compared to the third quarter of last year, dipping from $365.9 million to $322.1 million. (TechCrunch is comparing Coinbase's Q4 2022 results to Q3 2022 instead of Q4 2021, as the latter comparison would be less useful given how much the crypto market has changed in the last year; we're all aware that overall crypto activity has fallen from the final months of 2021.)There were bits of good news in the Coinbase report. While Coinbase's trading revenues were less than exuberant, the company's other revenues posted gains. What Coinbase calls its \"subscription and services revenue\" rose from $210.5 million in Q3 2022 to $282.8 million in Q4 of the same year, a gain of just over 34% in a single quarter.And even as the crypto industry faced a number of catastrophic events, including the Terra/LUNA and FTX collapses to name a few, there was still growth in other areas. The monthly active developers in crypto have more than doubled since 2020 to over 20,000, while major brands like Starbucks, Nike and Adidas have dived into the space alongside social media platforms like Instagram and Reddit.With big players getting into crypto, industry players are hoping this move results in greater adoption both for product use cases and trading volumes. Although there was a lot of movement from traditional retail markets and Web 2.0 businesses, trading volume for both consumer and institutional users fell quarter-over-quarter for Coinbase.Looking forward, it'll be interesting to see if these pieces pick back up and trading interest reemerges in 2023, or if platforms like Coinbase will have to keep looking elsewhere for revenue (like its subscription service) if users continue to shy away from the market.\n",
            "\n",
            "\"\"\"\n",
            "\n",
            "Using these checked assertions, rewrite the original summary to be completely true.\n",
            "\n",
            "The output should have the same structure and formatting as the original summary.\n",
            "\n",
            "Summary:\u001b[0m\n",
            "\n",
            "\u001b[1m> Finished chain.\u001b[0m\n",
            "\n",
            "\n",
            "\u001b[1m> Entering new LLMChain chain...\u001b[0m\n",
            "Prompt after formatting:\n",
            "\u001b[32;1m\u001b[1;3mBelow are some assertions that have been fact checked and are labeled as true or false.\n",
            "\n",
            "If all of the assertions are true, return \"True\". If any of the assertions are false, return \"False\".\n",
            "\n",
            "Here are some examples:\n",
            "===\n",
            "\n",
            "Checked Assertions: \"\"\"\n",
            "- The sky is red: False\n",
            "- Water is made of lava: False\n",
            "- The sun is a star: True\n",
            "\"\"\"\n",
            "Result: False\n",
            "\n",
            "===\n",
            "\n",
            "Checked Assertions: \"\"\"\n",
            "- The sky is blue: True\n",
            "- Water is wet: True\n",
            "- The sun is a star: True\n",
            "\"\"\"\n",
            "Result: True\n",
            "\n",
            "===\n",
            "\n",
            "Checked Assertions: \"\"\"\n",
            "- The sky is blue - True\n",
            "- Water is made of lava- False\n",
            "- The sun is a star - True\n",
            "\"\"\"\n",
            "Result: False\n",
            "\n",
            "===\n",
            "\n",
            "Checked Assertions:\"\"\"\n",
            "\n",
            "- Coinbase released its Q4 2022 earnings on Tuesday: True\n",
            "\n",
            "- Coinbase generated $605 million in total revenue in Q4 2022, down sharply from $2.49 billion in the year-ago quarter: True\n",
            "\n",
            "- Coinbase lost $557 million in the three-month period on a GAAP basis (net income) worth -$2.46 per share, and an adjusted EBITDA deficit of $124 million: True\n",
            "\n",
            "- Wall Street expected Coinbase to report $581.2 million in revenue and earnings per share of -$2.44 with adjusted EBITDA of -$201.8 million: True\n",
            "\n",
            "- Coinbase's stock had risen 86% year-to-date before its Q4 earnings were released: True\n",
            "\n",
            "- Coinbase beat revenue expectations despite declines in trading volume: True\n",
            "\n",
            "- Consumer trading volumes fell from $26 billion in the third quarter of last year to $20 billion in Q4, while institutional volumes across the same timeframe fell from $133 billion to $125 billion: True\n",
            "\n",
            "- The overall crypto market capitalization fell about 64%, or $1.5 trillion during 2022: True\n",
            "\n",
            "- Coinbase's total trading volumes and transaction revenues fell 50% and 66% year-over-\n",
            "\"\"\"\n",
            "Result:\u001b[0m\n",
            "\n",
            "\u001b[1m> Finished chain.\u001b[0m\n",
            "\n",
            "\u001b[1m> Finished chain.\u001b[0m\n",
            "\n",
            "\u001b[1m> Finished chain.\u001b[0m\n"
          ]
        },
        {
          "output_type": "execute_result",
          "data": {
            "text/plain": [
              "\"Coinbase, the second-largest crypto exchange by trading volume, released its Q4 2022 earnings on Tuesday, giving shareholders and market players alike an updated look into its financials. In response to the report, the company's shares are down modestly in early after-hours trading.In the fourth quarter of 2022, Coinbase generated $605 million in total revenue, down sharply from $2.49 billion in the year-ago quarter. Coinbase's top line was not enough to cover its expenses: The company lost $557 million in the three-month period on a GAAP basis (net income) worth -$2.46 per share, and an adjusted EBITDA deficit of $124 million.Wall Street expected Coinbase to report $581.2 million in revenue and earnings per share of -$2.44 with adjusted EBITDA of -$201.8 million driven by 8.4 million monthly transaction users (MTUs), according to data provided by Yahoo Finance.Before its Q4 earnings were released, Coinbase's stock had risen 86% year-to-date. Despite the rally, the value of Coinbase when measured on a per-share basis is still down significantly from its 52-week high of $206.79.Coinbase beat revenue\""
            ],
            "application/vnd.google.colaboratory.intrinsic+json": {
              "type": "string"
            }
          },
          "metadata": {},
          "execution_count": 10
        }
      ],
      "source": [
        "from langchain.chains import LLMSummarizationCheckerChain\n",
        "from langchain.llms import OpenAI\n",
        "\n",
        "llm = OpenAI(temperature=0)\n",
        "\n",
        "checker_chain = LLMSummarizationCheckerChain(llm=llm, \n",
        "                                             verbose=True, \n",
        "                                             max_checks=2\n",
        "                                             )\n",
        "\n",
        "final_summary = checker_chain.run(article)\n",
        "final_summary"
      ]
    },
    {
      "cell_type": "code",
      "source": [
        "len(final_summary)"
      ],
      "metadata": {
        "colab": {
          "base_uri": "https://localhost:8080/"
        },
        "id": "9_qJs-KS2Cd3",
        "outputId": "7479a457-13d1-4ce0-b47a-4175dd82f61a"
      },
      "execution_count": null,
      "outputs": [
        {
          "output_type": "execute_result",
          "data": {
            "text/plain": [
              "1115"
            ]
          },
          "metadata": {},
          "execution_count": 11
        }
      ]
    },
    {
      "cell_type": "code",
      "source": [
        "checker_chain.create_assertions_prompt.template"
      ],
      "metadata": {
        "id": "c_Ewi8vZ2y6x",
        "colab": {
          "base_uri": "https://localhost:8080/",
          "height": 53
        },
        "outputId": "208298e8-3ad6-4120-dd24-036d17c024ca"
      },
      "execution_count": null,
      "outputs": [
        {
          "output_type": "execute_result",
          "data": {
            "text/plain": [
              "'Given some text, extract a list of facts from the text.\\n\\nFormat your output as a bulleted list.\\n\\nText:\\n\"\"\"\\n{summary}\\n\"\"\"\\n\\nFacts:'"
            ],
            "application/vnd.google.colaboratory.intrinsic+json": {
              "type": "string"
            }
          },
          "metadata": {},
          "execution_count": 15
        }
      ]
    },
    {
      "cell_type": "markdown",
      "source": [
        "Given some text, extract a list of facts from the text.\n",
        "\n",
        "Format your output as a bulleted list.\n",
        "\n",
        "Text:\n",
        "\"\"\"\n",
        "{summary}\n",
        "\"\"\"\n",
        "\n",
        "Facts:"
      ],
      "metadata": {
        "id": "PAo3_GHeNop7"
      }
    },
    {
      "cell_type": "code",
      "source": [
        "checker_chain.check_assertions_prompt.template"
      ],
      "metadata": {
        "colab": {
          "base_uri": "https://localhost:8080/",
          "height": 105
        },
        "id": "xEimZ71wKQIZ",
        "outputId": "ee686f92-92c2-41ea-bdbf-6f316f0e44e3"
      },
      "execution_count": null,
      "outputs": [
        {
          "output_type": "execute_result",
          "data": {
            "text/plain": [
              "'You are an expert fact checker. You have been hired by a major news organization to fact check a very important story.\\n\\nHere is a bullet point list of facts:\\n\"\"\"\\n{assertions}\\n\"\"\"\\n\\nFor each fact, determine whether it is true or false about the subject. If you are unable to determine whether the fact is true or false, output \"Undetermined\".\\nIf the fact is false, explain why.\\n\\n'"
            ],
            "application/vnd.google.colaboratory.intrinsic+json": {
              "type": "string"
            }
          },
          "metadata": {},
          "execution_count": 17
        }
      ]
    },
    {
      "cell_type": "markdown",
      "source": [
        "You are an expert fact checker. You have been hired by a major news organization to fact check a very important story.\n",
        "\n",
        "Here is a bullet point list of facts:\n",
        "\"\"\"\n",
        "{assertions}\n",
        "\"\"\"\n",
        "\n",
        "For each fact, determine whether it is true or false about the subject. If you are unable to determine whether the fact is true or false, output \"Undetermined\".\n",
        "If the fact is false, explain why.\n",
        "\n"
      ],
      "metadata": {
        "id": "JR8Nal85Nm3K"
      }
    },
    {
      "cell_type": "code",
      "source": [
        "checker_chain.revised_summary_prompt.template"
      ],
      "metadata": {
        "colab": {
          "base_uri": "https://localhost:8080/",
          "height": 105
        },
        "id": "8Xh-9O_UKk2g",
        "outputId": "57270ce1-3569-453c-e09a-9d0061efca76"
      },
      "execution_count": null,
      "outputs": [
        {
          "output_type": "execute_result",
          "data": {
            "text/plain": [
              "'Below are some assertions that have been fact checked and are labeled as true of false.  If the answer is false, a suggestion is given for a correction.\\n\\nChecked Assertions:\\n\"\"\"\\n{checked_assertions}\\n\"\"\"\\n\\nOriginal Summary:\\n\"\"\"\\n{summary}\\n\"\"\"\\n\\nUsing these checked assertions, rewrite the original summary to be completely true.\\n\\nThe output should have the same structure and formatting as the original summary.\\n\\nSummary:'"
            ],
            "application/vnd.google.colaboratory.intrinsic+json": {
              "type": "string"
            }
          },
          "metadata": {},
          "execution_count": 19
        }
      ]
    },
    {
      "cell_type": "markdown",
      "source": [
        "Below are some assertions that have been fact checked and are labeled as true of false.  If the answer is false, a suggestion is given for a correction.\n",
        "\n",
        "Checked Assertions:\n",
        "\"\"\"\n",
        "{checked_assertions}\n",
        "\"\"\"\n",
        "\n",
        "Original Summary:\n",
        "\"\"\"\n",
        "{summary}\n",
        "\"\"\"\n",
        "\n",
        "Using these checked assertions, rewrite the original summary to be completely true.\n",
        "\n",
        "The output should have the same structure and formatting as the original summary.\n",
        "\n",
        "Summary:"
      ],
      "metadata": {
        "id": "B8A_wVMTNjPf"
      }
    },
    {
      "cell_type": "code",
      "source": [
        "checker_chain.are_all_true_prompt.template"
      ],
      "metadata": {
        "colab": {
          "base_uri": "https://localhost:8080/",
          "height": 139
        },
        "id": "5bbQ4WyDNXCK",
        "outputId": "d13aacde-3056-4b22-e526-c53790da21f8"
      },
      "execution_count": null,
      "outputs": [
        {
          "output_type": "execute_result",
          "data": {
            "text/plain": [
              "'Below are some assertions that have been fact checked and are labeled as true or false.\\n\\nIf all of the assertions are true, return \"True\". If any of the assertions are false, return \"False\".\\n\\nHere are some examples:\\n===\\n\\nChecked Assertions: \"\"\"\\n- The sky is red: False\\n- Water is made of lava: False\\n- The sun is a star: True\\n\"\"\"\\nResult: False\\n\\n===\\n\\nChecked Assertions: \"\"\"\\n- The sky is blue: True\\n- Water is wet: True\\n- The sun is a star: True\\n\"\"\"\\nResult: True\\n\\n===\\n\\nChecked Assertions: \"\"\"\\n- The sky is blue - True\\n- Water is made of lava- False\\n- The sun is a star - True\\n\"\"\"\\nResult: False\\n\\n===\\n\\nChecked Assertions:\"\"\"\\n{checked_assertions}\\n\"\"\"\\nResult:'"
            ],
            "application/vnd.google.colaboratory.intrinsic+json": {
              "type": "string"
            }
          },
          "metadata": {},
          "execution_count": 21
        }
      ]
    },
    {
      "cell_type": "markdown",
      "source": [
        "Below are some assertions that have been fact checked and are labeled as true or false.\n",
        "\n",
        "If all of the assertions are true, return \"True\". If any of the assertions are false, return \"False\".\n",
        "\n",
        "Here are some examples:\n",
        "===\n",
        "\n",
        "Checked Assertions: \"\"\"\n",
        "- The sky is red: False\n",
        "- Water is made of lava: False\n",
        "- The sun is a star: True\n",
        "\"\"\"\n",
        "Result: False\n",
        "\n",
        "===\n",
        "\n",
        "Checked Assertions: \"\"\"\n",
        "- The sky is blue: True\n",
        "- Water is wet: True\n",
        "- The sun is a star: True\n",
        "\"\"\"\n",
        "Result: True\n",
        "\n",
        "===\n",
        "\n",
        "Checked Assertions: \"\"\"\n",
        "- The sky is blue - True\n",
        "- Water is made of lava- False\n",
        "- The sun is a star - True\n",
        "\"\"\"\n",
        "Result: False\n",
        "\n",
        "===\n",
        "\n",
        "Checked Assertions:\"\"\"\n",
        "{checked_assertions}\n",
        "\"\"\"\n",
        "Result:"
      ],
      "metadata": {
        "id": "v4RrX8nUNhYp"
      }
    },
    {
      "cell_type": "code",
      "source": [
        "checker_chain"
      ],
      "metadata": {
        "colab": {
          "base_uri": "https://localhost:8080/"
        },
        "id": "VA2QlhiiK6SQ",
        "outputId": "4029d07e-556e-4034-c3d7-c048f597eb0f"
      },
      "execution_count": null,
      "outputs": [
        {
          "output_type": "execute_result",
          "data": {
            "text/plain": [
              "LLMSummarizationCheckerChain(memory=None, callback_manager=<langchain.callbacks.shared.SharedCallbackManager object at 0x7f299c9faa60>, verbose=True, llm=OpenAI(cache=None, verbose=False, callback_manager=<langchain.callbacks.shared.SharedCallbackManager object at 0x7f299c9faa60>, client=<class 'openai.api_resources.completion.Completion'>, model_name='text-davinci-003', temperature=0.0, max_tokens=256, top_p=1, frequency_penalty=0, presence_penalty=0, n=1, best_of=1, model_kwargs={}, openai_api_key=None, batch_size=20, request_timeout=None, logit_bias={}, max_retries=6, streaming=False), create_assertions_prompt=PromptTemplate(input_variables=['summary'], output_parser=None, partial_variables={}, template='Given some text, extract a list of facts from the text.\\n\\nFormat your output as a bulleted list.\\n\\nText:\\n\"\"\"\\n{summary}\\n\"\"\"\\n\\nFacts:', template_format='f-string', validate_template=True), check_assertions_prompt=PromptTemplate(input_variables=['assertions'], output_parser=None, partial_variables={}, template='You are an expert fact checker. You have been hired by a major news organization to fact check a very important story.\\n\\nHere is a bullet point list of facts:\\n\"\"\"\\n{assertions}\\n\"\"\"\\n\\nFor each fact, determine whether it is true or false about the subject. If you are unable to determine whether the fact is true or false, output \"Undetermined\".\\nIf the fact is false, explain why.\\n\\n', template_format='f-string', validate_template=True), revised_summary_prompt=PromptTemplate(input_variables=['checked_assertions', 'summary'], output_parser=None, partial_variables={}, template='Below are some assertions that have been fact checked and are labeled as true of false.  If the answer is false, a suggestion is given for a correction.\\n\\nChecked Assertions:\\n\"\"\"\\n{checked_assertions}\\n\"\"\"\\n\\nOriginal Summary:\\n\"\"\"\\n{summary}\\n\"\"\"\\n\\nUsing these checked assertions, rewrite the original summary to be completely true.\\n\\nThe output should have the same structure and formatting as the original summary.\\n\\nSummary:', template_format='f-string', validate_template=True), are_all_true_prompt=PromptTemplate(input_variables=['checked_assertions'], output_parser=None, partial_variables={}, template='Below are some assertions that have been fact checked and are labeled as true or false.\\n\\nIf all of the assertions are true, return \"True\". If any of the assertions are false, return \"False\".\\n\\nHere are some examples:\\n===\\n\\nChecked Assertions: \"\"\"\\n- The sky is red: False\\n- Water is made of lava: False\\n- The sun is a star: True\\n\"\"\"\\nResult: False\\n\\n===\\n\\nChecked Assertions: \"\"\"\\n- The sky is blue: True\\n- Water is wet: True\\n- The sun is a star: True\\n\"\"\"\\nResult: True\\n\\n===\\n\\nChecked Assertions: \"\"\"\\n- The sky is blue - True\\n- Water is made of lava- False\\n- The sun is a star - True\\n\"\"\"\\nResult: False\\n\\n===\\n\\nChecked Assertions:\"\"\"\\n{checked_assertions}\\n\"\"\"\\nResult:', template_format='f-string', validate_template=True), input_key='query', output_key='result', max_checks=2)"
            ]
          },
          "metadata": {},
          "execution_count": 20
        }
      ]
    },
    {
      "cell_type": "code",
      "source": [],
      "metadata": {
        "id": "qahmfSisNHFH"
      },
      "execution_count": null,
      "outputs": []
    },
    {
      "cell_type": "markdown",
      "source": [
        "## Bonus - Making triples to compare to a graph"
      ],
      "metadata": {
        "id": "CtTDuJ0-OvUC"
      }
    },
    {
      "cell_type": "code",
      "source": [
        "triples_prompt = PromptTemplate(\n",
        "    input_variables=[\"facts\"],\n",
        "    template=\"Take the following list of facts and turn them into triples for a knowledge graph:\\n\\n {facts}\"\n",
        ")"
      ],
      "metadata": {
        "id": "mQ2TNW1emNHu"
      },
      "execution_count": null,
      "outputs": []
    },
    {
      "cell_type": "code",
      "source": [
        "triples_chain = LLMChain(llm=llm, prompt=triples_prompt)\n",
        "\n",
        "triples = triples_chain.run(facts)\n",
        "\n",
        "print(triples)\n",
        "len(triples)"
      ],
      "metadata": {
        "colab": {
          "base_uri": "https://localhost:8080/"
        },
        "outputId": "cafa69b9-9f6e-4562-d290-334b5d52c822",
        "id": "ZWyFFkDomNH5"
      },
      "execution_count": null,
      "outputs": [
        {
          "output_type": "stream",
          "name": "stdout",
          "text": [
            "\n",
            "\n",
            "Triples: \n",
            "1. (Coinbase, released, Q4 2022 earnings) \n",
            "2. (Coinbase, generated, $605 million) \n",
            "3. (Coinbase, lost, $557 million) \n",
            "4. (Wall Street, expected, $581.2 million) \n",
            "5. (Coinbase's stock, had risen, 86%) \n",
            "6. (Coinbase's total trading volumes, fell, 50%) \n",
            "7. (Coinbase's transaction revenues, fell, 66%) \n",
            "8. (Trading revenue at Coinbase, fell from, $365.9 million) \n",
            "9. (Coinbase's subscription and services revenue, rose from, $210.5 million) \n",
            "10. (Monthly active developers in crypto, have more than doubled, since 2020) \n",
            "11. (Major brands, have dived into, crypto space)\n"
          ]
        },
        {
          "output_type": "execute_result",
          "data": {
            "text/plain": [
              "579"
            ]
          },
          "metadata": {},
          "execution_count": 23
        }
      ]
    },
    {
      "cell_type": "code",
      "source": [],
      "metadata": {
        "id": "BC_EFkE6OkLO"
      },
      "execution_count": null,
      "outputs": []
    }
  ]
}