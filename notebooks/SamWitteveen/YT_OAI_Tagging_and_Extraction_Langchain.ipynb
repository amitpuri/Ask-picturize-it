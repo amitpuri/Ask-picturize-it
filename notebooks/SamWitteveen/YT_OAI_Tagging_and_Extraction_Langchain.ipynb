{
  "nbformat": 4,
  "nbformat_minor": 0,
  "metadata": {
    "colab": {
      "provenance": []
    },
    "kernelspec": {
      "name": "python3",
      "display_name": "Python 3"
    },
    "language_info": {
      "name": "python"
    }
  },
  "cells": [
    {
      "cell_type": "code",
      "execution_count": 1,
      "metadata": {
        "id": "RRYSu48huSUW",
        "colab": {
          "base_uri": "https://localhost:8080/"
        },
        "outputId": "a54b6db7-0d12-4f0b-a1d3-9e5166461773"
      },
      "outputs": [
        {
          "output_type": "stream",
          "name": "stdout",
          "text": [
            "\u001b[2K     \u001b[90m━━━━━━━━━━━━━━━━━━━━━━━━━━━━━━━━━━━━━━━━\u001b[0m \u001b[32m1.1/1.1 MB\u001b[0m \u001b[31m20.9 MB/s\u001b[0m eta \u001b[36m0:00:00\u001b[0m\n",
            "\u001b[2K     \u001b[90m━━━━━━━━━━━━━━━━━━━━━━━━━━━━━━━━━━━━━━━━\u001b[0m \u001b[32m73.6/73.6 kB\u001b[0m \u001b[31m8.2 MB/s\u001b[0m eta \u001b[36m0:00:00\u001b[0m\n",
            "\u001b[2K     \u001b[90m━━━━━━━━━━━━━━━━━━━━━━━━━━━━━━━━━━━━━━━━\u001b[0m \u001b[32m1.7/1.7 MB\u001b[0m \u001b[31m75.6 MB/s\u001b[0m eta \u001b[36m0:00:00\u001b[0m\n",
            "\u001b[2K     \u001b[90m━━━━━━━━━━━━━━━━━━━━━━━━━━━━━━━━━━━━━━━━\u001b[0m \u001b[32m1.0/1.0 MB\u001b[0m \u001b[31m61.4 MB/s\u001b[0m eta \u001b[36m0:00:00\u001b[0m\n",
            "\u001b[2K     \u001b[90m━━━━━━━━━━━━━━━━━━━━━━━━━━━━━━━━━━━━━━━━\u001b[0m \u001b[32m90.0/90.0 kB\u001b[0m \u001b[31m10.5 MB/s\u001b[0m eta \u001b[36m0:00:00\u001b[0m\n",
            "\u001b[2K     \u001b[90m━━━━━━━━━━━━━━━━━━━━━━━━━━━━━━━━━━━━━━━\u001b[0m \u001b[32m114.5/114.5 kB\u001b[0m \u001b[31m9.9 MB/s\u001b[0m eta \u001b[36m0:00:00\u001b[0m\n",
            "\u001b[2K     \u001b[90m━━━━━━━━━━━━━━━━━━━━━━━━━━━━━━━━━━━━━━\u001b[0m \u001b[32m268.8/268.8 kB\u001b[0m \u001b[31m23.9 MB/s\u001b[0m eta \u001b[36m0:00:00\u001b[0m\n",
            "\u001b[2K     \u001b[90m━━━━━━━━━━━━━━━━━━━━━━━━━━━━━━━━━━━━━━\u001b[0m \u001b[32m149.6/149.6 kB\u001b[0m \u001b[31m13.9 MB/s\u001b[0m eta \u001b[36m0:00:00\u001b[0m\n",
            "\u001b[2K     \u001b[90m━━━━━━━━━━━━━━━━━━━━━━━━━━━━━━━━━━━━━━━━\u001b[0m \u001b[32m49.1/49.1 kB\u001b[0m \u001b[31m2.3 MB/s\u001b[0m eta \u001b[36m0:00:00\u001b[0m\n",
            "\u001b[?25h"
          ]
        }
      ],
      "source": [
        "!pip -q install langchain openai tiktoken"
      ]
    },
    {
      "cell_type": "code",
      "source": [
        "import os\n",
        "\n",
        "os.environ[\"OPENAI_API_KEY\"] = \"\""
      ],
      "metadata": {
        "id": "dNA4TsHpu6OM"
      },
      "execution_count": 2,
      "outputs": []
    },
    {
      "cell_type": "code",
      "source": [
        "!pip show langchain"
      ],
      "metadata": {
        "id": "J-KFB7J_u_3L",
        "colab": {
          "base_uri": "https://localhost:8080/"
        },
        "outputId": "4f14e74c-7081-48b2-850a-3b173baa916d"
      },
      "execution_count": 3,
      "outputs": [
        {
          "output_type": "stream",
          "name": "stdout",
          "text": [
            "Name: langchain\n",
            "Version: 0.0.206\n",
            "Summary: Building applications with LLMs through composability\n",
            "Home-page: https://www.github.com/hwchase17/langchain\n",
            "Author: \n",
            "Author-email: \n",
            "License: MIT\n",
            "Location: /usr/local/lib/python3.10/dist-packages\n",
            "Requires: aiohttp, async-timeout, dataclasses-json, langchainplus-sdk, numexpr, numpy, openapi-schema-pydantic, pydantic, PyYAML, requests, SQLAlchemy, tenacity\n",
            "Required-by: \n"
          ]
        }
      ]
    },
    {
      "cell_type": "markdown",
      "source": [
        "## Classification / Tagging\n"
      ],
      "metadata": {
        "id": "HqwsGJDhvAQ5"
      }
    },
    {
      "cell_type": "code",
      "source": [
        "from langchain.chat_models import ChatOpenAI\n",
        "from langchain.chains import create_tagging_chain, create_tagging_chain_pydantic\n",
        "from langchain.prompts import ChatPromptTemplate"
      ],
      "metadata": {
        "id": "IfCt8bhHNu9u"
      },
      "execution_count": 4,
      "outputs": []
    },
    {
      "cell_type": "code",
      "source": [
        "llm = ChatOpenAI(temperature=0, model=\"gpt-3.5-turbo-0613\")"
      ],
      "metadata": {
        "id": "--pSvL50li1z"
      },
      "execution_count": 5,
      "outputs": []
    },
    {
      "cell_type": "code",
      "source": [
        "schema = {\n",
        "    \"properties\": {\n",
        "        \"sentiment\": {\"type\": \"string\"},\n",
        "        \"stars\": {\"type\": \"integer\"},\n",
        "        \"language\": {\"type\": \"string\"},\n",
        "    }\n",
        "}"
      ],
      "metadata": {
        "id": "LrJoGj19nIjF"
      },
      "execution_count": 6,
      "outputs": []
    },
    {
      "cell_type": "code",
      "source": [
        "chain = create_tagging_chain(schema, llm)"
      ],
      "metadata": {
        "id": "678S9_-3nIs-"
      },
      "execution_count": 7,
      "outputs": []
    },
    {
      "cell_type": "code",
      "source": [
        "chain.prompt.messages[0].prompt"
      ],
      "metadata": {
        "colab": {
          "base_uri": "https://localhost:8080/"
        },
        "id": "YmtXsfatrW4e",
        "outputId": "2a681e8b-de82-4442-ee2b-3eea118a923e"
      },
      "execution_count": 8,
      "outputs": [
        {
          "output_type": "execute_result",
          "data": {
            "text/plain": [
              "PromptTemplate(input_variables=['input'], output_parser=None, partial_variables={}, template='Extract the desired information from the following passage.\\n\\nPassage:\\n{input}\\n', template_format='f-string', validate_template=True)"
            ]
          },
          "metadata": {},
          "execution_count": 8
        }
      ]
    },
    {
      "cell_type": "code",
      "source": [
        "print(chain.prompt.messages[0].prompt.template)"
      ],
      "metadata": {
        "colab": {
          "base_uri": "https://localhost:8080/"
        },
        "id": "zaQx9632rymW",
        "outputId": "8393a716-bd8e-4d7a-8c0c-3d1c99db3cb5"
      },
      "execution_count": 9,
      "outputs": [
        {
          "output_type": "stream",
          "name": "stdout",
          "text": [
            "Extract the desired information from the following passage.\n",
            "\n",
            "Passage:\n",
            "{input}\n",
            "\n"
          ]
        }
      ]
    },
    {
      "cell_type": "code",
      "source": [
        "chain.llm_kwargs"
      ],
      "metadata": {
        "colab": {
          "base_uri": "https://localhost:8080/"
        },
        "id": "2ScbaeGAuHUO",
        "outputId": "0e4fedc8-3d7c-4ef9-e60f-7c81d284af12"
      },
      "execution_count": 10,
      "outputs": [
        {
          "output_type": "execute_result",
          "data": {
            "text/plain": [
              "{'functions': [{'name': 'information_extraction',\n",
              "   'description': 'Extracts the relevant information from the passage.',\n",
              "   'parameters': {'type': 'object',\n",
              "    'properties': {'sentiment': {'title': 'sentiment', 'type': 'string'},\n",
              "     'stars': {'title': 'stars', 'type': 'integer'},\n",
              "     'language': {'title': 'language', 'type': 'string'}},\n",
              "    'required': []}}],\n",
              " 'function_call': {'name': 'information_extraction'}}"
            ]
          },
          "metadata": {},
          "execution_count": 10
        }
      ]
    },
    {
      "cell_type": "code",
      "source": [
        "chain.output_parser"
      ],
      "metadata": {
        "colab": {
          "base_uri": "https://localhost:8080/"
        },
        "id": "ZI-gPXidtVSD",
        "outputId": "be1fd667-e88b-4fbd-d729-ede4c2336395"
      },
      "execution_count": 11,
      "outputs": [
        {
          "output_type": "execute_result",
          "data": {
            "text/plain": [
              "JsonOutputFunctionsParser()"
            ]
          },
          "metadata": {},
          "execution_count": 11
        }
      ]
    },
    {
      "cell_type": "code",
      "source": [
        "review_01 = \"Starts off kind of slow, but builds up quickly to give the reader a good understanding of how things unfolded. I’m anticipating a second book, and can’t wait for the rest of the story to be unveiled!\"\n",
        "chain.run(review_01)"
      ],
      "metadata": {
        "colab": {
          "base_uri": "https://localhost:8080/"
        },
        "id": "DU7V8iq5nxI8",
        "outputId": "95d64341-8ab8-4655-fbe2-a7763fc19b25"
      },
      "execution_count": 12,
      "outputs": [
        {
          "output_type": "execute_result",
          "data": {
            "text/plain": [
              "{'sentiment': 'positive', 'stars': 4}"
            ]
          },
          "metadata": {},
          "execution_count": 12
        }
      ]
    },
    {
      "cell_type": "code",
      "source": [
        "review_02 = \"\"\"It's the BIGGEST CON \\n\n",
        "This book has NOT been security checked for correct information , I feel Meghan and Harry are laughing at me for buying this book , And putting my money in there pockets. Harry can't come up with any dates, says he can't remember the dates of anything , Said he was At college on a Hot summers day when the phone call came about his Great Great Grandmother passing , He was not at school he was Skiing in Switzerland with his Brother ( I remember this) And the papers have come back with the proof. Harry says that his mother bought him an XBox for his 13th birthday in advance of her death that her sister brought to the school for him, again not true the XBox didn't come out till 4 years later . There is so many holes in the book . Every other page has something on it that didn't happen. He takes NO reasonability for ANYthing even when the evidence is staring him in his face. This book is a BIG con, don't waste your money.\"\"\""
      ],
      "metadata": {
        "id": "y53JThN6shRM"
      },
      "execution_count": 13,
      "outputs": []
    },
    {
      "cell_type": "code",
      "source": [
        "chain.run(review_02)"
      ],
      "metadata": {
        "colab": {
          "base_uri": "https://localhost:8080/"
        },
        "id": "GpYlFN_LtNUe",
        "outputId": "25f6052b-4262-4344-cdb6-78849a46ff8e"
      },
      "execution_count": 14,
      "outputs": [
        {
          "output_type": "execute_result",
          "data": {
            "text/plain": [
              "{'sentiment': 'negative'}"
            ]
          },
          "metadata": {},
          "execution_count": 14
        }
      ]
    },
    {
      "cell_type": "code",
      "source": [
        "review_03 = \"\"\" A Mixed Bag…..No One Wins Here… \\n\n",
        "I had to take a break from writing this review to separate my two sons. It seems one has pushed the other over in some sort of disagreement…Such is the nature of brothers, of siblings, of families.\n",
        "\n",
        "Prince Harry’s memoir is equal parts refreshingly and cringe-worthily honest. It leaves no stone unturned, and in that lies its greatness and its tragedy.\n",
        "\n",
        "Like any family, Prince Harry’s is a mix of differing personalities and quirks, but unlike every family they are a part of a 1000 year institution- in which the expectations, customs, and formality run deep. In fact he is in a position so unlike any other human that this is almost a must-read. But it’s more of a curiosity satisfier- and when you’re done you kind of get the feeling you do when you accidentally open a restroom stall and someone is using it. You politely want to apologize excuse yourself from their business…\n",
        "\n",
        "What I liked- the Prince’s detailed account in falling in love with Meghan Markle. Marrying into a family culturally different than you is no easy feat- and I can’t imagine the learning curve she had to face- mostly alone. Her feelings of isolation and despair come across clearly. This is a man who truly loves his wife. Perhaps, as the late, remarkable Queen purportedly stated, maybe a little ‘over in love.’\n",
        "I also truly felt the Prince captured the pain of losing his beloved mother, in the most tragic of circumstances, poignantly and honestly. In that he does a service to those also suffering grief (i.e.-all of us). His openness and willingness to receiving mental health services is admirable and I believe will help many. (If only all were able to access the kinds of treatment and mental health support the Prince did, but I digress…)\n",
        "\n",
        "What I didn’t like:\n",
        "There is sharing and then there is over-sharing. (Hence, me feeling like I accidentally walked in on him in the restroom, indisposed). I don’t need/want to know the details of his ‘first time,’ while his military service is laudable, discussing the number of Taliban fighters he killed was in poor taste, and the tiny snippets he throws in regarding Kate seem rather petty.\n",
        "\n",
        "As a woman who admires both Kate and Meghan, I felt he was perhaps unintentionally adding to the common trope that women must always be jealous and fighting.\n",
        "\n",
        "Much of his disdain is aimed at the British press, and I can’t deny it is likely a brutal and ugly business. But perhaps too much disdain is aimed at his family as well- imperfect as they are.\n",
        "\n",
        "While I’m certain there was a level of catharsis in writing this memoir, I worry that the long term consequences will far outweigh any positive outcomes from such a blistering account. My prayers to this entire family as they navigate these tough waters, that have now seemingly become even more treacherous.\"\"\""
      ],
      "metadata": {
        "id": "i_3SSfg7uy6k"
      },
      "execution_count": 15,
      "outputs": []
    },
    {
      "cell_type": "code",
      "source": [
        "chain.run(review_03)"
      ],
      "metadata": {
        "colab": {
          "base_uri": "https://localhost:8080/"
        },
        "id": "3Kqx5iCZvTKN",
        "outputId": "5baaf8a7-2883-4683-b9ec-9599fa6799ce"
      },
      "execution_count": 16,
      "outputs": [
        {
          "output_type": "execute_result",
          "data": {
            "text/plain": [
              "{}"
            ]
          },
          "metadata": {},
          "execution_count": 16
        }
      ]
    },
    {
      "cell_type": "code",
      "source": [
        "schema = {\n",
        "    \"properties\": {\n",
        "        \"sentiment\": {\"type\": \"string\", \"enum\": [\"positive\", \"neutral\", \"negative\"]},\n",
        "        \"stars\": {\n",
        "            \"type\": \"integer\",\n",
        "            \"enum\": [1, 2, 3, 4, 5],\n",
        "            \"description\": \"describes the number of stars give by a reviewer on Amazon\",\n",
        "        },\n",
        "        \"language\": {\n",
        "            \"type\": \"string\",\n",
        "            \"enum\": [\"spanish\", \"english\", \"french\", \"german\", \"italian\"],\n",
        "        },\n",
        "    },\n",
        "    \"required\": [\"language\", \"sentiment\", \"stars\"],\n",
        "}"
      ],
      "metadata": {
        "id": "ll_3TkGYn_ag"
      },
      "execution_count": 17,
      "outputs": []
    },
    {
      "cell_type": "code",
      "source": [
        "chain = create_tagging_chain(schema, llm)"
      ],
      "metadata": {
        "id": "pJ5LiNutoJgV"
      },
      "execution_count": 18,
      "outputs": []
    },
    {
      "cell_type": "code",
      "source": [
        "chain.run(review_01)"
      ],
      "metadata": {
        "colab": {
          "base_uri": "https://localhost:8080/"
        },
        "id": "zap6PXTmoSrD",
        "outputId": "90c3ccbc-9842-4d9e-92a2-e75bc9d598b2"
      },
      "execution_count": 19,
      "outputs": [
        {
          "output_type": "execute_result",
          "data": {
            "text/plain": [
              "{'sentiment': 'positive', 'stars': 4, 'language': 'english'}"
            ]
          },
          "metadata": {},
          "execution_count": 19
        }
      ]
    },
    {
      "cell_type": "code",
      "source": [
        "chain.run(review_02)"
      ],
      "metadata": {
        "colab": {
          "base_uri": "https://localhost:8080/"
        },
        "id": "agqosKiuoVnY",
        "outputId": "fc1ed57c-83fa-410f-9f3d-67a083968a9d"
      },
      "execution_count": 20,
      "outputs": [
        {
          "output_type": "execute_result",
          "data": {
            "text/plain": [
              "{'sentiment': 'negative', 'stars': 1, 'language': 'english'}"
            ]
          },
          "metadata": {},
          "execution_count": 20
        }
      ]
    },
    {
      "cell_type": "code",
      "source": [
        "chain.run(review_03)"
      ],
      "metadata": {
        "colab": {
          "base_uri": "https://localhost:8080/"
        },
        "id": "TmGjTGeWv5RP",
        "outputId": "172d5828-1936-49bc-a5ec-f4d1fa1e198f"
      },
      "execution_count": 21,
      "outputs": [
        {
          "output_type": "execute_result",
          "data": {
            "text/plain": [
              "{'sentiment': 'neutral', 'stars': 3, 'language': 'english'}"
            ]
          },
          "metadata": {},
          "execution_count": 21
        }
      ]
    },
    {
      "cell_type": "code",
      "source": [
        "type(chain.run(review_03))"
      ],
      "metadata": {
        "colab": {
          "base_uri": "https://localhost:8080/"
        },
        "id": "bYlEAwqhwLkf",
        "outputId": "418a6222-f81b-4f9e-9d83-8c00c35d6111"
      },
      "execution_count": 22,
      "outputs": [
        {
          "output_type": "execute_result",
          "data": {
            "text/plain": [
              "dict"
            ]
          },
          "metadata": {},
          "execution_count": 22
        }
      ]
    },
    {
      "cell_type": "markdown",
      "source": [
        "### Using Pydantic"
      ],
      "metadata": {
        "id": "3CrW8xsLsxKy"
      }
    },
    {
      "cell_type": "code",
      "source": [
        "from enum import Enum\n",
        "from pydantic import BaseModel, Field"
      ],
      "metadata": {
        "id": "oSclHCoupWJw"
      },
      "execution_count": 57,
      "outputs": []
    },
    {
      "cell_type": "code",
      "source": [
        "class Tags(BaseModel):\n",
        "    sentiment: str = Field(..., enum=[\"positive\", \"neutral\", \"negative\"])\n",
        "    stars: int = Field(\n",
        "        ...,\n",
        "        description=\"describes the number of stars give by a reviewer on Amazon\",\n",
        "        enum=[1, 2, 3, 4, 5],\n",
        "    )\n",
        "    language: str = Field(\n",
        "        ..., enum=[\"spanish\", \"english\", \"french\", \"german\", \"italian\"]\n",
        "    )"
      ],
      "metadata": {
        "id": "cfDamW3ipWMF"
      },
      "execution_count": 58,
      "outputs": []
    },
    {
      "cell_type": "code",
      "source": [
        "chain = create_tagging_chain_pydantic(Tags, llm)"
      ],
      "metadata": {
        "id": "c5H6PmOQpWOa"
      },
      "execution_count": 59,
      "outputs": []
    },
    {
      "cell_type": "code",
      "source": [
        "res = chain.run(review_01)"
      ],
      "metadata": {
        "id": "R3sIxlFKpWSG"
      },
      "execution_count": 60,
      "outputs": []
    },
    {
      "cell_type": "code",
      "source": [
        "res"
      ],
      "metadata": {
        "colab": {
          "base_uri": "https://localhost:8080/"
        },
        "id": "e83sIDLqpnWD",
        "outputId": "68c0c3b7-b933-4a8d-c562-1abb708443df"
      },
      "execution_count": 61,
      "outputs": [
        {
          "output_type": "execute_result",
          "data": {
            "text/plain": [
              "Tags(sentiment='positive', stars=4, language='english')"
            ]
          },
          "metadata": {},
          "execution_count": 61
        }
      ]
    },
    {
      "cell_type": "code",
      "source": [
        "res.sentiment"
      ],
      "metadata": {
        "colab": {
          "base_uri": "https://localhost:8080/",
          "height": 35
        },
        "id": "0opBxGQ6psOS",
        "outputId": "a0e7994b-2b11-4367-90c6-d742b8eb3839"
      },
      "execution_count": 28,
      "outputs": [
        {
          "output_type": "execute_result",
          "data": {
            "text/plain": [
              "'positive'"
            ],
            "application/vnd.google.colaboratory.intrinsic+json": {
              "type": "string"
            }
          },
          "metadata": {},
          "execution_count": 28
        }
      ]
    },
    {
      "cell_type": "markdown",
      "source": [
        "## Extraction, NER"
      ],
      "metadata": {
        "id": "s4Rspp98lXC2"
      }
    },
    {
      "cell_type": "code",
      "source": [
        "from langchain.chat_models import ChatOpenAI\n",
        "from langchain.chains import create_extraction_chain, create_extraction_chain_pydantic\n",
        "from langchain.prompts import ChatPromptTemplate"
      ],
      "metadata": {
        "id": "aQiwCVJ1lWGN"
      },
      "execution_count": 46,
      "outputs": []
    },
    {
      "cell_type": "code",
      "source": [
        "tc_01 = \"\"\"Reddit CEO Steve Huffman is not backing down amid protests against API changes made by the platform. In interviews with The Verge, NBC News and NPR, Huffman defended business decisions made by the company to charge third-party apps saying the API wasn’t designed to support these clients.\n",
        "\n",
        "The Reddit co-founder also talked about protesting moderators, changing site rules, and profitability in these interviews. The platform is facing one of the strongest backlashes from the community, but the CEO seemingly doesn’t want to budge.\n",
        "\n",
        "What’s happening at Reddit?\n",
        "In April, Reddit announced that it is going to charge for its API, but didn’t announce any pricing. Earlier this month, Christian Selig, the developer of a popular Reddit client for iOS called Apollo, posted that he had a call with Reddit. API pricing quoted by them could cost him $20 million a year to run the app. Selig later said that, because the social network is not ready to make any changes to the pricing structure, he is forced to shut down Apollo. Other third-party developers of clients like Reddit is Fun and Relay for Reddit also said that they will shut down their apps on June 30.\n",
        "\n",
        "The only exception Reddit made was to allow free access to the API to non-commercial apps providing accessibility features. The company has made deals with apps like RedReader, Dystopia, and Luna and given them exemptions from its “large-scale pricing terms.”\n",
        "\n",
        "Thousands of subreddits went dark starting June 12 to protest those changes — it caused a brief outage as well. Meanwhile, Huffman took a strong stance in his AMA and took a dig at Apollo and Selig. As moderators didn’t see anything changing, many subreddits decided to extend the blackout.\"\"\""
      ],
      "metadata": {
        "id": "i4F38FQiraS-"
      },
      "execution_count": 30,
      "outputs": []
    },
    {
      "cell_type": "code",
      "source": [
        "llm = ChatOpenAI(temperature=0, model=\"gpt-3.5-turbo-0613\")"
      ],
      "metadata": {
        "id": "LXI0799mpzQA"
      },
      "execution_count": 47,
      "outputs": []
    },
    {
      "cell_type": "code",
      "source": [
        "schema = {\n",
        "    \"properties\": {\n",
        "        \"person_name\": {\"type\": \"string\"},\n",
        "        \"startup\": {\"type\": \"string\"},\n",
        "        \"news_outlet\": {\"type\": \"string\"},\n",
        "        \"app_name\": {\"type\": \"string\"},\n",
        "        \"month\": {\"type\": \"string\"},\n",
        "    },\n",
        "    \"required\": [\"person_name\", \"startup\"],\n",
        "}"
      ],
      "metadata": {
        "id": "eP3Hj4gqpzTn"
      },
      "execution_count": 48,
      "outputs": []
    },
    {
      "cell_type": "code",
      "source": [
        "chain = create_extraction_chain(schema, llm)"
      ],
      "metadata": {
        "id": "rNMIDkIkqUvv"
      },
      "execution_count": 49,
      "outputs": []
    },
    {
      "cell_type": "code",
      "source": [
        "chain.prompt.messages[0]"
      ],
      "metadata": {
        "colab": {
          "base_uri": "https://localhost:8080/"
        },
        "outputId": "8949923d-661c-4e99-ba95-f36275601d5a",
        "id": "eaNpamXXyCcA"
      },
      "execution_count": 62,
      "outputs": [
        {
          "output_type": "execute_result",
          "data": {
            "text/plain": [
              "HumanMessagePromptTemplate(prompt=PromptTemplate(input_variables=['input'], output_parser=None, partial_variables={}, template='Extract the desired information from the following passage.\\n\\nPassage:\\n{input}\\n', template_format='f-string', validate_template=True), additional_kwargs={})"
            ]
          },
          "metadata": {},
          "execution_count": 62
        }
      ]
    },
    {
      "cell_type": "code",
      "source": [
        "print(chain.prompt.messages[0].prompt.template)"
      ],
      "metadata": {
        "colab": {
          "base_uri": "https://localhost:8080/"
        },
        "outputId": "72db911b-4aad-4f55-97b3-e7d7391e7879",
        "id": "Xte7SZH-yCcB"
      },
      "execution_count": 35,
      "outputs": [
        {
          "output_type": "stream",
          "name": "stdout",
          "text": [
            "Extract and save the relevant entities mentioned in the following passage together with their properties.\n",
            "\n",
            "Passage:\n",
            "{input}\n",
            "\n"
          ]
        }
      ]
    },
    {
      "cell_type": "code",
      "source": [
        "chain.llm_kwargs"
      ],
      "metadata": {
        "colab": {
          "base_uri": "https://localhost:8080/"
        },
        "outputId": "ae51a8b2-91f7-4545-ca23-62461a3c6d40",
        "id": "yhwCdhnxyCcB"
      },
      "execution_count": 36,
      "outputs": [
        {
          "output_type": "execute_result",
          "data": {
            "text/plain": [
              "{'functions': [{'name': 'information_extraction',\n",
              "   'description': 'Extracts the relevant information from the passage.',\n",
              "   'parameters': {'type': 'object',\n",
              "    'properties': {'info': {'type': 'array',\n",
              "      'items': {'type': 'object',\n",
              "       'properties': {'person_name': {'title': 'person_name',\n",
              "         'type': 'string'},\n",
              "        'startup': {'title': 'startup', 'type': 'string'},\n",
              "        'news_outlet': {'title': 'news_outlet', 'type': 'string'},\n",
              "        'app_name': {'title': 'app_name', 'type': 'string'},\n",
              "        'month': {'title': 'month', 'type': 'string'}},\n",
              "       'required': ['person_name', 'startup']}}},\n",
              "    'required': ['info']}}],\n",
              " 'function_call': {'name': 'information_extraction'}}"
            ]
          },
          "metadata": {},
          "execution_count": 36
        }
      ]
    },
    {
      "cell_type": "code",
      "source": [
        "chain.output_parser"
      ],
      "metadata": {
        "colab": {
          "base_uri": "https://localhost:8080/"
        },
        "outputId": "2fae7756-7767-4ffa-96c8-b6cc6a00564d",
        "id": "uEfU4kA5yCcC"
      },
      "execution_count": 37,
      "outputs": [
        {
          "output_type": "execute_result",
          "data": {
            "text/plain": [
              "JsonKeyOutputFunctionsParser(key_name='info')"
            ]
          },
          "metadata": {},
          "execution_count": 37
        }
      ]
    },
    {
      "cell_type": "code",
      "source": [
        "response = chain.run(tc_01)\n",
        "response"
      ],
      "metadata": {
        "colab": {
          "base_uri": "https://localhost:8080/"
        },
        "id": "rDbWRexnqWER",
        "outputId": "ec424990-6644-470e-afb1-cf2da9ea87ab"
      },
      "execution_count": 38,
      "outputs": [
        {
          "output_type": "execute_result",
          "data": {
            "text/plain": [
              "[{'person_name': 'Steve Huffman',\n",
              "  'startup': 'Reddit',\n",
              "  'news_outlet': 'The Verge',\n",
              "  'app_name': 'Apollo',\n",
              "  'month': 'April'},\n",
              " {'person_name': 'Christian Selig',\n",
              "  'startup': 'Apollo',\n",
              "  'news_outlet': 'N/A',\n",
              "  'app_name': 'Apollo',\n",
              "  'month': 'April'},\n",
              " {'person_name': 'Christian Selig',\n",
              "  'startup': 'Apollo',\n",
              "  'news_outlet': 'N/A',\n",
              "  'app_name': 'Apollo',\n",
              "  'month': 'June'},\n",
              " {'person_name': 'Reddit',\n",
              "  'startup': 'Reddit',\n",
              "  'news_outlet': 'N/A',\n",
              "  'app_name': 'Reddit is Fun',\n",
              "  'month': 'June'},\n",
              " {'person_name': 'Reddit',\n",
              "  'startup': 'Reddit',\n",
              "  'news_outlet': 'N/A',\n",
              "  'app_name': 'Relay for Reddit',\n",
              "  'month': 'June'}]"
            ]
          },
          "metadata": {},
          "execution_count": 38
        }
      ]
    },
    {
      "cell_type": "code",
      "source": [
        "def sort_objects(obj_list):\n",
        "    # Initialize empty lists for each category\n",
        "    people = []\n",
        "    startups = []\n",
        "    news_outlets = []\n",
        "    apps = []\n",
        "    months = []\n",
        "\n",
        "    # Loop through each dictionary in the list\n",
        "    for obj in obj_list:\n",
        "        # Add each value to the appropriate list, if the key exists in the dictionary and the value is not already in the list\n",
        "        if 'person_name' in obj and obj['person_name'] not in people:\n",
        "            people.append(obj['person_name'])\n",
        "        if 'startup' in obj and obj['startup'] not in startups:\n",
        "            startups.append(obj['startup'])\n",
        "        if 'news_outlet' in obj and obj['news_outlet'] not in news_outlets:\n",
        "            news_outlets.append(obj['news_outlet'])\n",
        "        if 'app_name' in obj and obj['app_name'] not in apps:\n",
        "            apps.append(obj['app_name'])\n",
        "        if 'month' in obj and obj['month'] not in months:\n",
        "            months.append(obj['month'])\n",
        "\n",
        "    # Return the lists as a dictionary\n",
        "    return {'people': people, 'startups': startups, 'news_outlets': news_outlets, 'apps': apps, 'months': months}\n"
      ],
      "metadata": {
        "id": "8-_0kq_lqiNS"
      },
      "execution_count": 39,
      "outputs": []
    },
    {
      "cell_type": "code",
      "source": [
        "sort_objects(response)"
      ],
      "metadata": {
        "colab": {
          "base_uri": "https://localhost:8080/"
        },
        "id": "okLLvwjOzM0q",
        "outputId": "5dff49ba-16b3-47c7-cbdd-1d05424209cc"
      },
      "execution_count": 40,
      "outputs": [
        {
          "output_type": "execute_result",
          "data": {
            "text/plain": [
              "{'people': ['Steve Huffman', 'Christian Selig', 'Reddit'],\n",
              " 'startups': ['Reddit', 'Apollo'],\n",
              " 'news_outlets': ['The Verge', 'N/A'],\n",
              " 'apps': ['Apollo', 'Reddit is Fun', 'Relay for Reddit'],\n",
              " 'months': ['April', 'June']}"
            ]
          },
          "metadata": {},
          "execution_count": 40
        }
      ]
    },
    {
      "cell_type": "code",
      "source": [
        "tc_02 = \"\"\"Reddit CEO Steve Huffman is not backing down amid protests against API changes made by the platform. In interviews with The Verge, NBC News and NPR, Huffman defended business decisions made by the company to charge third-party apps saying the API wasn’t designed to support these clients.\n",
        "\n",
        "The Reddit co-founder also talked about protesting moderators, changing site rules, and profitability in these interviews. The platform is facing one of the strongest backlashes from the community, but the CEO seemingly doesn’t want to budge. The Apollo app\"\"\"\n"
      ],
      "metadata": {
        "id": "kmumeFGa2NiT"
      },
      "execution_count": 54,
      "outputs": []
    },
    {
      "cell_type": "code",
      "source": [
        "response = chain.run(tc_02)\n",
        "response\n"
      ],
      "metadata": {
        "colab": {
          "base_uri": "https://localhost:8080/"
        },
        "id": "ohgyleXo4Aj_",
        "outputId": "9bfb542d-7e4a-4a21-8c9e-f5ba1bc41ad9"
      },
      "execution_count": 55,
      "outputs": [
        {
          "output_type": "execute_result",
          "data": {
            "text/plain": [
              "[{'person_name': 'Steve Huffman',\n",
              "  'startup': 'Reddit',\n",
              "  'news_outlet': 'The Verge',\n",
              "  'app_name': 'Apollo',\n",
              "  'month': 'June'},\n",
              " {'person_name': 'Steve Huffman',\n",
              "  'startup': 'Reddit',\n",
              "  'news_outlet': 'NBC News',\n",
              "  'app_name': 'Apollo',\n",
              "  'month': 'June'},\n",
              " {'person_name': 'Steve Huffman',\n",
              "  'startup': 'Reddit',\n",
              "  'news_outlet': 'NPR',\n",
              "  'app_name': 'Apollo',\n",
              "  'month': 'June'}]"
            ]
          },
          "metadata": {},
          "execution_count": 55
        }
      ]
    },
    {
      "cell_type": "code",
      "source": [
        "sort_objects(response)"
      ],
      "metadata": {
        "colab": {
          "base_uri": "https://localhost:8080/"
        },
        "id": "uDuCOfuN4ZR5",
        "outputId": "b5d73270-d4bb-4f94-84b9-88589b477f3f"
      },
      "execution_count": 56,
      "outputs": [
        {
          "output_type": "execute_result",
          "data": {
            "text/plain": [
              "{'people': ['Steve Huffman'],\n",
              " 'startups': ['Reddit'],\n",
              " 'news_outlets': ['The Verge', 'NBC News', 'NPR'],\n",
              " 'apps': ['Apollo'],\n",
              " 'months': ['June']}"
            ]
          },
          "metadata": {},
          "execution_count": 56
        }
      ]
    },
    {
      "cell_type": "code",
      "source": [],
      "metadata": {
        "id": "wDWZXBsd4gqC"
      },
      "execution_count": null,
      "outputs": []
    }
  ]
}