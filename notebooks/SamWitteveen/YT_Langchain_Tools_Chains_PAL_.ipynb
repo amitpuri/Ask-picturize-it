{
  "nbformat": 4,
  "nbformat_minor": 0,
  "metadata": {
    "colab": {
      "provenance": []
    },
    "kernelspec": {
      "name": "python3",
      "display_name": "Python 3"
    },
    "language_info": {
      "name": "python"
    }
  },
  "cells": [
    {
      "cell_type": "code",
      "execution_count": null,
      "metadata": {
        "colab": {
          "base_uri": "https://localhost:8080/"
        },
        "id": "i9fJuC2tG0Cq",
        "outputId": "fb675163-195a-47b0-bdb0-c19c8ce403b6"
      },
      "outputs": [
        {
          "output_type": "stream",
          "name": "stdout",
          "text": [
            "\u001b[2K     \u001b[90m━━━━━━━━━━━━━━━━━━━━━━━━━━━━━━━━━━━━━━━━\u001b[0m \u001b[32m70.1/70.1 KB\u001b[0m \u001b[31m2.7 MB/s\u001b[0m eta \u001b[36m0:00:00\u001b[0m\n",
            "\u001b[2K     \u001b[90m━━━━━━━━━━━━━━━━━━━━━━━━━━━━━━━━━━━━━━━\u001b[0m \u001b[32m360.6/360.6 KB\u001b[0m \u001b[31m9.7 MB/s\u001b[0m eta \u001b[36m0:00:00\u001b[0m\n",
            "\u001b[2K     \u001b[90m━━━━━━━━━━━━━━━━━━━━━━━━━━━━━━━━━━━━━━\u001b[0m \u001b[32m199.1/199.1 KB\u001b[0m \u001b[31m18.7 MB/s\u001b[0m eta \u001b[36m0:00:00\u001b[0m\n",
            "\u001b[2K     \u001b[90m━━━━━━━━━━━━━━━━━━━━━━━━━━━━━━━━━━━━━━━━\u001b[0m \u001b[32m1.0/1.0 MB\u001b[0m \u001b[31m31.8 MB/s\u001b[0m eta \u001b[36m0:00:00\u001b[0m\n",
            "\u001b[2K     \u001b[90m━━━━━━━━━━━━━━━━━━━━━━━━━━━━━━━━━━━━━━\u001b[0m \u001b[32m158.8/158.8 KB\u001b[0m \u001b[31m14.6 MB/s\u001b[0m eta \u001b[36m0:00:00\u001b[0m\n",
            "\u001b[2K     \u001b[90m━━━━━━━━━━━━━━━━━━━━━━━━━━━━━━━━━━━━━━\u001b[0m \u001b[32m114.2/114.2 KB\u001b[0m \u001b[31m11.5 MB/s\u001b[0m eta \u001b[36m0:00:00\u001b[0m\n",
            "\u001b[2K     \u001b[90m━━━━━━━━━━━━━━━━━━━━━━━━━━━━━━━━━━━━━━\u001b[0m \u001b[32m264.6/264.6 KB\u001b[0m \u001b[31m22.5 MB/s\u001b[0m eta \u001b[36m0:00:00\u001b[0m\n",
            "\u001b[2K     \u001b[90m━━━━━━━━━━━━━━━━━━━━━━━━━━━━━━━━━━━━━━\u001b[0m \u001b[32m199.2/199.2 KB\u001b[0m \u001b[31m18.1 MB/s\u001b[0m eta \u001b[36m0:00:00\u001b[0m\n",
            "\u001b[2K     \u001b[90m━━━━━━━━━━━━━━━━━━━━━━━━━━━━━━━━━━━━━━━━\u001b[0m \u001b[32m49.1/49.1 KB\u001b[0m \u001b[31m5.0 MB/s\u001b[0m eta \u001b[36m0:00:00\u001b[0m\n",
            "\u001b[?25h"
          ]
        }
      ],
      "source": [
        "!pip -q install openai==0.27.0 langchain huggingface_hub"
      ]
    },
    {
      "cell_type": "markdown",
      "source": [
        "## PAL \n",
        "\n",
        "https://langchain.readthedocs.io/en/latest/modules/chains/examples/pal.html?highlight=PAL\n",
        "\n",
        "Implements Program-Aided Language Models, as in https://arxiv.org/pdf/2211.10435.pdf.\n",
        "\n",
        "https://reasonwithpal.com/"
      ],
      "metadata": {
        "id": "VkVTT54xNq8T"
      }
    },
    {
      "cell_type": "code",
      "source": [
        "import os\n",
        "\n",
        "os.environ[\"OPENAI_API_KEY\"] = \"\"\n"
      ],
      "metadata": {
        "id": "2PpqSc3cG7jJ"
      },
      "execution_count": null,
      "outputs": []
    },
    {
      "cell_type": "code",
      "source": [
        "from langchain.chains import PALChain\n",
        "from langchain import OpenAI\n",
        "from langchain.chains.llm import LLMChain"
      ],
      "metadata": {
        "id": "-lzO5PfUpwfv"
      },
      "execution_count": null,
      "outputs": []
    },
    {
      "cell_type": "code",
      "source": [
        "llm = OpenAI(model_name='code-davinci-002', \n",
        "             temperature=0, \n",
        "             max_tokens=512)"
      ],
      "metadata": {
        "id": "SAtbtb9uG_H5"
      },
      "execution_count": null,
      "outputs": []
    },
    {
      "cell_type": "markdown",
      "source": [
        "## PAL - Program aided Language Model\n",
        "\n",
        "https://www.prodigygame.com/main-en/blog/math-word-problems/\n",
        "\n",
        "<img src=\"https://www.dropbox.com/s/i0wiuneh61r9u28/Screenshot%202023-03-09%20at%206.39.34%20PM.png?raw=1\" alt=\"example image\" width=\"300\">"
      ],
      "metadata": {
        "id": "MS12twInaa_j"
      }
    },
    {
      "cell_type": "code",
      "source": [
        "pal_chain = PALChain.from_math_prompt(llm, verbose=True)"
      ],
      "metadata": {
        "id": "odJ9mqfHHjMe"
      },
      "execution_count": null,
      "outputs": []
    },
    {
      "cell_type": "code",
      "source": [
        "question = \"The cafeteria had 23 apples. \\\n",
        "If they used 20 for lunch and bought 6 more,\\\n",
        "how many apples do they have?\""
      ],
      "metadata": {
        "id": "RS0GyY0xIA-A"
      },
      "execution_count": null,
      "outputs": []
    },
    {
      "cell_type": "code",
      "source": [
        "pal_chain.run(question)"
      ],
      "metadata": {
        "colab": {
          "base_uri": "https://localhost:8080/",
          "height": 281
        },
        "id": "aBYAo9OgKf2W",
        "outputId": "55337be2-02af-499a-854b-5f5a06992fca"
      },
      "execution_count": null,
      "outputs": [
        {
          "output_type": "stream",
          "name": "stdout",
          "text": [
            "\n",
            "\n",
            "\u001b[1m> Entering new PALChain chain...\u001b[0m\n",
            "\u001b[32;1m\u001b[1;3mdef solution():\n",
            "    \"\"\"The cafeteria had 23 apples. If they used 20 for lunch and bought 6 more,how many apples do they have?\"\"\"\n",
            "    apples_initial = 23\n",
            "    apples_used = 20\n",
            "    apples_bought = 6\n",
            "    apples_left = apples_initial - apples_used + apples_bought\n",
            "    result = apples_left\n",
            "    return result\u001b[0m\n",
            "\n",
            "\u001b[1m> Finished chain.\u001b[0m\n"
          ]
        },
        {
          "output_type": "execute_result",
          "data": {
            "text/plain": [
              "'9'"
            ],
            "application/vnd.google.colaboratory.intrinsic+json": {
              "type": "string"
            }
          },
          "metadata": {},
          "execution_count": 8
        }
      ]
    },
    {
      "cell_type": "code",
      "source": [
        "question"
      ],
      "metadata": {
        "colab": {
          "base_uri": "https://localhost:8080/",
          "height": 53
        },
        "id": "kkNwlYGn_WJu",
        "outputId": "566a6175-b0a8-4a5c-acbc-d70f3da1eb0f"
      },
      "execution_count": null,
      "outputs": [
        {
          "output_type": "execute_result",
          "data": {
            "text/plain": [
              "'The cafeteria had 23 apples. If they used 20 for lunch and bought 6 more,how many apples do they have?'"
            ],
            "application/vnd.google.colaboratory.intrinsic+json": {
              "type": "string"
            }
          },
          "metadata": {},
          "execution_count": 21
        }
      ]
    },
    {
      "cell_type": "code",
      "source": [
        "pal_chain.prompt.template"
      ],
      "metadata": {
        "colab": {
          "base_uri": "https://localhost:8080/",
          "height": 191
        },
        "id": "LJfdSZ9JcfQ0",
        "outputId": "6e091a5a-6b39-4254-8e58-91fbc3926d3a"
      },
      "execution_count": null,
      "outputs": [
        {
          "output_type": "execute_result",
          "data": {
            "text/plain": [
              "'Q: Olivia has $23. She bought five bagels for $3 each. How much money does she have left?\\n\\n# solution in Python:\\n\\n\\ndef solution():\\n    \"\"\"Olivia has $23. She bought five bagels for $3 each. How much money does she have left?\"\"\"\\n    money_initial = 23\\n    bagels = 5\\n    bagel_cost = 3\\n    money_spent = bagels * bagel_cost\\n    money_left = money_initial - money_spent\\n    result = money_left\\n    return result\\n\\n\\n\\n\\n\\nQ: Michael had 58 golf balls. On tuesday, he lost 23 golf balls. On wednesday, he lost 2 more. How many golf balls did he have at the end of wednesday?\\n\\n# solution in Python:\\n\\n\\ndef solution():\\n    \"\"\"Michael had 58 golf balls. On tuesday, he lost 23 golf balls. On wednesday, he lost 2 more. How many golf balls did he have at the end of wednesday?\"\"\"\\n    golf_balls_initial = 58\\n    golf_balls_lost_tuesday = 23\\n    golf_balls_lost_wednesday = 2\\n    golf_balls_left = golf_balls_initial - golf_balls_lost_tuesday - golf_balls_lost_wednesday\\n    result = golf_balls_left\\n    return result\\n\\n\\n\\n\\n\\nQ: There were nine computers in the server room. Five more computers were installed each day, from monday to thursday. How many computers are now in the server room?\\n\\n# solution in Python:\\n\\n\\ndef solution():\\n    \"\"\"There were nine computers in the server room. Five more computers were installed each day, from monday to thursday. How many computers are now in the server room?\"\"\"\\n    computers_initial = 9\\n    computers_per_day = 5\\n    num_days = 4  # 4 days between monday and thursday\\n    computers_added = computers_per_day * num_days\\n    computers_total = computers_initial + computers_added\\n    result = computers_total\\n    return result\\n\\n\\n\\n\\n\\nQ: Shawn has five toys. For Christmas, he got two toys each from his mom and dad. How many toys does he have now?\\n\\n# solution in Python:\\n\\n\\ndef solution():\\n    \"\"\"Shawn has five toys. For Christmas, he got two toys each from his mom and dad. How many toys does he have now?\"\"\"\\n    toys_initial = 5\\n    mom_toys = 2\\n    dad_toys = 2\\n    total_received = mom_toys + dad_toys\\n    total_toys = toys_initial + total_received\\n    result = total_toys\\n    return result\\n\\n\\n\\n\\n\\nQ: Jason had 20 lollipops. He gave Denny some lollipops. Now Jason has 12 lollipops. How many lollipops did Jason give to Denny?\\n\\n# solution in Python:\\n\\n\\ndef solution():\\n    \"\"\"Jason had 20 lollipops. He gave Denny some lollipops. Now Jason has 12 lollipops. How many lollipops did Jason give to Denny?\"\"\"\\n    jason_lollipops_initial = 20\\n    jason_lollipops_after = 12\\n    denny_lollipops = jason_lollipops_initial - jason_lollipops_after\\n    result = denny_lollipops\\n    return result\\n\\n\\n\\n\\n\\nQ: Leah had 32 chocolates and her sister had 42. If they ate 35, how many pieces do they have left in total?\\n\\n# solution in Python:\\n\\n\\ndef solution():\\n    \"\"\"Leah had 32 chocolates and her sister had 42. If they ate 35, how many pieces do they have left in total?\"\"\"\\n    leah_chocolates = 32\\n    sister_chocolates = 42\\n    total_chocolates = leah_chocolates + sister_chocolates\\n    chocolates_eaten = 35\\n    chocolates_left = total_chocolates - chocolates_eaten\\n    result = chocolates_left\\n    return result\\n\\n\\n\\n\\n\\nQ: If there are 3 cars in the parking lot and 2 more cars arrive, how many cars are in the parking lot?\\n\\n# solution in Python:\\n\\n\\ndef solution():\\n    \"\"\"If there are 3 cars in the parking lot and 2 more cars arrive, how many cars are in the parking lot?\"\"\"\\n    cars_initial = 3\\n    cars_arrived = 2\\n    total_cars = cars_initial + cars_arrived\\n    result = total_cars\\n    return result\\n\\n\\n\\n\\n\\nQ: There are 15 trees in the grove. Grove workers will plant trees in the grove today. After they are done, there will be 21 trees. How many trees did the grove workers plant today?\\n\\n# solution in Python:\\n\\n\\ndef solution():\\n    \"\"\"There are 15 trees in the grove. Grove workers will plant trees in the grove today. After they are done, there will be 21 trees. How many trees did the grove workers plant today?\"\"\"\\n    trees_initial = 15\\n    trees_after = 21\\n    trees_added = trees_after - trees_initial\\n    result = trees_added\\n    return result\\n\\n\\n\\n\\n\\nQ: {question}\\n\\n# solution in Python:\\n\\n\\n'"
            ],
            "application/vnd.google.colaboratory.intrinsic+json": {
              "type": "string"
            }
          },
          "metadata": {},
          "execution_count": 22
        }
      ]
    },
    {
      "cell_type": "markdown",
      "source": [
        "Q: Olivia has $23. She bought five bagels for $3 each. How much money does she have left?\n",
        "\n",
        "# solution in Python:\n",
        "\n",
        "\n",
        "def solution():\n",
        "    \"\"\"Olivia has $23. She bought five bagels for $3 each. How much money does she have left?\"\"\"\n",
        "    money_initial = 23\n",
        "    bagels = 5\n",
        "    bagel_cost = 3\n",
        "    money_spent = bagels * bagel_cost\n",
        "    money_left = money_initial - money_spent\n",
        "    result = money_left\n",
        "    return result\n",
        "\n",
        "\n",
        "\n",
        "\n",
        "\n",
        "Q: Michael had 58 golf balls. On tuesday, he lost 23 golf balls. On wednesday, he lost 2 more. How many golf balls did he have at the end of wednesday?\n",
        "\n",
        "# solution in Python:\n",
        "\n",
        "\n",
        "def solution():\n",
        "    \"\"\"Michael had 58 golf balls. On tuesday, he lost 23 golf balls. On wednesday, he lost 2 more. How many golf balls did he have at the end of wednesday?\"\"\"\n",
        "    golf_balls_initial = 58\n",
        "    golf_balls_lost_tuesday = 23\n",
        "    golf_balls_lost_wednesday = 2\n",
        "    golf_balls_left = golf_balls_initial - golf_balls_lost_tuesday - golf_balls_lost_wednesday\n",
        "    result = golf_balls_left\n",
        "    return result\n",
        "\n",
        "\n",
        "\n",
        "\n",
        "\n",
        "Q: There were nine computers in the server room. Five more computers were installed each day, from monday to thursday. How many computers are now in the server room?\n",
        "\n",
        "# solution in Python:\n",
        "\n",
        "\n",
        "def solution():\n",
        "    \"\"\"There were nine computers in the server room. Five more computers were installed each day, from monday to thursday. How many computers are now in the server room?\"\"\"\n",
        "    computers_initial = 9\n",
        "    computers_per_day = 5\n",
        "    num_days = 4  # 4 days between monday and thursday\n",
        "    computers_added = computers_per_day * num_days\n",
        "    computers_total = computers_initial + computers_added\n",
        "    result = computers_total\n",
        "    return result\n",
        "\n",
        "\n",
        "\n",
        "\n",
        "\n",
        "Q: Shawn has five toys. For Christmas, he got two toys each from his mom and dad. How many toys does he have now?\n",
        "\n",
        "# solution in Python:\n",
        "\n",
        "\n",
        "def solution():\n",
        "    \"\"\"Shawn has five toys. For Christmas, he got two toys each from his mom and dad. How many toys does he have now?\"\"\"\n",
        "    toys_initial = 5\n",
        "    mom_toys = 2\n",
        "    dad_toys = 2\n",
        "    total_received = mom_toys + dad_toys\n",
        "    total_toys = toys_initial + total_received\n",
        "    result = total_toys\n",
        "    return result\n",
        "\n",
        "\n",
        "\n",
        "\n",
        "\n",
        "Q: Jason had 20 lollipops. He gave Denny some lollipops. Now Jason has 12 lollipops. How many lollipops did Jason give to Denny?\n",
        "\n",
        "# solution in Python:\n",
        "\n",
        "\n",
        "def solution():\n",
        "    \"\"\"Jason had 20 lollipops. He gave Denny some lollipops. Now Jason has 12 lollipops. How many lollipops did Jason give to Denny?\"\"\"\n",
        "    jason_lollipops_initial = 20\n",
        "    jason_lollipops_after = 12\n",
        "    denny_lollipops = jason_lollipops_initial - jason_lollipops_after\n",
        "    result = denny_lollipops\n",
        "    return result\n",
        "\n",
        "\n",
        "\n",
        "\n",
        "\n",
        "Q: Leah had 32 chocolates and her sister had 42. If they ate 35, how many pieces do they have left in total?\n",
        "\n",
        "# solution in Python:\n",
        "\n",
        "\n",
        "def solution():\n",
        "    \"\"\"Leah had 32 chocolates and her sister had 42. If they ate 35, how many pieces do they have left in total?\"\"\"\n",
        "    leah_chocolates = 32\n",
        "    sister_chocolates = 42\n",
        "    total_chocolates = leah_chocolates + sister_chocolates\n",
        "    chocolates_eaten = 35\n",
        "    chocolates_left = total_chocolates - chocolates_eaten\n",
        "    result = chocolates_left\n",
        "    return result\n",
        "\n",
        "\n",
        "\n",
        "\n",
        "\n",
        "Q: If there are 3 cars in the parking lot and 2 more cars arrive, how many cars are in the parking lot?\n",
        "\n",
        "# solution in Python:\n",
        "\n",
        "\n",
        "def solution():\n",
        "    \"\"\"If there are 3 cars in the parking lot and 2 more cars arrive, how many cars are in the parking lot?\"\"\"\n",
        "    cars_initial = 3\n",
        "    cars_arrived = 2\n",
        "    total_cars = cars_initial + cars_arrived\n",
        "    result = total_cars\n",
        "    return result\n",
        "\n",
        "\n",
        "\n",
        "\n",
        "\n",
        "Q: There are 15 trees in the grove. Grove workers will plant trees in the grove today. After they are done, there will be 21 trees. How many trees did the grove workers plant today?\n",
        "\n",
        "# solution in Python:\n",
        "\n",
        "\n",
        "def solution():\n",
        "    \"\"\"There are 15 trees in the grove. Grove workers will plant trees in the grove today. After they are done, there will be 21 trees. How many trees did the grove workers plant today?\"\"\"\n",
        "    trees_initial = 15\n",
        "    trees_after = 21\n",
        "    trees_added = trees_after - trees_initial\n",
        "    result = trees_added\n",
        "    return result\n",
        "\n",
        "\n",
        "\n",
        "\n",
        "\n",
        "Q: {question}\n",
        "\n",
        "# solution in Python:\n",
        "\n",
        "\n"
      ],
      "metadata": {
        "id": "SNGzO_yxcqdz"
      }
    },
    {
      "cell_type": "markdown",
      "source": [
        "## GSM8k"
      ],
      "metadata": {
        "id": "cs8b3-DW_7Lc"
      }
    },
    {
      "cell_type": "code",
      "source": [
        "question = \"John buys twice as many red ties as blue ties. The red ties cost 50% more than blue ties. \\\n",
        "He spent $200 on blue ties that cost $40 each. How much did he spend on ties?\""
      ],
      "metadata": {
        "id": "_a5XP5k_Anff"
      },
      "execution_count": null,
      "outputs": []
    },
    {
      "cell_type": "code",
      "source": [
        "pal_chain.run(question)"
      ],
      "metadata": {
        "colab": {
          "base_uri": "https://localhost:8080/",
          "height": 333
        },
        "id": "WXiqz42uAy0G",
        "outputId": "0b3527db-f311-421e-bb72-e270c61dcf05"
      },
      "execution_count": null,
      "outputs": [
        {
          "output_type": "stream",
          "name": "stdout",
          "text": [
            "\n",
            "\n",
            "\u001b[1m> Entering new PALChain chain...\u001b[0m\n",
            "\u001b[32;1m\u001b[1;3mdef solution():\n",
            "    \"\"\"John buys twice as many red ties as blue ties. The red ties cost 50% more than blue ties. He spent $200 on blue ties that cost $40 each. How much did he spend on ties?\"\"\"\n",
            "    blue_ties_cost = 40\n",
            "    blue_ties_num = 200 / blue_ties_cost\n",
            "    red_ties_num = blue_ties_num * 2\n",
            "    red_ties_cost = blue_ties_cost * 1.5\n",
            "    red_ties_total = red_ties_num * red_ties_cost\n",
            "    blue_ties_total = blue_ties_num * blue_ties_cost\n",
            "    total_spent = red_ties_total + blue_ties_total\n",
            "    result = total_spent\n",
            "    return result\u001b[0m\n",
            "\n",
            "\u001b[1m> Finished chain.\u001b[0m\n"
          ]
        },
        {
          "output_type": "execute_result",
          "data": {
            "text/plain": [
              "'800.0'"
            ],
            "application/vnd.google.colaboratory.intrinsic+json": {
              "type": "string"
            }
          },
          "metadata": {},
          "execution_count": 37
        }
      ]
    },
    {
      "cell_type": "code",
      "source": [
        "question = \"Maggie spent a quarter of her money, while Riza spent one-third of her money. \\\n",
        "They each had $60. How much money do the two of them have left?\""
      ],
      "metadata": {
        "id": "ViiU4blmK6mf"
      },
      "execution_count": null,
      "outputs": []
    },
    {
      "cell_type": "code",
      "source": [
        "pal_chain.run(question)"
      ],
      "metadata": {
        "colab": {
          "base_uri": "https://localhost:8080/",
          "height": 333
        },
        "id": "Emgw7lKaK_KQ",
        "outputId": "0c1de2f8-12c2-4b9e-af49-cade2df83db9"
      },
      "execution_count": null,
      "outputs": [
        {
          "output_type": "stream",
          "name": "stdout",
          "text": [
            "\n",
            "\n",
            "\u001b[1m> Entering new PALChain chain...\u001b[0m\n",
            "\u001b[32;1m\u001b[1;3mdef solution():\n",
            "    \"\"\"Maggie spent a quarter of her money, while Riza spent one-third of her money. They each had $60. How much money do the two of them have left?\"\"\"\n",
            "    maggie_money_initial = 60\n",
            "    maggie_money_spent = maggie_money_initial / 4\n",
            "    maggie_money_left = maggie_money_initial - maggie_money_spent\n",
            "    riza_money_initial = 60\n",
            "    riza_money_spent = riza_money_initial / 3\n",
            "    riza_money_left = riza_money_initial - riza_money_spent\n",
            "    total_money_left = maggie_money_left + riza_money_left\n",
            "    result = total_money_left\n",
            "    return result\u001b[0m\n",
            "\n",
            "\u001b[1m> Finished chain.\u001b[0m\n"
          ]
        },
        {
          "output_type": "execute_result",
          "data": {
            "text/plain": [
              "'85.0'"
            ],
            "application/vnd.google.colaboratory.intrinsic+json": {
              "type": "string"
            }
          },
          "metadata": {},
          "execution_count": 39
        }
      ]
    },
    {
      "cell_type": "code",
      "source": [
        "question = \"In November, a toy was $8186321.4112. \\\n",
        "In December, the price increased by 80%. In January, the price decreased by 50%. \\\n",
        "What was the price of the toy after it was discounted in January?\""
      ],
      "metadata": {
        "id": "cYveyvWXLSzy"
      },
      "execution_count": null,
      "outputs": []
    },
    {
      "cell_type": "code",
      "source": [
        "pal_chain.run(question)"
      ],
      "metadata": {
        "colab": {
          "base_uri": "https://localhost:8080/",
          "height": 264
        },
        "id": "ZIQ_6tsQLYgI",
        "outputId": "1e8eca0e-e55b-4421-fb43-fa214247d415"
      },
      "execution_count": null,
      "outputs": [
        {
          "output_type": "stream",
          "name": "stdout",
          "text": [
            "\n",
            "\n",
            "\u001b[1m> Entering new PALChain chain...\u001b[0m\n",
            "\u001b[32;1m\u001b[1;3mdef solution():\n",
            "    \"\"\"In November, a toy was $8186321.4112. In December, the price increased by 80%. In January, the price decreased by 50%. What was the price of the toy after it was discounted in January?\"\"\"\n",
            "    price_november = 8186321.4112\n",
            "    price_december = price_november * 1.8\n",
            "    price_january = price_december * 0.5\n",
            "    result = price_january\n",
            "    return result\u001b[0m\n",
            "\n",
            "\u001b[1m> Finished chain.\u001b[0m\n"
          ]
        },
        {
          "output_type": "execute_result",
          "data": {
            "text/plain": [
              "'7367689.27008'"
            ],
            "application/vnd.google.colaboratory.intrinsic+json": {
              "type": "string"
            }
          },
          "metadata": {},
          "execution_count": 45
        }
      ]
    },
    {
      "cell_type": "markdown",
      "source": [
        "## Repeat words"
      ],
      "metadata": {
        "id": "HUOUl_HRL6Cd"
      }
    },
    {
      "cell_type": "code",
      "source": [
        "question = \"Repeat cheese seven times; every third say whiz\""
      ],
      "metadata": {
        "id": "_MJZozf6L9Mb"
      },
      "execution_count": null,
      "outputs": []
    },
    {
      "cell_type": "code",
      "source": [
        "pal_chain.run(question)"
      ],
      "metadata": {
        "colab": {
          "base_uri": "https://localhost:8080/",
          "height": 296
        },
        "id": "SStFPIwaMCod",
        "outputId": "42e1e139-6260-4f8c-c880-3598d48a8e0e"
      },
      "execution_count": null,
      "outputs": [
        {
          "output_type": "stream",
          "name": "stdout",
          "text": [
            "\n",
            "\n",
            "\u001b[1m> Entering new PALChain chain...\u001b[0m\n",
            "\u001b[32;1m\u001b[1;3mdef solution():\n",
            "    \"\"\"Repeat cheese seven times; every third say whiz\"\"\"\n",
            "    cheese = \"cheese\"\n",
            "    whiz = \"whiz\"\n",
            "    cheese_count = 7\n",
            "    whiz_count = 3\n",
            "    cheese_result = cheese * cheese_count\n",
            "    whiz_result = whiz * whiz_count\n",
            "    result = cheese_result + whiz_result\n",
            "    return result\u001b[0m\n",
            "\n",
            "\u001b[1m> Finished chain.\u001b[0m\n"
          ]
        },
        {
          "output_type": "execute_result",
          "data": {
            "text/plain": [
              "'cheesecheesecheesecheesecheesecheesecheesewhizwhizwhiz'"
            ],
            "application/vnd.google.colaboratory.intrinsic+json": {
              "type": "string"
            }
          },
          "metadata": {},
          "execution_count": 47
        }
      ]
    },
    {
      "cell_type": "code",
      "source": [
        "question = \"Say the letters of the alphabet in capital letters, but only the odd ones\"\n",
        "#A C E G I K M O Q S U W Y\""
      ],
      "metadata": {
        "id": "D7gfcvKcMErB"
      },
      "execution_count": null,
      "outputs": []
    },
    {
      "cell_type": "code",
      "source": [
        "pal_chain.run(question)"
      ],
      "metadata": {
        "colab": {
          "base_uri": "https://localhost:8080/",
          "height": 226
        },
        "id": "ltzGYvqOME4d",
        "outputId": "04b6c1a8-83aa-4626-ffad-6dabba4f9041"
      },
      "execution_count": null,
      "outputs": [
        {
          "output_type": "stream",
          "name": "stdout",
          "text": [
            "\n",
            "\n",
            "\u001b[1m> Entering new PALChain chain...\u001b[0m\n",
            "\u001b[32;1m\u001b[1;3mdef solution():\n",
            "    \"\"\"Say the letters of the alphabet in capital letters, but only the odd ones\"\"\"\n",
            "    alphabet = \"ABCDEFGHIJKLMNOPQRSTUVWXYZ\"\n",
            "    odd_letters = alphabet[::2]\n",
            "    result = odd_letters\n",
            "    return result\u001b[0m\n",
            "\n",
            "\u001b[1m> Finished chain.\u001b[0m\n"
          ]
        },
        {
          "output_type": "execute_result",
          "data": {
            "text/plain": [
              "'ACEGIKMOQSUWY'"
            ],
            "application/vnd.google.colaboratory.intrinsic+json": {
              "type": "string"
            }
          },
          "metadata": {},
          "execution_count": 49
        }
      ]
    },
    {
      "cell_type": "markdown",
      "source": [
        "## Word Math Problems\n",
        "\n",
        "https://www.prodigygame.com/main-en/blog/math-word-problems/"
      ],
      "metadata": {
        "id": "jGiaKVyr_1gS"
      }
    },
    {
      "cell_type": "code",
      "source": [
        "question = \"If you have 80 tickets for the fair and each ride costs 5 tickets, \\\n",
        "how many rides can you go on?\""
      ],
      "metadata": {
        "id": "W6VwsxJlYLrA"
      },
      "execution_count": null,
      "outputs": []
    },
    {
      "cell_type": "code",
      "source": [
        "pal_chain.run(question)"
      ],
      "metadata": {
        "colab": {
          "base_uri": "https://localhost:8080/",
          "height": 264
        },
        "id": "4OrBbz1xYRLx",
        "outputId": "60c3f39d-ff0d-4747-9a2b-8a218a8e84e9"
      },
      "execution_count": null,
      "outputs": [
        {
          "output_type": "stream",
          "name": "stdout",
          "text": [
            "\n",
            "\n",
            "\u001b[1m> Entering new PALChain chain...\u001b[0m\n",
            "\u001b[32;1m\u001b[1;3mdef solution():\n",
            "    \"\"\"If you have 80 tickets for the fair and each ride costs 5 tickets, how many rides can you go on?\"\"\"\n",
            "    tickets_initial = 80\n",
            "    ride_cost = 5\n",
            "    rides_possible = tickets_initial // ride_cost\n",
            "    result = rides_possible\n",
            "    return result\u001b[0m\n",
            "\n",
            "\u001b[1m> Finished chain.\u001b[0m\n"
          ]
        },
        {
          "output_type": "execute_result",
          "data": {
            "text/plain": [
              "'16'"
            ],
            "application/vnd.google.colaboratory.intrinsic+json": {
              "type": "string"
            }
          },
          "metadata": {},
          "execution_count": 24
        }
      ]
    },
    {
      "cell_type": "code",
      "source": [
        "question = \"The school has $20,000 to buy new computer equipment. If each piece of equipment costs $50,\\\n",
        " how many pieces can the school buy in total?\""
      ],
      "metadata": {
        "id": "TaTBunuaYdSJ"
      },
      "execution_count": null,
      "outputs": []
    },
    {
      "cell_type": "code",
      "source": [
        "pal_chain.run(question)"
      ],
      "metadata": {
        "colab": {
          "base_uri": "https://localhost:8080/",
          "height": 264
        },
        "id": "ckH5JthuYfsa",
        "outputId": "841d97f2-e918-466b-f83b-ec95e718f3fd"
      },
      "execution_count": null,
      "outputs": [
        {
          "output_type": "stream",
          "name": "stdout",
          "text": [
            "\n",
            "\n",
            "\u001b[1m> Entering new PALChain chain...\u001b[0m\n",
            "\u001b[32;1m\u001b[1;3mdef solution():\n",
            "    \"\"\"The school has $20,000 to buy new computer equipment. If each piece of equipment costs $50, how many pieces can the school buy in total?\"\"\"\n",
            "    money_available = 20000\n",
            "    equipment_cost = 50\n",
            "    total_equipment = money_available // equipment_cost\n",
            "    result = total_equipment\n",
            "    return result\u001b[0m\n",
            "\n",
            "\u001b[1m> Finished chain.\u001b[0m\n"
          ]
        },
        {
          "output_type": "execute_result",
          "data": {
            "text/plain": [
              "'400'"
            ],
            "application/vnd.google.colaboratory.intrinsic+json": {
              "type": "string"
            }
          },
          "metadata": {},
          "execution_count": 28
        }
      ]
    },
    {
      "cell_type": "code",
      "source": [
        "#interpreting remainders\n",
        "question = 'An Italian restaurant receives a shipment of 86 veal cutlets. If it takes 3 cutlets to make a dish, \\\n",
        "how many cutlets will the restaurant have left over after making as many dishes as possible?'"
      ],
      "metadata": {
        "id": "iWsVYHvEYtd8"
      },
      "execution_count": null,
      "outputs": []
    },
    {
      "cell_type": "code",
      "source": [
        "pal_chain.run(question)"
      ],
      "metadata": {
        "colab": {
          "base_uri": "https://localhost:8080/",
          "height": 281
        },
        "id": "STkjY8K8Y11a",
        "outputId": "1418aed9-7486-40f4-efa0-0f52ce8201fd"
      },
      "execution_count": null,
      "outputs": [
        {
          "output_type": "stream",
          "name": "stdout",
          "text": [
            "\n",
            "\n",
            "\u001b[1m> Entering new PALChain chain...\u001b[0m\n",
            "\u001b[32;1m\u001b[1;3mdef solution():\n",
            "    \"\"\"An Italian restaurant receives a shipment of 86 veal cutlets. If it takes 3 cutlets to make a dish, how many cutlets will the restaurant have left over after making as many dishes as possible?\"\"\"\n",
            "    cutlets_initial = 86\n",
            "    cutlets_per_dish = 3\n",
            "    num_dishes = cutlets_initial // cutlets_per_dish\n",
            "    cutlets_leftover = cutlets_initial % cutlets_per_dish\n",
            "    result = cutlets_leftover\n",
            "    return result\u001b[0m\n",
            "\n",
            "\u001b[1m> Finished chain.\u001b[0m\n"
          ]
        },
        {
          "output_type": "execute_result",
          "data": {
            "text/plain": [
              "'2'"
            ],
            "application/vnd.google.colaboratory.intrinsic+json": {
              "type": "string"
            }
          },
          "metadata": {},
          "execution_count": 30
        }
      ]
    },
    {
      "cell_type": "code",
      "source": [
        "# mixed operations\n",
        "question = \"There are 235 books in a library. On Monday, 123 books are taken out. \\\n",
        "On Tuesday, 56 books are brought back. How many books are there now?\""
      ],
      "metadata": {
        "id": "7HS17r2CapDB"
      },
      "execution_count": null,
      "outputs": []
    },
    {
      "cell_type": "code",
      "source": [
        "pal_chain.run(question)"
      ],
      "metadata": {
        "colab": {
          "base_uri": "https://localhost:8080/",
          "height": 281
        },
        "id": "CmkHE8O_awBL",
        "outputId": "8f7ed335-8dc4-49fa-8c47-27e46a3d6084"
      },
      "execution_count": null,
      "outputs": [
        {
          "output_type": "stream",
          "name": "stdout",
          "text": [
            "\n",
            "\n",
            "\u001b[1m> Entering new PALChain chain...\u001b[0m\n",
            "\u001b[32;1m\u001b[1;3mdef solution():\n",
            "    \"\"\"There are 235 books in a library. On Monday, 123 books are taken out. On Tuesday, 56 books are brought back. How many books are there now?\"\"\"\n",
            "    books_initial = 235\n",
            "    books_taken_out = 123\n",
            "    books_returned = 56\n",
            "    books_left = books_initial - books_taken_out + books_returned\n",
            "    result = books_left\n",
            "    return result\u001b[0m\n",
            "\n",
            "\u001b[1m> Finished chain.\u001b[0m\n"
          ]
        },
        {
          "output_type": "execute_result",
          "data": {
            "text/plain": [
              "'168'"
            ],
            "application/vnd.google.colaboratory.intrinsic+json": {
              "type": "string"
            }
          },
          "metadata": {},
          "execution_count": 40
        }
      ]
    },
    {
      "cell_type": "code",
      "source": [
        "# percentages\n",
        "question = \"The school’s junior band has 10 saxophone players and 20 trumpet players. \\\n",
        " The school’s senior band has 18 saxophone players and 29 trumpet players. \\\n",
        "Which band has the higher ratio of trumpet to saxophone players?\""
      ],
      "metadata": {
        "id": "SUcBfsWPaCdO"
      },
      "execution_count": null,
      "outputs": []
    },
    {
      "cell_type": "code",
      "source": [
        "pal_chain.run(question)"
      ],
      "metadata": {
        "colab": {
          "base_uri": "https://localhost:8080/",
          "height": 402
        },
        "id": "kpiuuVblaMRZ",
        "outputId": "6000890a-4ea3-4dc4-fe51-a2e5f441fe70"
      },
      "execution_count": null,
      "outputs": [
        {
          "output_type": "stream",
          "name": "stdout",
          "text": [
            "\n",
            "\n",
            "\u001b[1m> Entering new PALChain chain...\u001b[0m\n",
            "\u001b[32;1m\u001b[1;3mdef solution():\n",
            "    \"\"\"The school’s junior band has 10 saxophone players and 20 trumpet players.  The school’s senior band has 18 saxophone players and 29 trumpet players. Which band has the higher ratio of trumpet to saxophone players?\"\"\"\n",
            "    junior_sax = 10\n",
            "    junior_trumpet = 20\n",
            "    senior_sax = 18\n",
            "    senior_trumpet = 29\n",
            "    junior_ratio = junior_trumpet / junior_sax\n",
            "    senior_ratio = senior_trumpet / senior_sax\n",
            "    if junior_ratio > senior_ratio:\n",
            "        result = \"junior\"\n",
            "    elif senior_ratio > junior_ratio:\n",
            "        result = \"senior\"\n",
            "    else:\n",
            "        result = \"equal\"\n",
            "    return result\u001b[0m\n",
            "\n",
            "\u001b[1m> Finished chain.\u001b[0m\n"
          ]
        },
        {
          "output_type": "execute_result",
          "data": {
            "text/plain": [
              "'junior'"
            ],
            "application/vnd.google.colaboratory.intrinsic+json": {
              "type": "string"
            }
          },
          "metadata": {},
          "execution_count": 28
        }
      ]
    },
    {
      "cell_type": "markdown",
      "source": [
        "## Some failures"
      ],
      "metadata": {
        "id": "k1Xh74gsBWCx"
      }
    },
    {
      "cell_type": "code",
      "source": [
        "# Time - fails\n",
        "question = \"If you wake up at 7:00 a.m. and it takes you 1 hour and 30 minutes to get ready and walk to school, at what time will you get to school?\"\n"
      ],
      "metadata": {
        "id": "9ygDp4WgZKWp"
      },
      "execution_count": null,
      "outputs": []
    },
    {
      "cell_type": "code",
      "source": [
        "pal_chain.run(question)"
      ],
      "metadata": {
        "colab": {
          "base_uri": "https://localhost:8080/",
          "height": 298
        },
        "id": "SfwTN-QfZPAg",
        "outputId": "308871fe-99da-4de6-c749-9bc9c06b78b9"
      },
      "execution_count": null,
      "outputs": [
        {
          "output_type": "stream",
          "name": "stdout",
          "text": [
            "\n",
            "\n",
            "\u001b[1m> Entering new PALChain chain...\u001b[0m\n",
            "\u001b[32;1m\u001b[1;3mdef solution():\n",
            "    \"\"\"If you wake up at 7:00 a.m. and it takes you 1 hour and 30 minutes to get ready and walk to school, at what time will you get to school?\"\"\"\n",
            "    wake_up_time = 7\n",
            "    minutes_to_get_ready = 90\n",
            "    minutes_in_an_hour = 60\n",
            "    hours_to_get_ready = minutes_to_get_ready // minutes_in_an_hour\n",
            "    total_hours = wake_up_time + hours_to_get_ready\n",
            "    result = total_hours\n",
            "    return result\u001b[0m\n",
            "\n",
            "\u001b[1m> Finished chain.\u001b[0m\n"
          ]
        },
        {
          "output_type": "execute_result",
          "data": {
            "text/plain": [
              "'8'"
            ],
            "application/vnd.google.colaboratory.intrinsic+json": {
              "type": "string"
            }
          },
          "metadata": {},
          "execution_count": 32
        }
      ]
    },
    {
      "cell_type": "code",
      "source": [
        "#ratios - fail\n",
        "question = \"The ratio of Jenny’s trophies to Meredith’s trophies is 7:4.\\\n",
        " The difference between the numbers is 12. What are the numbers?\""
      ],
      "metadata": {
        "id": "jnhDYkGJZoLd"
      },
      "execution_count": null,
      "outputs": []
    },
    {
      "cell_type": "code",
      "source": [
        "pal_chain.run(question)"
      ],
      "metadata": {
        "colab": {
          "base_uri": "https://localhost:8080/",
          "height": 281
        },
        "id": "_4MJOMCUZuFC",
        "outputId": "cf5cf6df-7696-4e25-cd4c-5a17d82acd36"
      },
      "execution_count": null,
      "outputs": [
        {
          "output_type": "stream",
          "name": "stdout",
          "text": [
            "\n",
            "\n",
            "\u001b[1m> Entering new PALChain chain...\u001b[0m\n",
            "\u001b[32;1m\u001b[1;3mdef solution():\n",
            "    \"\"\"The ratio of Jenny’s trophies to Meredith’s trophies is 7:4. The difference between the numbers is 12. What are the numbers?\"\"\"\n",
            "    ratio = 7/4\n",
            "    difference = 12\n",
            "    jenny_trophies = difference * ratio\n",
            "    meredith_trophies = difference * (1 - ratio)\n",
            "    result = (jenny_trophies, meredith_trophies)\n",
            "    return result\u001b[0m\n",
            "\n",
            "\u001b[1m> Finished chain.\u001b[0m\n"
          ]
        },
        {
          "output_type": "execute_result",
          "data": {
            "text/plain": [
              "'(21.0, -9.0)'"
            ],
            "application/vnd.google.colaboratory.intrinsic+json": {
              "type": "string"
            }
          },
          "metadata": {},
          "execution_count": 36
        }
      ]
    },
    {
      "cell_type": "markdown",
      "source": [
        "## Colored Objects\n"
      ],
      "metadata": {
        "id": "qO7KNWQNEw53"
      }
    },
    {
      "cell_type": "code",
      "source": [
        "pal_chain = PALChain.from_colored_object_prompt(llm, verbose=True)"
      ],
      "metadata": {
        "id": "lvO31GCGKhHs"
      },
      "execution_count": null,
      "outputs": []
    },
    {
      "cell_type": "code",
      "source": [
        "question = \"On the desk, you see two blue booklets, two purple booklets, 1 purple hat \\\n",
        "and two yellow pairs of sunglasses.\\\n",
        " If I remove all the pairs of sunglasses from the desk, how many purple items remain on it?\""
      ],
      "metadata": {
        "id": "aIhXHBFRE30C"
      },
      "execution_count": null,
      "outputs": []
    },
    {
      "cell_type": "code",
      "source": [
        "pal_chain.run(question)"
      ],
      "metadata": {
        "colab": {
          "base_uri": "https://localhost:8080/",
          "height": 417
        },
        "id": "PW7CC96DE33R",
        "outputId": "186a3728-3963-40d8-dc2b-257ae5b9edbd"
      },
      "execution_count": null,
      "outputs": [
        {
          "output_type": "stream",
          "name": "stdout",
          "text": [
            "\n",
            "\n",
            "\u001b[1m> Entering new PALChain chain...\u001b[0m\n",
            "\u001b[32;1m\u001b[1;3m# Put objects into a list to record ordering\n",
            "objects = []\n",
            "objects += [('booklet', 'blue')] * 2\n",
            "objects += [('booklet', 'purple')] * 2\n",
            "objects += [('hat', 'purple')] * 1\n",
            "objects += [('sunglasses', 'yellow')] * 2\n",
            "\n",
            "# Remove all pairs of sunglasses\n",
            "objects = [object for object in objects if object[0] != 'sunglasses']\n",
            "\n",
            "# Count number of purple items\n",
            "num_purple = 0\n",
            "for object in objects:\n",
            "    if object[1] == 'purple':\n",
            "        num_purple += 1\n",
            "\n",
            "answer = num_purple\u001b[0m\n",
            "\n",
            "\u001b[1m> Finished chain.\u001b[0m\n"
          ]
        },
        {
          "output_type": "execute_result",
          "data": {
            "text/plain": [
              "'3'"
            ],
            "application/vnd.google.colaboratory.intrinsic+json": {
              "type": "string"
            }
          },
          "metadata": {},
          "execution_count": 14
        }
      ]
    },
    {
      "cell_type": "markdown",
      "source": [
        "## Intermediate steps"
      ],
      "metadata": {
        "id": "b-xf7ZH9FBXY"
      }
    },
    {
      "cell_type": "code",
      "source": [
        "pal_chain = PALChain.from_colored_object_prompt(llm, \n",
        "                                                verbose=True, \n",
        "                                                return_intermediate_steps=True)"
      ],
      "metadata": {
        "id": "vU5fUnuFE36F"
      },
      "execution_count": null,
      "outputs": []
    },
    {
      "cell_type": "code",
      "source": [
        "question = \"On the desk, you see two blue booklets, two purple booklets,\\\n",
        "1 purple hat and two yellow pairs of sunglasses. \\\n",
        "If I remove all the pairs of sunglasses from the desk, how many purple items remain on it?\""
      ],
      "metadata": {
        "id": "KiWrj9iFE38M"
      },
      "execution_count": null,
      "outputs": []
    },
    {
      "cell_type": "code",
      "source": [
        "result = pal_chain({\"question\": question})"
      ],
      "metadata": {
        "colab": {
          "base_uri": "https://localhost:8080/"
        },
        "id": "Alv4nUz6FPdz",
        "outputId": "0f333f19-8d8f-4c03-d49a-415b6d3c7c76"
      },
      "execution_count": null,
      "outputs": [
        {
          "output_type": "stream",
          "name": "stdout",
          "text": [
            "\n",
            "\n",
            "\u001b[1m> Entering new PALChain chain...\u001b[0m\n",
            "\u001b[32;1m\u001b[1;3m# Put objects into a list to record ordering\n",
            "objects = []\n",
            "objects += [('booklet', 'blue')] * 2\n",
            "objects += [('booklet', 'purple')] * 2\n",
            "objects += [('hat', 'purple')] * 1\n",
            "objects += [('sunglasses', 'yellow')] * 2\n",
            "\n",
            "# Remove all pairs of sunglasses\n",
            "objects = [object for object in objects if object[0] != 'sunglasses']\n",
            "\n",
            "# Count number of purple items\n",
            "num_purple = len([object for object in objects if object[1] == 'purple'])\n",
            "answer = num_purple\u001b[0m\n",
            "\n",
            "\u001b[1m> Finished chain.\u001b[0m\n"
          ]
        }
      ]
    },
    {
      "cell_type": "code",
      "source": [
        "result['intermediate_steps']"
      ],
      "metadata": {
        "colab": {
          "base_uri": "https://localhost:8080/",
          "height": 105
        },
        "id": "XaNrla5-FSi1",
        "outputId": "046e3160-eba7-48a0-c717-0eda8a40b750"
      },
      "execution_count": null,
      "outputs": [
        {
          "output_type": "execute_result",
          "data": {
            "text/plain": [
              "\"# Put objects into a list to record ordering\\nobjects = []\\nobjects += [('booklet', 'blue')] * 2\\nobjects += [('booklet', 'purple')] * 2\\nobjects += [('hat', 'purple')] * 1\\nobjects += [('sunglasses', 'yellow')] * 2\\n\\n# Remove all pairs of sunglasses\\nobjects = [object for object in objects if object[0] != 'sunglasses']\\n\\n# Count number of purple items\\nnum_purple = len([object for object in objects if object[1] == 'purple'])\\nanswer = num_purple\""
            ],
            "application/vnd.google.colaboratory.intrinsic+json": {
              "type": "string"
            }
          },
          "metadata": {},
          "execution_count": 32
        }
      ]
    },
    {
      "cell_type": "markdown",
      "source": [
        "# Put objects into a list to record ordering\n",
        "objects = []\n",
        "objects += [('booklet', 'blue')] * 2\n",
        "objects += [('booklet', 'purple')] * 2\n",
        "objects += [('hat', 'purple')] * 1\n",
        "objects += [('sunglasses', 'yellow')] * 2\n",
        "\n",
        "# Remove all pairs of sunglasses\n",
        "objects = [object for object in objects if object[0] != 'sunglasses']\n",
        "\n",
        "# Count number of purple items\n",
        "num_purple = len([object for object in objects if object[1] == 'purple'])\n",
        "answer = num_purple"
      ],
      "metadata": {
        "id": "iTTOL-OEB15T"
      }
    },
    {
      "cell_type": "code",
      "source": [],
      "metadata": {
        "id": "qrFZYfjkX-pa"
      },
      "execution_count": null,
      "outputs": []
    }
  ]
}