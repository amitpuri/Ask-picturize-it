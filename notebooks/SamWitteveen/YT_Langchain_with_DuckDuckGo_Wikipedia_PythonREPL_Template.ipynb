{
  "nbformat": 4,
  "nbformat_minor": 0,
  "metadata": {
    "colab": {
      "provenance": []
    },
    "kernelspec": {
      "name": "python3",
      "display_name": "Python 3"
    },
    "language_info": {
      "name": "python"
    }
  },
  "cells": [
    {
      "cell_type": "code",
      "execution_count": null,
      "metadata": {
        "id": "RRYSu48huSUW",
        "colab": {
          "base_uri": "https://localhost:8080/"
        },
        "outputId": "58f7189c-d60a-4871-e83b-d7150246839d"
      },
      "outputs": [
        {
          "output_type": "stream",
          "name": "stdout",
          "text": [
            "\u001b[?25l     \u001b[90m━━━━━━━━━━━━━━━━━━━━━━━━━━━━━━━━━━━━━━━━\u001b[0m \u001b[32m0.0/648.4 kB\u001b[0m \u001b[31m?\u001b[0m eta \u001b[36m-:--:--\u001b[0m\r\u001b[2K     \u001b[91m━━━━━━━━━━━━━━━━━━━━━━━━━━━━━━━━━━━━━\u001b[0m\u001b[91m╸\u001b[0m \u001b[32m645.1/648.4 kB\u001b[0m \u001b[31m21.8 MB/s\u001b[0m eta \u001b[36m0:00:01\u001b[0m\r\u001b[2K     \u001b[90m━━━━━━━━━━━━━━━━━━━━━━━━━━━━━━━━━━━━━━\u001b[0m \u001b[32m648.4/648.4 kB\u001b[0m \u001b[31m12.1 MB/s\u001b[0m eta \u001b[36m0:00:00\u001b[0m\n",
            "\u001b[2K     \u001b[90m━━━━━━━━━━━━━━━━━━━━━━━━━━━━━━━━━━━━━━\u001b[0m \u001b[32m224.5/224.5 kB\u001b[0m \u001b[31m15.2 MB/s\u001b[0m eta \u001b[36m0:00:00\u001b[0m\n",
            "\u001b[2K     \u001b[90m━━━━━━━━━━━━━━━━━━━━━━━━━━━━━━━━━━━━━━━━\u001b[0m \u001b[32m70.3/70.3 kB\u001b[0m \u001b[31m5.2 MB/s\u001b[0m eta \u001b[36m0:00:00\u001b[0m\n",
            "\u001b[2K     \u001b[90m━━━━━━━━━━━━━━━━━━━━━━━━━━━━━━━━━━━━━━━━\u001b[0m \u001b[32m1.7/1.7 MB\u001b[0m \u001b[31m54.2 MB/s\u001b[0m eta \u001b[36m0:00:00\u001b[0m\n",
            "\u001b[2K     \u001b[90m━━━━━━━━━━━━━━━━━━━━━━━━━━━━━━━━━━━━━━━━\u001b[0m \u001b[32m1.0/1.0 MB\u001b[0m \u001b[31m36.2 MB/s\u001b[0m eta \u001b[36m0:00:00\u001b[0m\n",
            "\u001b[2K     \u001b[90m━━━━━━━━━━━━━━━━━━━━━━━━━━━━━━━━━━━━━━━━\u001b[0m \u001b[32m90.0/90.0 kB\u001b[0m \u001b[31m7.0 MB/s\u001b[0m eta \u001b[36m0:00:00\u001b[0m\n",
            "\u001b[2K     \u001b[90m━━━━━━━━━━━━━━━━━━━━━━━━━━━━━━━━━━━━━━\u001b[0m \u001b[32m269.4/269.4 kB\u001b[0m \u001b[31m15.7 MB/s\u001b[0m eta \u001b[36m0:00:00\u001b[0m\n",
            "\u001b[2K     \u001b[90m━━━━━━━━━━━━━━━━━━━━━━━━━━━━━━━━━━━━━━━\u001b[0m \u001b[32m114.2/114.2 kB\u001b[0m \u001b[31m2.0 MB/s\u001b[0m eta \u001b[36m0:00:00\u001b[0m\n",
            "\u001b[2K     \u001b[90m━━━━━━━━━━━━━━━━━━━━━━━━━━━━━━━━━━━━━━\u001b[0m \u001b[32m158.8/158.8 kB\u001b[0m \u001b[31m10.3 MB/s\u001b[0m eta \u001b[36m0:00:00\u001b[0m\n",
            "\u001b[2K     \u001b[90m━━━━━━━━━━━━━━━━━━━━━━━━━━━━━━━━━━━━━━━━\u001b[0m \u001b[32m49.1/49.1 kB\u001b[0m \u001b[31m3.4 MB/s\u001b[0m eta \u001b[36m0:00:00\u001b[0m\n",
            "\u001b[?25h"
          ]
        }
      ],
      "source": [
        "!pip -q install langchain openai tiktoken"
      ]
    },
    {
      "cell_type": "code",
      "source": [
        "import os\n",
        "\n",
        "os.environ[\"OPENAI_API_KEY\"] = \"\""
      ],
      "metadata": {
        "id": "dNA4TsHpu6OM"
      },
      "execution_count": null,
      "outputs": []
    },
    {
      "cell_type": "code",
      "source": [
        "!pip show langchain"
      ],
      "metadata": {
        "id": "J-KFB7J_u_3L",
        "colab": {
          "base_uri": "https://localhost:8080/"
        },
        "outputId": "7963459b-2e5f-44b7-cb24-7eff6572641c"
      },
      "execution_count": null,
      "outputs": [
        {
          "output_type": "stream",
          "name": "stdout",
          "text": [
            "Name: langchain\n",
            "Version: 0.0.150\n",
            "Summary: Building applications with LLMs through composability\n",
            "Home-page: https://www.github.com/hwchase17/langchain\n",
            "Author: \n",
            "Author-email: \n",
            "License: MIT\n",
            "Location: /usr/local/lib/python3.9/dist-packages\n",
            "Requires: aiohttp, async-timeout, dataclasses-json, numexpr, numpy, openapi-schema-pydantic, pydantic, PyYAML, requests, SQLAlchemy, tenacity, tqdm\n",
            "Required-by: \n"
          ]
        }
      ]
    },
    {
      "cell_type": "markdown",
      "source": [
        "# Using LangChain with some Tools Wikipedia DuckDuckGo PythonRepl"
      ],
      "metadata": {
        "id": "EtKByJJhg-Zc"
      }
    },
    {
      "cell_type": "markdown",
      "source": [
        "### Setting up wikipedia"
      ],
      "metadata": {
        "id": "HqwsGJDhvAQ5"
      }
    },
    {
      "cell_type": "code",
      "source": [
        "!pip -q install wikipedia"
      ],
      "metadata": {
        "colab": {
          "base_uri": "https://localhost:8080/"
        },
        "id": "pNeHuQCwOLn9",
        "outputId": "4e17c8bc-8d81-45e3-8d20-f384ef44ff01"
      },
      "execution_count": null,
      "outputs": [
        {
          "output_type": "stream",
          "name": "stdout",
          "text": [
            "  Preparing metadata (setup.py) ... \u001b[?25l\u001b[?25hdone\n",
            "  Building wheel for wikipedia (setup.py) ... \u001b[?25l\u001b[?25hdone\n"
          ]
        }
      ]
    },
    {
      "cell_type": "code",
      "source": [
        "from langchain.utilities import WikipediaAPIWrapper"
      ],
      "metadata": {
        "id": "GMp0VQ0gOeL9"
      },
      "execution_count": null,
      "outputs": []
    },
    {
      "cell_type": "code",
      "source": [
        "wikipedia = WikipediaAPIWrapper()"
      ],
      "metadata": {
        "id": "DFP5GQVkO81u"
      },
      "execution_count": null,
      "outputs": []
    },
    {
      "cell_type": "code",
      "source": [
        "wikipedia.run('Langchain')"
      ],
      "metadata": {
        "colab": {
          "base_uri": "https://localhost:8080/",
          "height": 174
        },
        "id": "JFQbiRdHO9rk",
        "outputId": "33a71627-454a-479b-806d-5d5ae802e614"
      },
      "execution_count": null,
      "outputs": [
        {
          "output_type": "execute_result",
          "data": {
            "text/plain": [
              "'Page: LangChain\\nSummary: LangChain is a software development framework designed to simplify the creation of applications using large language models (LLMs).\\n\\n\\n\\nPage: Software development\\nSummary: Software development is the process of conceiving, specifying, designing, programming, documenting, testing, and bug fixing involved in creating and maintaining applications, frameworks, or other software components. Software development involves writing and maintaining the source code, but in a broader sense, it includes all processes from the conception of the desired software through the final manifestation, typically in a planned and structured process often overlapping with software engineering. Software development also includes research, new development, prototyping, modification, reuse, re-engineering, maintenance, or any other activities that result in software products.\\n\\n\\n\\nPage: Software engineering\\nSummary: Software engineering is an engineering-based approach to software development.\\nA software engineer is a person who applies the engineering design process to design, develop, maintain, test, and evaluate computer software. The term programmer is sometimes used as a synonym, but may also refer more to implementation rather than design and can also lack connotations of engineering education or skills.Engineering techniques are used to inform the software development process, which involves the definition, implementation, assessment, measurement, management, change, and improvement of the software life cycle process itself. It heavily uses software configuration management, which is about systematically controlling changes to the configuration, and maintaining the integrity and traceability of the configuration and code throughout the system life cycle. Modern processes use software versioning.'"
            ],
            "application/vnd.google.colaboratory.intrinsic+json": {
              "type": "string"
            }
          },
          "metadata": {},
          "execution_count": 7
        }
      ]
    },
    {
      "cell_type": "markdown",
      "source": [
        "## REPL"
      ],
      "metadata": {
        "id": "gsE8T9csScMN"
      }
    },
    {
      "cell_type": "code",
      "source": [
        "from langchain.utilities import PythonREPL"
      ],
      "metadata": {
        "id": "cCOKsQ9tSdqM"
      },
      "execution_count": null,
      "outputs": []
    },
    {
      "cell_type": "code",
      "source": [
        "python_repl = PythonREPL()"
      ],
      "metadata": {
        "id": "-eh-rd7sSgPi"
      },
      "execution_count": null,
      "outputs": []
    },
    {
      "cell_type": "code",
      "source": [
        "python_repl.run(\"print(17*2)\")"
      ],
      "metadata": {
        "colab": {
          "base_uri": "https://localhost:8080/",
          "height": 35
        },
        "id": "zbQF6osMSjFf",
        "outputId": "fab3d709-13dc-4edc-d241-2550e31576f5"
      },
      "execution_count": null,
      "outputs": [
        {
          "output_type": "execute_result",
          "data": {
            "text/plain": [
              "'34\\n'"
            ],
            "application/vnd.google.colaboratory.intrinsic+json": {
              "type": "string"
            }
          },
          "metadata": {},
          "execution_count": 10
        }
      ]
    },
    {
      "cell_type": "markdown",
      "source": [
        "## Duck Duck Go"
      ],
      "metadata": {
        "id": "ypoJgxKk942d"
      }
    },
    {
      "cell_type": "code",
      "source": [
        "!pip -q install duckduckgo-search"
      ],
      "metadata": {
        "colab": {
          "base_uri": "https://localhost:8080/"
        },
        "id": "8sGhowPv99h8",
        "outputId": "5eb768ed-420d-4700-9996-0017027ccca2"
      },
      "execution_count": null,
      "outputs": [
        {
          "output_type": "stream",
          "name": "stdout",
          "text": [
            "\u001b[?25l     \u001b[90m━━━━━━━━━━━━━━━━━━━━━━━━━━━━━━━━━━━━━━━━\u001b[0m \u001b[32m0.0/62.5 kB\u001b[0m \u001b[31m?\u001b[0m eta \u001b[36m-:--:--\u001b[0m\r\u001b[2K     \u001b[90m━━━━━━━━━━━━━━━━━━━━━━━━━━━━━━━━━━━━━━━━\u001b[0m \u001b[32m62.5/62.5 kB\u001b[0m \u001b[31m6.8 MB/s\u001b[0m eta \u001b[36m0:00:00\u001b[0m\n",
            "\u001b[?25h"
          ]
        }
      ]
    },
    {
      "cell_type": "code",
      "source": [
        "from langchain.tools import DuckDuckGoSearchTool"
      ],
      "metadata": {
        "id": "lAcqVwv7-R77"
      },
      "execution_count": null,
      "outputs": []
    },
    {
      "cell_type": "code",
      "source": [
        "search = DuckDuckGoSearchTool()"
      ],
      "metadata": {
        "id": "s_fDWui9_kJE"
      },
      "execution_count": null,
      "outputs": []
    },
    {
      "cell_type": "code",
      "source": [
        "search.run(\"Tesla stock price?\")"
      ],
      "metadata": {
        "colab": {
          "base_uri": "https://localhost:8080/",
          "height": 139
        },
        "id": "tSP5aKky_kMd",
        "outputId": "60d631fe-f8f7-4ce9-e63e-943959c2b5f0"
      },
      "execution_count": null,
      "outputs": [
        {
          "output_type": "execute_result",
          "data": {
            "text/plain": [
              "'Tesla, Inc. Common Stock (TSLA) Add to Watchlist Add to Portfolio Quotes Summary Real-Time After-Hours Key Data Bid Price and Ask Price The bid & ask refers to the price that an... Get the latest Tesla Inc (TSLA) real-time quote, historical performance, charts, and other financial information to help you make more informed trading and investment decisions. Discover historical prices for TSLA stock on Yahoo Finance. View daily, weekly or monthly format back to when Tesla, Inc. stock was issued. We reduce our Tesla fair value estimate to $215 per share from $225 to reflect higher near-term margin compression as the company is pursuing a volume-over-unit profit strategy in the near term... TSLA: Tesla Inc - Stock Price, Quote and News - CNBC'"
            ],
            "application/vnd.google.colaboratory.intrinsic+json": {
              "type": "string"
            }
          },
          "metadata": {},
          "execution_count": 14
        }
      ]
    },
    {
      "cell_type": "markdown",
      "source": [
        "## Putting them together"
      ],
      "metadata": {
        "id": "Mo3QlrUB3iRv"
      }
    },
    {
      "cell_type": "code",
      "source": [
        "from langchain import OpenAI\n",
        "\n",
        "llm = OpenAI(temperature=0)"
      ],
      "metadata": {
        "id": "oLqOaMQq3kpB"
      },
      "execution_count": null,
      "outputs": []
    },
    {
      "cell_type": "code",
      "source": [
        "tools = [\n",
        "    Tool(\n",
        "        name = \"python repl\",\n",
        "        func=python_repl.run,\n",
        "        description=\"useful for when you need to use python to answer a question. You should input python code\"\n",
        "    )\n",
        "]"
      ],
      "metadata": {
        "id": "_1T2Z_mZ4vHc"
      },
      "execution_count": null,
      "outputs": []
    },
    {
      "cell_type": "code",
      "source": [
        "\n",
        "\n",
        "wikipedia_tool = Tool(\n",
        "    name='wikipedia',\n",
        "    func= wikipedia.run,\n",
        "    description=\"Useful for when you need to look up a topic, country or person on wikipedia\"\n",
        ")\n",
        "\n",
        "duckduckgo_tool = Tool(\n",
        "    name='DuckDuckGo Search',\n",
        "    func= search.run,\n",
        "    description=\"Useful for when you need to do a search on the internet to find information that another tool can't find. be specific with your input.\"\n",
        ")\n",
        "\n"
      ],
      "metadata": {
        "id": "zOjMuR7M366E"
      },
      "execution_count": null,
      "outputs": []
    },
    {
      "cell_type": "code",
      "source": [
        "tools.append(duckduckgo_tool)\n",
        "tools.append(wikipedia_tool)\n"
      ],
      "metadata": {
        "id": "8RGNtKnNvZ2Y"
      },
      "execution_count": null,
      "outputs": []
    },
    {
      "cell_type": "markdown",
      "source": [
        "## Using the agents"
      ],
      "metadata": {
        "id": "Q66NZx7UFNff"
      }
    },
    {
      "cell_type": "code",
      "execution_count": null,
      "metadata": {
        "id": "5e4eb28c"
      },
      "outputs": [],
      "source": [
        "from langchain.agents import initialize_agent\n",
        "\n",
        "zero_shot_agent = initialize_agent(\n",
        "    agent=\"zero-shot-react-description\", \n",
        "    tools=tools, \n",
        "    llm=llm,\n",
        "    verbose=True,\n",
        "    max_iterations=3,\n",
        ")"
      ]
    },
    {
      "cell_type": "code",
      "source": [
        "zero_shot_agent.run(\"When was Barak Obama born?\")"
      ],
      "metadata": {
        "colab": {
          "base_uri": "https://localhost:8080/",
          "height": 246
        },
        "id": "IrFei5ys5Wgk",
        "outputId": "242cfed3-365f-40f8-dac6-742497ccc241"
      },
      "execution_count": null,
      "outputs": [
        {
          "output_type": "stream",
          "name": "stdout",
          "text": [
            "\n",
            "\n",
            "\u001b[1m> Entering new AgentExecutor chain...\u001b[0m\n",
            "\u001b[32;1m\u001b[1;3m I need to find out when Barak Obama was born.\n",
            "Action: DuckDuckGo Search\n",
            "Action Input: \"Barack Obama birthdate\"\u001b[0m\n",
            "Observation: \u001b[33;1m\u001b[1;3mBarack Obama, in full Barack Hussein Obama II, (born August 4, 1961, Honolulu, Hawaii, U.S.), 44th president of the United States (2009-17) and the first African American to hold the office. Before winning the presidency, Obama represented Illinois in the U.S. Senate (2005-08). Barack Hussein Obama II (/ b ə ˈ r ɑː k h uː ˈ s eɪ n oʊ ˈ b ɑː m ə / bə-RAHK hoo-SAYN oh-BAH-mə; born August 4, 1961) is an American former politician who served as the 44th president of the United States from 2009 to 2017. A member of the Democratic Party, he was the first African-American president of the United States. Obama previously served as a U.S. senator representing ... Barack Hussein Obama, the 44th and first African-American President of the United States, served from 2008 until 2016. is celebrating his 60th Birthday in 2021. ... Birth date: August 4, 1961. Age: 61. Zodiac Sign: Leo. Background. Barack Obama was the first African American president elected as the 44th president of the United States of ... Barack Obama's grandmother, Madelyn Lee (Payne) Dunham, died Sunday November 2, 2008 in the early evening in Honolulu from cancer, two days before he was elected to the presidency. She was 86. Is the first African-American man to be elected President of the United States (November 2008). Barack Obama is celebrating his 61st birthday by naming a new addition to the Obama Presidential Center in Chicago after his mother, Ann Dunham. On Thursday, the 44th president announced that...\u001b[0m\n",
            "Thought:\u001b[32;1m\u001b[1;3m Barack Obama was born on August 4, 1961.\n",
            "Final Answer: Barack Obama was born on August 4, 1961.\u001b[0m\n",
            "\n",
            "\u001b[1m> Finished chain.\u001b[0m\n"
          ]
        },
        {
          "output_type": "execute_result",
          "data": {
            "text/plain": [
              "'Barack Obama was born on August 4, 1961.'"
            ],
            "application/vnd.google.colaboratory.intrinsic+json": {
              "type": "string"
            }
          },
          "metadata": {},
          "execution_count": 49
        }
      ]
    },
    {
      "cell_type": "code",
      "source": [
        "zero_shot_agent.run(\"What is 17*6?\")"
      ],
      "metadata": {
        "colab": {
          "base_uri": "https://localhost:8080/",
          "height": 226
        },
        "id": "CABxVBKL5tX7",
        "outputId": "7a944e56-d4d0-470d-b02c-6a0f44cfe812"
      },
      "execution_count": null,
      "outputs": [
        {
          "output_type": "stream",
          "name": "stdout",
          "text": [
            "\n",
            "\n",
            "\u001b[1m> Entering new AgentExecutor chain...\u001b[0m\n",
            "\u001b[32;1m\u001b[1;3m I need to do a calculation\n",
            "Action: python repl\n",
            "Action Input: 17*6\u001b[0m\n",
            "Observation: \u001b[36;1m\u001b[1;3m\u001b[0m\n",
            "Thought:\u001b[32;1m\u001b[1;3m I now know the answer\n",
            "Final Answer: 102\u001b[0m\n",
            "\n",
            "\u001b[1m> Finished chain.\u001b[0m\n"
          ]
        },
        {
          "output_type": "execute_result",
          "data": {
            "text/plain": [
              "'102'"
            ],
            "application/vnd.google.colaboratory.intrinsic+json": {
              "type": "string"
            }
          },
          "metadata": {},
          "execution_count": 50
        }
      ]
    },
    {
      "cell_type": "code",
      "source": [
        "print(zero_shot_agent.agent.llm_chain.prompt.template)"
      ],
      "metadata": {
        "colab": {
          "base_uri": "https://localhost:8080/"
        },
        "id": "mObTFFLy6Pdo",
        "outputId": "c2593a7b-1d92-4320-b58e-7265730ec528"
      },
      "execution_count": null,
      "outputs": [
        {
          "output_type": "stream",
          "name": "stdout",
          "text": [
            "Answer the following questions as best you can. You have access to the following tools:\n",
            "\n",
            "python repl: useful for when you need to use python to answer a question. You should input python code\n",
            "DuckDuckGo Search: Useful for when you need to do a search on the internet to find information that another tool can't find. be specific with your input.\n",
            "wikipedia: Useful for when you need to look up a topic, country or person on wikipedia\n",
            "\n",
            "Use the following format:\n",
            "\n",
            "Question: the input question you must answer\n",
            "Thought: you should always think about what to do\n",
            "Action: the action to take, should be one of [python repl, DuckDuckGo Search, wikipedia]\n",
            "Action Input: the input to the action\n",
            "Observation: the result of the action\n",
            "... (this Thought/Action/Action Input/Observation can repeat N times)\n",
            "Thought: I now know the final answer\n",
            "Final Answer: the final answer to the original input question\n",
            "\n",
            "Begin!\n",
            "\n",
            "Question: {input}\n",
            "Thought:{agent_scratchpad}\n"
          ]
        }
      ]
    },
    {
      "cell_type": "code",
      "source": [
        "zero_shot_agent.run(\"Tell me about LangChain\")"
      ],
      "metadata": {
        "colab": {
          "base_uri": "https://localhost:8080/",
          "height": 298
        },
        "id": "9_gCVreU6ZI8",
        "outputId": "6c59a289-4c7f-4ad7-9cdf-b12d3727bf08"
      },
      "execution_count": null,
      "outputs": [
        {
          "output_type": "stream",
          "name": "stdout",
          "text": [
            "\n",
            "\n",
            "\u001b[1m> Entering new AgentExecutor chain...\u001b[0m\n",
            "\u001b[32;1m\u001b[1;3m I need to find out what LangChain is\n",
            "Action: DuckDuckGo Search\n",
            "Action Input: \"LangChain\"\u001b[0m\n",
            "Observation: \u001b[33;1m\u001b[1;3mWelcome to LangChain. #. LangChain is a framework for developing applications powered by language models. We believe that the most powerful and differentiated applications will not only call out to a language model via an API, but will also: Be data-aware: connect a language model to other sources of data. Be agentic: allow a language model to ... LangChain is an open-source Python library that enables anyone who can write code to build LLM-powered applications. The package provides a generic interface to many foundation models, enables prompt management, and acts as a central interface to other components like prompt templates, other LLMs, external data, and other tools via agents ... LangChain is a powerful framework designed to help developers build end-to-end applications using language models. It offers a suite of tools, components, and interfaces that simplify the process of creating applications powered by large language models (LLMs) and chat models. LangChain makes it easy to manage interactions with language models ... LangChain provides several specially created chains just for this purpose. This notebook walks through using one of those chains (the ConversationChain) with two different types of memory. By default, the ConversationChain has a simple type of memory that remembers all previous inputs/outputs and adds them to the context that is passed. LangChain <> Unstructured. One of the core value props of LangChain is the ability to combine Large Language Models with your own text data. There are multiple (four!) different methods of doing so, and many different applications this can power. A step that sits upstream of using text data is the ability to.\u001b[0m\n",
            "Thought:\u001b[32;1m\u001b[1;3m I now know the final answer\n",
            "Final Answer: LangChain is an open-source Python library that enables anyone who can write code to build LLM-powered applications. It offers a suite of tools, components, and interfaces that simplify the process of creating applications powered by large language models (LLMs) and chat models. LangChain makes it easy to manage interactions with language models and provides several specially created chains just for this purpose.\u001b[0m\n",
            "\n",
            "\u001b[1m> Finished chain.\u001b[0m\n"
          ]
        },
        {
          "output_type": "execute_result",
          "data": {
            "text/plain": [
              "'LangChain is an open-source Python library that enables anyone who can write code to build LLM-powered applications. It offers a suite of tools, components, and interfaces that simplify the process of creating applications powered by large language models (LLMs) and chat models. LangChain makes it easy to manage interactions with language models and provides several specially created chains just for this purpose.'"
            ],
            "application/vnd.google.colaboratory.intrinsic+json": {
              "type": "string"
            }
          },
          "metadata": {},
          "execution_count": 52
        }
      ]
    },
    {
      "cell_type": "code",
      "source": [
        "zero_shot_agent.run(\"Tell me about Singapore\")"
      ],
      "metadata": {
        "colab": {
          "base_uri": "https://localhost:8080/",
          "height": 541
        },
        "id": "U7iD-DoidwYZ",
        "outputId": "b0dec6b7-e3b3-48b7-99b5-3961ab3208e5"
      },
      "execution_count": null,
      "outputs": [
        {
          "output_type": "stream",
          "name": "stdout",
          "text": [
            "\n",
            "\n",
            "\u001b[1m> Entering new AgentExecutor chain...\u001b[0m\n",
            "\u001b[32;1m\u001b[1;3m Singapore is a country, so I should look it up on Wikipedia.\n",
            "Action: wikipedia\n",
            "Action Input: Singapore\u001b[0m\n",
            "Observation: \u001b[38;5;200m\u001b[1;3mPage: Singapore\n",
            "Summary: Singapore ( (listen)), officially the Republic of Singapore, is an island country and city-state in maritime Southeast Asia. It is located about one degree of latitude (137 kilometres or 85 miles) north of the equator, off the southern tip of the Malay Peninsula, bordering the Strait of Malacca to the west, the Singapore Strait to the south, the South China Sea to the east, and the Straits of Johor to the north. The country's territory is composed of one main island, 63 satellite islands and islets, and one outlying islet; the combined area of these has increased by 25% since the country's independence as a result of extensive land reclamation projects. It has the third highest population density in the world, although there are numerous green and recreational spaces as a result of urban planning. With a multicultural population and in recognition of the cultural identities of the major ethnic groups within the nation, Singapore has four official languages – English, Malay, Mandarin, and Tamil. English is the lingua franca, with its exclusive use in numerous public services. Multi-racialism is enshrined in the constitution and continues to shape national policies in education, housing, and politics.\n",
            "Singapore's history dates back at least a millennium, having been a maritime emporium known as Temasek and subsequently as a major constituent part of several successive thalassocratic empires. Its contemporary era began in 1819 when Stamford Raffles established Singapore as an entrepôt trading post of the British Empire. In 1867, the colonies in Southeast Asia were reorganised and Singapore came under the direct control of Britain as part of the Straits Settlements. During World War II, Singapore was occupied by Japan in 1942, and returned to British control as a separate Crown colony following Japan's surrender in 1945. Singapore gained self-governance in 1959 and in 1963 became part of the new federation of Malaysia, alongside Malaya, North Borneo, and Sarawak. Ideological differences, most notably the perceived encroachment of the egalitarian \"Malaysian Malaysia\" political ideology led by Lee Kuan Yew into the other constituent entities of Malaysia—at the perceived expense of the bumiputera and the policies of Ketuanan Melayu—eventually led to Singapore's expulsion from the federation two years later; Singapore became an independent sovereign country in 1965.\n",
            "After early years of turbulence and despite lacking natural resources and a hinterland, the nation rapidly developed to become one of the Four Asian Tigers. With its growth based on international trade and economic globalisation, it integrated itself with the world economy through free trade with minimal-to-no trade barriers or tariffs, export-oriented industrialisation, and the large accumulation of received foreign direct investments, foreign-exchange reserves, and assets held by sovereign wealth funds. A highly developed country, it has the second-highest GDP per capita (PPP) in the world. Identified as a tax haven, Singapore is the only country in Asia with a AAA sovereign credit rating from all major rating agencies. It is a major aviation, financial, and maritime shipping hub, and has consistently been ranked as one of the most expensive cities to live in for expatriates and foreign workers. Singapore ranks highly in key social indicators: education, healthcare, quality of life, personal safety, infrastructure, and housing, with a home-ownership rate of 88 percent. Singaporeans enjoy one of the longest life expectancies, fastest Internet connection speeds, lowest infant mortality rates, and lowest levels of corruption in the world.\n",
            "Singapore is a unitary parliamentary republic with a Westminster system of unicameral parliamentary government, and its legal system is based on common law. While the country is a multi-party democracy with free elections, the government under the People's Action Party (PAP) wields significant control and dominance over politics and society. The PAP has governed the country continuously since full internal self-government was achieved in 1959, with 83 out of 104 seats in Parliament as of the 2020 general election with 61.23% of the popular vote. One of the five founding members of ASEAN, Singapore is also the headquarters of the Asia-Pacific Economic Cooperation (APEC) Secretariat, the Pacific Economic Cooperation Council (PECC) Secretariat, and is the host city of many international conferences and events. Singapore is also a member of the United Nations (UN), World Trade Organization (WTO), East Asia Summit (EAS), Non-Aligned Movement (NAM), and the Commonwealth of Nations.\n",
            "\n",
            "Page: Singapore dollar\n",
            "Summary: The Singapore dollar (sign: S$; code: SGD) is the official currency of the Republic of Singapore. It is divided into 100 cents. It is normally abbreviated with the dollar sign $, or S$ to distinguish it from other dollar-denominated currencies. The Monetary Authority of Singapore (MAS) issues the banknotes and coins of the Singapore dollar.\n",
            "As of 2019, the Singapore dollar is the 13th-most traded currency in the world by value. Apart from its use in Singapore, the Singapore dollar is also accepted as customary tender in Brunei according to the Currency Interchangeability Agreement between the Monetary Authority of Singapore and the Autoriti Monetari Brunei Darussalam (Monetary Authority of Brunei Darussalam). Likewise, the Brunei dollar is also customarily accepted in Singapore.\n",
            "\n",
            "Page: Singapore Army\n",
            "Summary: The Singapore Army is the land service branch of the Singapore Armed Forces (SAF). The largest of the four branches of the SAF, the Singapore Army traces its origins to the 1st Battalion, Singapore Infantry Regiment (1 SIR), which was formed in 1957, when Singapore was still under British colonial rule. After Singapore's independence on 9 August 1965, the Singapore Army Bill was passed in Parliament on 23 December 1965, and National Service (NS) was subsequently introduced in 1967. Mostly made up of conscripts, the Singapore Army can mobilise all operationally-ready military reservists in the event of war or national exigencies.\n",
            "\n",
            "\u001b[0m\n",
            "Thought:\u001b[32;1m\u001b[1;3m I now know the final answer\n",
            "Final Answer: Singapore is an island country and city-state in maritime Southeast Asia located about one degree of latitude north of the equator. It has the third highest population density in the world and is a highly developed country with the second-highest GDP per capita (PPP) in the world. It is a unitary parliamentary republic with a Westminster system of unicameral parliamentary government and its legal system is based on common law. The Singapore Army is the land service branch of the Singapore Armed Forces and is mostly made up of conscripts.\u001b[0m\n",
            "\n",
            "\u001b[1m> Finished chain.\u001b[0m\n"
          ]
        },
        {
          "output_type": "execute_result",
          "data": {
            "text/plain": [
              "'Singapore is an island country and city-state in maritime Southeast Asia located about one degree of latitude north of the equator. It has the third highest population density in the world and is a highly developed country with the second-highest GDP per capita (PPP) in the world. It is a unitary parliamentary republic with a Westminster system of unicameral parliamentary government and its legal system is based on common law. The Singapore Army is the land service branch of the Singapore Armed Forces and is mostly made up of conscripts.'"
            ],
            "application/vnd.google.colaboratory.intrinsic+json": {
              "type": "string"
            }
          },
          "metadata": {},
          "execution_count": 53
        }
      ]
    },
    {
      "cell_type": "code",
      "source": [
        "zero_shot_agent.run('what is the current price of btc')"
      ],
      "metadata": {
        "colab": {
          "base_uri": "https://localhost:8080/",
          "height": 246
        },
        "id": "8IehmHWK7afJ",
        "outputId": "078b02fc-ad33-4101-bfe4-2b20ee1b6197"
      },
      "execution_count": null,
      "outputs": [
        {
          "output_type": "stream",
          "name": "stdout",
          "text": [
            "\n",
            "\n",
            "\u001b[1m> Entering new AgentExecutor chain...\u001b[0m\n",
            "\u001b[32;1m\u001b[1;3m I need to find a source of information\n",
            "Action: DuckDuckGo Search\n",
            "Action Input: current price of btc\u001b[0m\n",
            "Observation: \u001b[33;1m\u001b[1;3mBitcoin (BTC) Price, Real-time Quote & News - Google Finance Futures Dow Jones +0.066% +22.34 S&P 500 4,133.52 +0.090% Nasdaq +12.90 Russell 1,791.51 +1.81 VIX 16.77 -0.40 Home BTC / USDT... The live Bitcoin price today is $28,410.75 USD with a 24-hour trading volume of $21,867,658,528 USD. We update our BTC to USD price in real-time. Bitcoin is down 3.11% in the last 24 hours. The current CoinMarketCap ranking is #1, with a live market cap of $549,797,190,281 USD. Bitcoin (BTC) is a decentralized currency that eliminates the need for central authorities such as banks or governments by using a peer-to-peer internet network to confirm transactions directly between users. Price History $ 28,338.33 • 21:45 Vol 32 BTC 1D 1W 1M 1Y MAX Trade Bitcoin with the world's most popular crypto wallet. The current price of Bitcoin is $29,267.56 per BTC. With a circulating supply of 19,350,868 BTC, it means that Bitcoin has a total market cap of $566,872,648,064.50. The amount of Bitcoin traded has risen by $4,511,936,943.42 in the last 24 hours, which is a 20.11% increase. Bitcoin Bakkt ( DNJ23) Last 30,470s 30,935.00s Volume 12,516 1 Open Int 6,890 16 5-Day Average Volume 12,645 3 Contract Size 0.1 Bitcoin 1 Bitcoin Margin / Maintenance $880/800 N/A Tick Size 5 points ($0.50 per contract) 1 point ($2.50 per contract) Future Unit Value $0.1 $2.50 Trading Hours 5:00p.m. - 4:00p.m. (Sun-Fri) (Settles 3:00p.m.) CST\u001b[0m\n",
            "Thought:\u001b[32;1m\u001b[1;3m I now know the final answer\n",
            "Final Answer: The current price of Bitcoin is $29,267.56 per BTC.\u001b[0m\n",
            "\n",
            "\u001b[1m> Finished chain.\u001b[0m\n"
          ]
        },
        {
          "output_type": "execute_result",
          "data": {
            "text/plain": [
              "'The current price of Bitcoin is $29,267.56 per BTC.'"
            ],
            "application/vnd.google.colaboratory.intrinsic+json": {
              "type": "string"
            }
          },
          "metadata": {},
          "execution_count": 54
        }
      ]
    },
    {
      "cell_type": "code",
      "source": [
        "zero_shot_agent.run('Is 11 a prime number?')"
      ],
      "metadata": {
        "id": "CUALszCF7r3j",
        "colab": {
          "base_uri": "https://localhost:8080/",
          "height": 315
        },
        "outputId": "971d8aa4-b056-47bd-868a-92276c365c59"
      },
      "execution_count": null,
      "outputs": [
        {
          "output_type": "stream",
          "name": "stdout",
          "text": [
            "\n",
            "\n",
            "\u001b[1m> Entering new AgentExecutor chain...\u001b[0m\n",
            "\u001b[32;1m\u001b[1;3m I need to find out if 11 is a prime number\n",
            "Action: python repl\n",
            "Action Input: 11 % 2 == 0\u001b[0m\n",
            "Observation: \u001b[36;1m\u001b[1;3m\u001b[0m\n",
            "Thought:\u001b[32;1m\u001b[1;3m 11 is not divisible by 2, so it might be a prime number\n",
            "Action: DuckDuckGo Search\n",
            "Action Input: \"Is 11 a prime number?\"\u001b[0m\n",
            "Observation: \u001b[33;1m\u001b[1;3m1The first 1000 prime numbers 2Lists of primes by type Toggle Lists of primes by type subsection 2.1Balanced primes 2.2Bell primes 2.3Chen primes 2.4Circular primes 2.5Cluster primes 2.6Cousin primes 2.7Cuban primes 2.8Cullen primes 2.9Dihedral primes 2.10Eisenstein primes without imaginary part 2.11Emirps 2.12Euclid primes It is possible to find out using mathematical methods whether a given integer is a prime number or not. For 11, the answer is: yes, 11 is a prime number because it has only two distinct divisors: 1 and itself (11). As a consequence, 11 is only a multiple of 1 and 11. What is a prime number? Since 11 is a prime number, 11 is also a deficient ... A prime number is divisible only by 1 and itself, which means it has no other divisor except 1 and the number itself. On the contrary, composite numbers have more than two factors. To determine if 11 is a prime number or composite, we need to divide it with numbers from 1 to 11. The prime numbers < √223 are as follows: 2, 3, 5, 7, 11, and 13. Note that 172 > 223. Since 223 is not divisible by any of the prime numbers identified above, 223 is a prime number. Exercise 6.1.3 Is 2011 a prime number?. Answer Theorem 6.1.3: Prime divisibility theorem Let p be a prime number. If p ∣ ab, a, b ∈ Z, then p ∣ a or p ∣ b. Proof A prime number is a positive number that has exactly two factors, 1 and itself. For example, if we list the factors of 28, we have 1, 2, 4, 7, 14, and 28. That's six factors. If we list the factors of 29, we only have 1 and 29. That's 2. So we say that 29 is a prime number, but 28 isn't.\u001b[0m\n",
            "Thought:\u001b[32;1m\u001b[1;3m 11 is a prime number\n",
            "Final Answer: Yes, 11 is a prime number.\u001b[0m\n",
            "\n",
            "\u001b[1m> Finished chain.\u001b[0m\n"
          ]
        },
        {
          "output_type": "execute_result",
          "data": {
            "text/plain": [
              "'Yes, 11 is a prime number.'"
            ],
            "application/vnd.google.colaboratory.intrinsic+json": {
              "type": "string"
            }
          },
          "metadata": {},
          "execution_count": 56
        }
      ]
    },
    {
      "cell_type": "code",
      "source": [
        "zero_shot_agent.run('Write a function to check if 11 a prime number and test it')"
      ],
      "metadata": {
        "colab": {
          "base_uri": "https://localhost:8080/",
          "height": 486
        },
        "id": "2oKDiMWhe8Dk",
        "outputId": "23a64680-0f07-4f7e-c3fa-3f45d4131554"
      },
      "execution_count": null,
      "outputs": [
        {
          "output_type": "stream",
          "name": "stdout",
          "text": [
            "\n",
            "\n",
            "\u001b[1m> Entering new AgentExecutor chain...\u001b[0m\n",
            "\u001b[32;1m\u001b[1;3m I need to write a function to check if a number is prime\n",
            "Action: python repl\n",
            "Action Input: \n",
            "def is_prime(num):\n",
            "    if num > 1:\n",
            "        for i in range(2, num):\n",
            "            if (num % i) == 0:\n",
            "                return False\n",
            "        else:\n",
            "            return True\n",
            "    else:\n",
            "        return False\u001b[0m\n",
            "Observation: \u001b[36;1m\u001b[1;3m\u001b[0m\n",
            "Thought:\u001b[32;1m\u001b[1;3m I need to test the function\n",
            "Action: python repl\n",
            "Action Input: \n",
            "print(is_prime(11))\u001b[0m\n",
            "Observation: \u001b[36;1m\u001b[1;3mTrue\n",
            "\u001b[0m\n",
            "Thought:\u001b[32;1m\u001b[1;3m I now know the final answer\n",
            "Final Answer: 11 is a prime number.\u001b[0m\n",
            "\n",
            "\u001b[1m> Finished chain.\u001b[0m\n"
          ]
        },
        {
          "output_type": "execute_result",
          "data": {
            "text/plain": [
              "'11 is a prime number.'"
            ],
            "application/vnd.google.colaboratory.intrinsic+json": {
              "type": "string"
            }
          },
          "metadata": {},
          "execution_count": 57
        }
      ]
    },
    {
      "cell_type": "code",
      "source": [],
      "metadata": {
        "id": "F0CkeXQnfMxq"
      },
      "execution_count": null,
      "outputs": []
    }
  ]
}