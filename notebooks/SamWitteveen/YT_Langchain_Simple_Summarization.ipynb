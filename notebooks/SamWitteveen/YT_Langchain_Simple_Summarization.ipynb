{
  "nbformat": 4,
  "nbformat_minor": 0,
  "metadata": {
    "colab": {
      "provenance": []
    },
    "kernelspec": {
      "name": "python3",
      "display_name": "Python 3"
    },
    "language_info": {
      "name": "python"
    }
  },
  "cells": [
    {
      "cell_type": "code",
      "execution_count": null,
      "metadata": {
        "id": "RRYSu48huSUW",
        "colab": {
          "base_uri": "https://localhost:8080/"
        },
        "outputId": "02733255-d061-4563-c8cf-f4212fc70715"
      },
      "outputs": [
        {
          "output_type": "stream",
          "name": "stdout",
          "text": [
            "\u001b[?25l     \u001b[90m━━━━━━━━━━━━━━━━━━━━━━━━━━━━━━━━━━━━━━━━\u001b[0m \u001b[32m0.0/367.5 KB\u001b[0m \u001b[31m?\u001b[0m eta \u001b[36m-:--:--\u001b[0m\r\u001b[2K     \u001b[91m━━━━━━━━━━━━━━━━━━━━━━━━━━━\u001b[0m\u001b[90m╺\u001b[0m\u001b[90m━━━━━━━━━━━\u001b[0m \u001b[32m256.0/367.5 KB\u001b[0m \u001b[31m8.1 MB/s\u001b[0m eta \u001b[36m0:00:01\u001b[0m\r\u001b[2K     \u001b[90m━━━━━━━━━━━━━━━━━━━━━━━━━━━━━━━━━━━━━━━\u001b[0m \u001b[32m367.5/367.5 KB\u001b[0m \u001b[31m6.9 MB/s\u001b[0m eta \u001b[36m0:00:00\u001b[0m\n",
            "\u001b[2K     \u001b[90m━━━━━━━━━━━━━━━━━━━━━━━━━━━━━━━━━━━━━━━━\u001b[0m \u001b[32m70.1/70.1 KB\u001b[0m \u001b[31m5.7 MB/s\u001b[0m eta \u001b[36m0:00:00\u001b[0m\n",
            "\u001b[2K     \u001b[90m━━━━━━━━━━━━━━━━━━━━━━━━━━━━━━━━━━━━━━━━\u001b[0m \u001b[32m1.6/1.6 MB\u001b[0m \u001b[31m41.3 MB/s\u001b[0m eta \u001b[36m0:00:00\u001b[0m\n",
            "\u001b[2K     \u001b[90m━━━━━━━━━━━━━━━━━━━━━━━━━━━━━━━━━━━━━━━━\u001b[0m \u001b[32m1.0/1.0 MB\u001b[0m \u001b[31m34.9 MB/s\u001b[0m eta \u001b[36m0:00:00\u001b[0m\n",
            "\u001b[2K     \u001b[90m━━━━━━━━━━━━━━━━━━━━━━━━━━━━━━━━━━━━━━━━\u001b[0m \u001b[32m73.5/73.5 KB\u001b[0m \u001b[31m6.6 MB/s\u001b[0m eta \u001b[36m0:00:00\u001b[0m\n",
            "\u001b[2K     \u001b[90m━━━━━━━━━━━━━━━━━━━━━━━━━━━━━━━━━━━━━━━━\u001b[0m \u001b[32m62.8/62.8 KB\u001b[0m \u001b[31m5.7 MB/s\u001b[0m eta \u001b[36m0:00:00\u001b[0m\n",
            "\u001b[2K     \u001b[90m━━━━━━━━━━━━━━━━━━━━━━━━━━━━━━━━━━━━━━━\u001b[0m \u001b[32m264.6/264.6 KB\u001b[0m \u001b[31m2.1 MB/s\u001b[0m eta \u001b[36m0:00:00\u001b[0m\n",
            "\u001b[2K     \u001b[90m━━━━━━━━━━━━━━━━━━━━━━━━━━━━━━━━━━━━━━\u001b[0m \u001b[32m199.2/199.2 KB\u001b[0m \u001b[31m15.0 MB/s\u001b[0m eta \u001b[36m0:00:00\u001b[0m\n",
            "\u001b[2K     \u001b[90m━━━━━━━━━━━━━━━━━━━━━━━━━━━━━━━━━━━━━━━\u001b[0m \u001b[32m114.2/114.2 KB\u001b[0m \u001b[31m4.1 MB/s\u001b[0m eta \u001b[36m0:00:00\u001b[0m\n",
            "\u001b[2K     \u001b[90m━━━━━━━━━━━━━━━━━━━━━━━━━━━━━━━━━━━━━━━\u001b[0m \u001b[32m158.8/158.8 KB\u001b[0m \u001b[31m9.4 MB/s\u001b[0m eta \u001b[36m0:00:00\u001b[0m\n",
            "\u001b[2K     \u001b[90m━━━━━━━━━━━━━━━━━━━━━━━━━━━━━━━━━━━━━━━━\u001b[0m \u001b[32m2.1/2.1 MB\u001b[0m \u001b[31m52.7 MB/s\u001b[0m eta \u001b[36m0:00:00\u001b[0m\n",
            "\u001b[2K     \u001b[90m━━━━━━━━━━━━━━━━━━━━━━━━━━━━━━━━━━━━━━━━\u001b[0m \u001b[32m49.1/49.1 KB\u001b[0m \u001b[31m2.8 MB/s\u001b[0m eta \u001b[36m0:00:00\u001b[0m\n",
            "\u001b[?25h"
          ]
        }
      ],
      "source": [
        "!pip -q install langchain openai==0.27.0 tiktoken"
      ]
    },
    {
      "cell_type": "markdown",
      "source": [
        "# Summarization\n",
        "\n",
        "History  \n",
        "Challenges  \n",
        "Fine-tuning  \n",
        "Instruct Tuning"
      ],
      "metadata": {
        "id": "wW6FD6FsT5Qf"
      }
    },
    {
      "cell_type": "code",
      "source": [
        "import os\n",
        "\n",
        "os.environ[\"OPENAI_API_KEY\"] = \"\""
      ],
      "metadata": {
        "id": "dNA4TsHpu6OM"
      },
      "execution_count": null,
      "outputs": []
    },
    {
      "cell_type": "code",
      "source": [
        "!pip show langchain"
      ],
      "metadata": {
        "id": "J-KFB7J_u_3L",
        "colab": {
          "base_uri": "https://localhost:8080/"
        },
        "outputId": "5657944a-c8fe-48dd-d131-9a649d84b785"
      },
      "execution_count": null,
      "outputs": [
        {
          "output_type": "stream",
          "name": "stdout",
          "text": [
            "Name: langchain\n",
            "Version: 0.0.106\n",
            "Summary: Building applications with LLMs through composability\n",
            "Home-page: https://www.github.com/hwchase17/langchain\n",
            "Author: \n",
            "Author-email: \n",
            "License: MIT\n",
            "Location: /usr/local/lib/python3.9/dist-packages\n",
            "Requires: aiohttp, dataclasses-json, numpy, pydantic, PyYAML, requests, SQLAlchemy, tenacity\n",
            "Required-by: \n"
          ]
        }
      ]
    },
    {
      "cell_type": "markdown",
      "source": [
        "### Setting up Summarization Chain"
      ],
      "metadata": {
        "id": "HqwsGJDhvAQ5"
      }
    },
    {
      "cell_type": "code",
      "source": [
        "from langchain import OpenAI, PromptTemplate, LLMChain\n",
        "from langchain.text_splitter import CharacterTextSplitter\n",
        "from langchain.chains.mapreduce import MapReduceChain\n",
        "from langchain.prompts import PromptTemplate\n",
        "\n",
        "llm = OpenAI(temperature=0)"
      ],
      "metadata": {
        "id": "lgesD0jrvDyG"
      },
      "execution_count": null,
      "outputs": []
    },
    {
      "cell_type": "code",
      "source": [
        "text_splitter = CharacterTextSplitter()"
      ],
      "metadata": {
        "id": "pyPulL7tvQOw"
      },
      "execution_count": null,
      "outputs": []
    },
    {
      "cell_type": "code",
      "source": [
        "# load the doc\n",
        "with open('/content/how_to_win_friends.txt') as f:\n",
        "    how_to_win_friends = f.read()\n",
        "texts = text_splitter.split_text(how_to_win_friends)"
      ],
      "metadata": {
        "id": "sCfCSX9sOv2A"
      },
      "execution_count": null,
      "outputs": []
    },
    {
      "cell_type": "code",
      "source": [
        "len(texts)"
      ],
      "metadata": {
        "colab": {
          "base_uri": "https://localhost:8080/"
        },
        "id": "k6KdLobvkLje",
        "outputId": "046af023-0ed4-406f-bfac-ca2fef9b86c3"
      },
      "execution_count": null,
      "outputs": [
        {
          "output_type": "execute_result",
          "data": {
            "text/plain": [
              "4"
            ]
          },
          "metadata": {},
          "execution_count": 7
        }
      ]
    },
    {
      "cell_type": "code",
      "source": [
        "from langchain.docstore.document import Document\n",
        "\n",
        "docs = [Document(page_content=t) for t in texts[:4]]"
      ],
      "metadata": {
        "id": "8L6ztJUJO2j8"
      },
      "execution_count": null,
      "outputs": []
    },
    {
      "cell_type": "code",
      "source": [
        "docs"
      ],
      "metadata": {
        "colab": {
          "base_uri": "https://localhost:8080/"
        },
        "id": "WlSA_nIxdrSU",
        "outputId": "d99b2de5-e591-4b6e-b6ac-d550bf1ef2c6"
      },
      "execution_count": null,
      "outputs": [
        {
          "output_type": "execute_result",
          "data": {
            "text/plain": [
              "[Document(page_content='How This Book Was Written-And Why \\nby \\n\\nDale Carnegie \\n\\nDuring the first thirty-five years of the twentieth century, the \\npublishing houses of America printed more than a fifth of a million \\ndifferent books. Most of them were deadly dull, and many were \\nfinancial failures. \"Many,\" did I say? The president of one of the \\nlargest publishing houses in the world confessed to me that his \\ncompany, after seventy-five years of publishing experience, still lost \\nmoney on seven out of every eight books it published. \\n\\nWhy, then, did I have the temerity to write another book? And, after \\nI had written it, why should you bother to read it? \\n\\n\\nFair questions, both; and I\\'ll try to answer them. \\n\\n\\nI have, since 1912, been conducting educational courses for business \\nand professional men and women in New York. At first, I conducted \\ncourses in public speaking only - courses designed to train adults, by \\nactual experience, to think on their feet and express their ideas with \\nmore clarity, more effectiveness and more poise, both in business \\ninterviews and before groups. \\n\\nBut gradually, as the seasons passed, I realized that as sorely as \\nthese adults needed training in effective speaking, they needed still \\nmore training in the fine art of getting along with people in everyday \\nbusiness and social contacts. \\n\\nI also gradually realized that I was sorely in need of such training \\nmyself. As I look back across the years, I am appalled at my own \\nfrequent lack of finesse and understanding. How I wish a book such \\nas this had been placed in my hands twenty years ago! What a \\npriceless boon it would have been. \\n\\nDealing with people is probably the biggest problem you face, \\nespecially if you are in business. Yes, and that is also true if you are \\na housewife, architect or engineer. Research done a few years ago \\nunder the auspices of the Carnegie Foundation for the Advancement \\nof Teaching uncovered a most important and significant fact - a fact \\nlater confirmed by additional studies made at the Carnegie Institute \\nof Technology. These investigations revealed that even in such \\ntechnical lines as engineering, about 15 percent of one\\'s financial \\nsuccess is due to one\\'s technical knowledge and about 85 percent is \\ndue to skill in human engineering-to personality and the ability to \\nlead people. \\n\\nFor many years, I conducted courses each season at the Engineers\\' \\nClub of Philadelphia, and also courses for the New York Chapter of \\nthe American Institute of Electrical Engineers. A total of probably \\nmore than fifteen hundred engineers have passed through my \\nclasses. They came to me because they had finally realized, after \\nyears of observation and experience, that the highest-paid personnel \\nin engineering are frequently not those who know the most about \\nengineering. One can for example, hire mere technical ability in \\nengineering, accountancy, architecture or any other profession at \\nnominal salaries. But the person who has technical knowledge plus \\nthe ability to express ideas, to assume leadership, and to arouse \\nenthusiasm among people-that person is headed for higher earning \\npower. \\n\\nIn the heyday of his activity, John D. Rockefeller said that \"the ability \\nto deal with people is as purchasable a commodity as sugar or \\ncoffee.\" \"And I will pay more for that ability,\" said John D., \"than for \\nany other under the sun.\" \\n\\n\\n\\nWouldn\\'t you suppose that every college in the land would conduct \\ncourses to develop the highest-priced ability under the sun? But if \\nthere is just one practical, common-sense course of that kind given \\nfor adults in even one college in the land, it has escaped my \\nattention up to the present writing. \\n\\nThe University of Chicago and the United Y.M.C.A. Schools conducted \\na survey to determine what adults want to study.', lookup_str='', metadata={}, lookup_index=0),\n",
              " Document(page_content='The University of Chicago and the United Y.M.C.A. Schools conducted \\na survey to determine what adults want to study. \\n\\nThat survey cost $25,000 and took two years. The last part of the \\nsurvey was made in Meriden, Connecticut. It had been chosen as a \\ntypical American town. Every adult in Meriden was interviewed and \\nrequested to answer 156 questions-questions such as \"What is your \\nbusiness or profession? Your education? How do you spend your \\nspare time? What is your income? Your hobbies? Your ambitions? \\nYour problems? What subjects are you most interested in studying?\" \\nAnd so on. That survey revealed that health is the prime interest of \\nadults and that their second interest is people; how to understand \\nand get along with people; how to make people like you; and how to \\nwin others to your way of thinking. \\n\\nSo the committee conducting this survey resolved to conduct such a \\ncourse for adults in Meriden. They searched diligently for a practical \\ntextbook on the subject and found-not one. Finally they approached \\none of the world\\'s outstanding authorities on adult education and \\nasked him if he knew of any book that met the needs of this group. \\n\"No,\" he replied, \"I know what those adults want. But the book they \\nneed has never been written.\" \\n\\nI knew from experience that this statement was true, for I myself \\nhad been searching for years to discover a practical, working \\nhandbook on human relations. \\n\\nSince no such book existed, I have tried to write one for use in my \\nown courses. And here it is. I hope you like it. \\n\\nIn preparation for this book, I read everything that I could find on \\nthe subject- everything from newspaper columns, magazine articles, \\nrecords of the family courts, the writings of the old philosophers and \\nthe new psychologists. In addition, I hired a trained researcher to \\nspend one and a half years in various libraries reading everything I \\nhad missed, plowing through erudite tomes on psychology, poring \\nover hundreds of magazine articles, searching through countless \\nbiographies, trying to ascertain how the great leaders of all ages had \\ndealt with people. We read their biographies, We read the life stories \\nof all great leaders from Julius Caesar to Thomas Edison. I recall that \\nwe read over one hundred biographies of Theodore Roosevelt alone. \\nWe were determined to spare no time, no expense, to discover every \\npractical idea that anyone had ever used throughout the ages for \\nwinning friends and influencing people. \\n\\n\\n\\nI personally interviewed scores of successful people, some of them \\nworld-famous-inventors like Marconi and Edison; political leaders like \\nFranklin D. Roosevelt and James Farley; business leaders like Owen \\nD. Young; movie stars like Clark Gable and Mary Pickford; and \\nexplorers like Martin Johnson-and tried to discover the techniques \\nthey used in human relations. \\n\\nFrom all this material, I prepared a short talk. I called it \"How to Win \\nFriends and Influence People.\" I say \"short.\" It was short in the \\nbeginning, but it soon expanded to a lecture that consumed one \\nhour and thirty minutes. For years, I gave this talk each season to \\nthe adults in the Carnegie Institute courses in New York. \\n\\nI gave the talk and urged the listeners to go out and test it in their \\nbusiness and social contacts, and then come back to class and speak \\nabout their experiences and the results they had achieved. What an \\ninteresting assignment! These men and women, hungry for self- \\nimprovement, were fascinated by the idea of working in a new kind \\nof laboratory - the first and only laboratory of human relationships \\nfor adults that had ever existed. \\n\\nThis book wasn\\'t written in the usual sense of the word. It grew as a \\nchild grows. It grew and developed out of that laboratory, out of the \\nexperiences of thousands of adults.', lookup_str='', metadata={}, lookup_index=0),\n",
              " Document(page_content='This book wasn\\'t written in the usual sense of the word. It grew as a \\nchild grows. It grew and developed out of that laboratory, out of the \\nexperiences of thousands of adults. \\n\\nYears ago, we started with a set of rules printed on a card no larger \\nthan a postcard. The next season we printed a larger card, then a \\nleaflet, then a series of booklets, each one expanding in size and \\nscope. After fifteen years of experiment and research came this \\nbook. \\n\\nThe rules we have set down here are not mere theories or \\nguesswork. They work like magic. Incredible as it sounds, I have \\nseen the application of these principles literally revolutionize the lives \\nof many people. \\n\\nTo illustrate: A man with 314 employees joined one of these courses. \\nFor years, he had driven and criticized and condemned his \\nemployees without stint or discretion. Kindness, words of \\nappreciation and encouragement were alien to his lips. After studying \\nthe principles discussed in this book, this employer sharply altered \\nhis philosophy of life. His organization is now inspired with a new \\nloyalty, a new enthusiasm, a new spirit of team-work. Three hundred \\nand fourteen enemies have been turned into 314 friends. As he \\nproudly said in a speech before the class: \"When I used to walk \\nthrough my establishment, no one greeted me. My employees \\nactually looked the other way when they saw me approaching. But \\nnow they are all my friends and even the janitor calls me by my first \\nname.\" \\n\\n\\n\\nThis employer gained more profit, more leisure and -what is infinitely \\nmore important-he found far more happiness in his business and in \\nhis home. \\n\\nCountless numbers of salespeople have sharply increased their sales \\nby the use of these principles. Many have opened up new accounts - \\naccounts that they had formerly solicited in vain. Executives have \\nbeen given increased authority, increased pay. One executive \\nreported a large increase in salary because he applied these truths. \\nAnother, an executive in the Philadelphia Gas Works Company, was \\nslated for demotion when he was sixty-five because of his \\nbelligerence, because of his inability to lead people skillfully. This \\ntraining not only saved him from the demotion but brought him a \\npromotion with increased pay. \\n\\nOn innumerable occasions, spouses attending the banquet given at \\nthe end of the course have told me that their homes have been \\nmuch happier since their husbands or wives started this training. \\n\\nPeople are frequently astonished at the new results they achieve. It \\nall seems like magic. In some cases, in their enthusiasm, they have \\ntelephoned me at my home on Sundays because they couldn\\'t wait \\nforty-eight hours to report their achievements at the regular session \\nof the course. \\n\\nOne man was so stirred by a talk on these principles that he sat far \\ninto the night discussing them with other members of the class. At \\nthree o\\'clock in the morning, the others went home. But he was so \\nshaken by a realization of his own mistakes, so inspired by the vista \\nof a new and richer world opening before him, that he was unable to \\nsleep. He didn\\'t sleep that night or the next day or the next night. \\n\\nWho was he? A naive, untrained individual ready to gush over any \\nnew theory that came along? No, Far from it. He was a sophisticated, \\nblasM dealer in art, very much the man about town, who spoke three \\nlanguages fluently and was a graduate of two European universities. \\n\\nWhile writing this chapter, I received a letter from a German of the \\nold school, an aristocrat whose forebears had served for generations \\nas professional army officers under the Hohenzollerns. His letter, \\nwritten from a transatlantic steamer, telling about the application of \\nthese principles, rose almost to a religious fervor.', lookup_str='', metadata={}, lookup_index=0),\n",
              " Document(page_content='Another man, an old New Yorker, a Harvard graduate, a wealthy \\nman, the owner of a large carpet factory, declared he had learned \\nmore in fourteen weeks through this system of training about the \\nfine art of influencing people than he had learned about the same \\nsubject during his four years in college. Absurd? Laughable? \\nFantastic? Of course, you are privileged to dismiss this statement \\n\\n\\n\\nwith whatever adjective you wish. I am merely reporting, without \\ncomment, a declaration made by a conservative and eminently \\nsuccessful Harvard graduate in a public address to approximately six \\nhundred people at the Yale Club in New York on the evening of \\nThursday, February 23, 1933. \\n\\n\"Compared to what we ought to be,\" said the famous Professor \\nWilliam James of Harvard, \"compared to what we ought to be, we \\nare only half awake. We are making use of only a small part of our \\nphysical and mental resources. Stating the thing broadly, the human \\nindividual thus lives far within his limits. He possesses powers of \\nvarious sorts which he habitually fails to use,\" \\n\\nThose powers which you \"habitually fail to use\"! The sole purpose of \\nthis book is to help you discover, develop and profit by those \\ndormant and unused assets, \\n\\n\"Education,\" said Dr. John G. Hibben, former president of Princeton \\nUniversity, \"is the ability to meet life\\'s situations,\" \\n\\nIf by the time you have finished reading the first three chapters of \\nthis book- if you aren\\'t then a little better equipped to meet life\\'s \\nsituations, then I shall consider this book to be a total failure so far \\nas you are concerned. For \"the great aim of education,\" said Herbert \\nSpencer, \"is not knowledge but action.\" \\n\\nAnd this is an action book. \\n\\nDALE CARNEGIE 1936', lookup_str='', metadata={}, lookup_index=0)]"
            ]
          },
          "metadata": {},
          "execution_count": 9
        }
      ]
    },
    {
      "cell_type": "markdown",
      "source": [
        "##  3 types of CombineDocuments Chains\n",
        "\n",
        "[Taken from the LangChain Docs](https://langchain.readthedocs.io/en/latest/modules/indexes/combine_docs.html)"
      ],
      "metadata": {
        "id": "IczFCIKaLCet"
      }
    },
    {
      "cell_type": "markdown",
      "source": [
        "## Summarize Simple with map_reduce"
      ],
      "metadata": {
        "id": "a6kbcja8O7-Q"
      }
    },
    {
      "cell_type": "markdown",
      "source": [
        "### Map Reduce\n",
        "This method involves **an initial prompt on each chunk of data ***\n",
        "( for summarization tasks, this could be a summary of that chunk; for question-answering tasks, it could be an answer based solely on that chunk). **Then a different prompt is run to combine all the initial outputs.** This is implemented in the LangChain as the MapReduceDocumentsChain.\n",
        "\n",
        "**Pros:** Can scale to larger documents (and more documents) than StuffDocumentsChain. The calls to the LLM on individual documents are independent and can therefore be parallelized.\n",
        "\n",
        "**Cons:** Requires many more calls to the LLM than StuffDocumentsChain. Loses some information during the final combining call."
      ],
      "metadata": {
        "id": "1zr-AO5qlJNZ"
      }
    },
    {
      "cell_type": "code",
      "source": [
        "from langchain.chains.summarize import load_summarize_chain\n",
        "import textwrap"
      ],
      "metadata": {
        "id": "lFYz2IztO2nE"
      },
      "execution_count": null,
      "outputs": []
    },
    {
      "cell_type": "code",
      "source": [
        "chain = load_summarize_chain(llm, \n",
        "                             chain_type=\"map_reduce\")\n",
        "\n",
        "\n",
        "output_summary = chain.run(docs)\n",
        "wrapped_text = textwrap.fill(output_summary, width=100)\n",
        "print(wrapped_text)"
      ],
      "metadata": {
        "colab": {
          "base_uri": "https://localhost:8080/"
        },
        "id": "h4nRP8oGO2qf",
        "outputId": "1b6f930e-6bf0-41b3-bee8-08409271ce22"
      },
      "execution_count": null,
      "outputs": [
        {
          "output_type": "stream",
          "name": "stdout",
          "text": [
            " Dale Carnegie wrote this book to provide practical, common-sense training to adults in how to\n",
            "effectively deal with people in everyday business and social contacts. It was developed over 15\n",
            "years of research and experimentation, and the rules it contains have been proven to work like\n",
            "magic. People have seen their lives revolutionized by applying these principles, from increased\n",
            "profits and pay to improved relationships with employees and family members. The book is about\n",
            "discovering, developing, and profiting from dormant and unused assets, and its purpose is to help\n",
            "readers become better equipped to meet life's situations.\n"
          ]
        }
      ]
    },
    {
      "cell_type": "code",
      "source": [
        "# for summarizing each part\n",
        "chain.llm_chain.prompt.template"
      ],
      "metadata": {
        "colab": {
          "base_uri": "https://localhost:8080/",
          "height": 35
        },
        "id": "k0OK53Q3fReD",
        "outputId": "37a72505-6980-4d5a-a269-a0968e1276e6"
      },
      "execution_count": null,
      "outputs": [
        {
          "output_type": "execute_result",
          "data": {
            "text/plain": [
              "'Write a concise summary of the following:\\n\\n\\n\"{text}\"\\n\\n\\nCONCISE SUMMARY:'"
            ],
            "application/vnd.google.colaboratory.intrinsic+json": {
              "type": "string"
            }
          },
          "metadata": {},
          "execution_count": 12
        }
      ]
    },
    {
      "cell_type": "code",
      "source": [
        "# for combining the parts\n",
        "chain.combine_document_chain.llm_chain.prompt.template"
      ],
      "metadata": {
        "colab": {
          "base_uri": "https://localhost:8080/",
          "height": 35
        },
        "id": "L2JttqnWpR0H",
        "outputId": "03fe1f6d-16da-4cce-eb2d-247ebfb1de9d"
      },
      "execution_count": null,
      "outputs": [
        {
          "output_type": "execute_result",
          "data": {
            "text/plain": [
              "'Write a concise summary of the following:\\n\\n\\n\"{text}\"\\n\\n\\nCONCISE SUMMARY:'"
            ],
            "application/vnd.google.colaboratory.intrinsic+json": {
              "type": "string"
            }
          },
          "metadata": {},
          "execution_count": 13
        }
      ]
    },
    {
      "cell_type": "code",
      "source": [
        "chain = load_summarize_chain(llm, \n",
        "                             chain_type=\"map_reduce\",\n",
        "                             verbose=True\n",
        "                             )\n",
        "\n",
        "\n",
        "output_summary = chain.run(docs)\n",
        "wrapped_text = textwrap.fill(output_summary, \n",
        "                             width=100,\n",
        "                             break_long_words=False,\n",
        "                             replace_whitespace=False)\n",
        "print(wrapped_text)"
      ],
      "metadata": {
        "colab": {
          "base_uri": "https://localhost:8080/"
        },
        "id": "6AUZ_e7MfsI1",
        "outputId": "b7551b05-a60d-4458-933b-ffb2354a0324"
      },
      "execution_count": null,
      "outputs": [
        {
          "output_type": "stream",
          "name": "stdout",
          "text": [
            "\n",
            "\n",
            "\u001b[1m> Entering new MapReduceDocumentsChain chain...\u001b[0m\n",
            "Prompt after formatting:\n",
            "\u001b[32;1m\u001b[1;3mWrite a concise summary of the following:\n",
            "\n",
            "\n",
            "\"How This Book Was Written-And Why \n",
            "by \n",
            "\n",
            "Dale Carnegie \n",
            "\n",
            "During the first thirty-five years of the twentieth century, the \n",
            "publishing houses of America printed more than a fifth of a million \n",
            "different books. Most of them were deadly dull, and many were \n",
            "financial failures. \"Many,\" did I say? The president of one of the \n",
            "largest publishing houses in the world confessed to me that his \n",
            "company, after seventy-five years of publishing experience, still lost \n",
            "money on seven out of every eight books it published. \n",
            "\n",
            "Why, then, did I have the temerity to write another book? And, after \n",
            "I had written it, why should you bother to read it? \n",
            "\n",
            "\n",
            "Fair questions, both; and I'll try to answer them. \n",
            "\n",
            "\n",
            "I have, since 1912, been conducting educational courses for business \n",
            "and professional men and women in New York. At first, I conducted \n",
            "courses in public speaking only - courses designed to train adults, by \n",
            "actual experience, to think on their feet and express their ideas with \n",
            "more clarity, more effectiveness and more poise, both in business \n",
            "interviews and before groups. \n",
            "\n",
            "But gradually, as the seasons passed, I realized that as sorely as \n",
            "these adults needed training in effective speaking, they needed still \n",
            "more training in the fine art of getting along with people in everyday \n",
            "business and social contacts. \n",
            "\n",
            "I also gradually realized that I was sorely in need of such training \n",
            "myself. As I look back across the years, I am appalled at my own \n",
            "frequent lack of finesse and understanding. How I wish a book such \n",
            "as this had been placed in my hands twenty years ago! What a \n",
            "priceless boon it would have been. \n",
            "\n",
            "Dealing with people is probably the biggest problem you face, \n",
            "especially if you are in business. Yes, and that is also true if you are \n",
            "a housewife, architect or engineer. Research done a few years ago \n",
            "under the auspices of the Carnegie Foundation for the Advancement \n",
            "of Teaching uncovered a most important and significant fact - a fact \n",
            "later confirmed by additional studies made at the Carnegie Institute \n",
            "of Technology. These investigations revealed that even in such \n",
            "technical lines as engineering, about 15 percent of one's financial \n",
            "success is due to one's technical knowledge and about 85 percent is \n",
            "due to skill in human engineering-to personality and the ability to \n",
            "lead people. \n",
            "\n",
            "For many years, I conducted courses each season at the Engineers' \n",
            "Club of Philadelphia, and also courses for the New York Chapter of \n",
            "the American Institute of Electrical Engineers. A total of probably \n",
            "more than fifteen hundred engineers have passed through my \n",
            "classes. They came to me because they had finally realized, after \n",
            "years of observation and experience, that the highest-paid personnel \n",
            "in engineering are frequently not those who know the most about \n",
            "engineering. One can for example, hire mere technical ability in \n",
            "engineering, accountancy, architecture or any other profession at \n",
            "nominal salaries. But the person who has technical knowledge plus \n",
            "the ability to express ideas, to assume leadership, and to arouse \n",
            "enthusiasm among people-that person is headed for higher earning \n",
            "power. \n",
            "\n",
            "In the heyday of his activity, John D. Rockefeller said that \"the ability \n",
            "to deal with people is as purchasable a commodity as sugar or \n",
            "coffee.\" \"And I will pay more for that ability,\" said John D., \"than for \n",
            "any other under the sun.\" \n",
            "\n",
            "\n",
            "\n",
            "Wouldn't you suppose that every college in the land would conduct \n",
            "courses to develop the highest-priced ability under the sun? But if \n",
            "there is just one practical, common-sense course of that kind given \n",
            "for adults in even one college in the land, it has escaped my \n",
            "attention up to the present writing. \n",
            "\n",
            "The University of Chicago and the United Y.M.C.A. Schools conducted \n",
            "a survey to determine what adults want to study.\"\n",
            "\n",
            "\n",
            "CONCISE SUMMARY:\u001b[0m\n",
            "Prompt after formatting:\n",
            "\u001b[32;1m\u001b[1;3mWrite a concise summary of the following:\n",
            "\n",
            "\n",
            "\"The University of Chicago and the United Y.M.C.A. Schools conducted \n",
            "a survey to determine what adults want to study. \n",
            "\n",
            "That survey cost $25,000 and took two years. The last part of the \n",
            "survey was made in Meriden, Connecticut. It had been chosen as a \n",
            "typical American town. Every adult in Meriden was interviewed and \n",
            "requested to answer 156 questions-questions such as \"What is your \n",
            "business or profession? Your education? How do you spend your \n",
            "spare time? What is your income? Your hobbies? Your ambitions? \n",
            "Your problems? What subjects are you most interested in studying?\" \n",
            "And so on. That survey revealed that health is the prime interest of \n",
            "adults and that their second interest is people; how to understand \n",
            "and get along with people; how to make people like you; and how to \n",
            "win others to your way of thinking. \n",
            "\n",
            "So the committee conducting this survey resolved to conduct such a \n",
            "course for adults in Meriden. They searched diligently for a practical \n",
            "textbook on the subject and found-not one. Finally they approached \n",
            "one of the world's outstanding authorities on adult education and \n",
            "asked him if he knew of any book that met the needs of this group. \n",
            "\"No,\" he replied, \"I know what those adults want. But the book they \n",
            "need has never been written.\" \n",
            "\n",
            "I knew from experience that this statement was true, for I myself \n",
            "had been searching for years to discover a practical, working \n",
            "handbook on human relations. \n",
            "\n",
            "Since no such book existed, I have tried to write one for use in my \n",
            "own courses. And here it is. I hope you like it. \n",
            "\n",
            "In preparation for this book, I read everything that I could find on \n",
            "the subject- everything from newspaper columns, magazine articles, \n",
            "records of the family courts, the writings of the old philosophers and \n",
            "the new psychologists. In addition, I hired a trained researcher to \n",
            "spend one and a half years in various libraries reading everything I \n",
            "had missed, plowing through erudite tomes on psychology, poring \n",
            "over hundreds of magazine articles, searching through countless \n",
            "biographies, trying to ascertain how the great leaders of all ages had \n",
            "dealt with people. We read their biographies, We read the life stories \n",
            "of all great leaders from Julius Caesar to Thomas Edison. I recall that \n",
            "we read over one hundred biographies of Theodore Roosevelt alone. \n",
            "We were determined to spare no time, no expense, to discover every \n",
            "practical idea that anyone had ever used throughout the ages for \n",
            "winning friends and influencing people. \n",
            "\n",
            "\n",
            "\n",
            "I personally interviewed scores of successful people, some of them \n",
            "world-famous-inventors like Marconi and Edison; political leaders like \n",
            "Franklin D. Roosevelt and James Farley; business leaders like Owen \n",
            "D. Young; movie stars like Clark Gable and Mary Pickford; and \n",
            "explorers like Martin Johnson-and tried to discover the techniques \n",
            "they used in human relations. \n",
            "\n",
            "From all this material, I prepared a short talk. I called it \"How to Win \n",
            "Friends and Influence People.\" I say \"short.\" It was short in the \n",
            "beginning, but it soon expanded to a lecture that consumed one \n",
            "hour and thirty minutes. For years, I gave this talk each season to \n",
            "the adults in the Carnegie Institute courses in New York. \n",
            "\n",
            "I gave the talk and urged the listeners to go out and test it in their \n",
            "business and social contacts, and then come back to class and speak \n",
            "about their experiences and the results they had achieved. What an \n",
            "interesting assignment! These men and women, hungry for self- \n",
            "improvement, were fascinated by the idea of working in a new kind \n",
            "of laboratory - the first and only laboratory of human relationships \n",
            "for adults that had ever existed. \n",
            "\n",
            "This book wasn't written in the usual sense of the word. It grew as a \n",
            "child grows. It grew and developed out of that laboratory, out of the \n",
            "experiences of thousands of adults.\"\n",
            "\n",
            "\n",
            "CONCISE SUMMARY:\u001b[0m\n",
            "Prompt after formatting:\n",
            "\u001b[32;1m\u001b[1;3mWrite a concise summary of the following:\n",
            "\n",
            "\n",
            "\"This book wasn't written in the usual sense of the word. It grew as a \n",
            "child grows. It grew and developed out of that laboratory, out of the \n",
            "experiences of thousands of adults. \n",
            "\n",
            "Years ago, we started with a set of rules printed on a card no larger \n",
            "than a postcard. The next season we printed a larger card, then a \n",
            "leaflet, then a series of booklets, each one expanding in size and \n",
            "scope. After fifteen years of experiment and research came this \n",
            "book. \n",
            "\n",
            "The rules we have set down here are not mere theories or \n",
            "guesswork. They work like magic. Incredible as it sounds, I have \n",
            "seen the application of these principles literally revolutionize the lives \n",
            "of many people. \n",
            "\n",
            "To illustrate: A man with 314 employees joined one of these courses. \n",
            "For years, he had driven and criticized and condemned his \n",
            "employees without stint or discretion. Kindness, words of \n",
            "appreciation and encouragement were alien to his lips. After studying \n",
            "the principles discussed in this book, this employer sharply altered \n",
            "his philosophy of life. His organization is now inspired with a new \n",
            "loyalty, a new enthusiasm, a new spirit of team-work. Three hundred \n",
            "and fourteen enemies have been turned into 314 friends. As he \n",
            "proudly said in a speech before the class: \"When I used to walk \n",
            "through my establishment, no one greeted me. My employees \n",
            "actually looked the other way when they saw me approaching. But \n",
            "now they are all my friends and even the janitor calls me by my first \n",
            "name.\" \n",
            "\n",
            "\n",
            "\n",
            "This employer gained more profit, more leisure and -what is infinitely \n",
            "more important-he found far more happiness in his business and in \n",
            "his home. \n",
            "\n",
            "Countless numbers of salespeople have sharply increased their sales \n",
            "by the use of these principles. Many have opened up new accounts - \n",
            "accounts that they had formerly solicited in vain. Executives have \n",
            "been given increased authority, increased pay. One executive \n",
            "reported a large increase in salary because he applied these truths. \n",
            "Another, an executive in the Philadelphia Gas Works Company, was \n",
            "slated for demotion when he was sixty-five because of his \n",
            "belligerence, because of his inability to lead people skillfully. This \n",
            "training not only saved him from the demotion but brought him a \n",
            "promotion with increased pay. \n",
            "\n",
            "On innumerable occasions, spouses attending the banquet given at \n",
            "the end of the course have told me that their homes have been \n",
            "much happier since their husbands or wives started this training. \n",
            "\n",
            "People are frequently astonished at the new results they achieve. It \n",
            "all seems like magic. In some cases, in their enthusiasm, they have \n",
            "telephoned me at my home on Sundays because they couldn't wait \n",
            "forty-eight hours to report their achievements at the regular session \n",
            "of the course. \n",
            "\n",
            "One man was so stirred by a talk on these principles that he sat far \n",
            "into the night discussing them with other members of the class. At \n",
            "three o'clock in the morning, the others went home. But he was so \n",
            "shaken by a realization of his own mistakes, so inspired by the vista \n",
            "of a new and richer world opening before him, that he was unable to \n",
            "sleep. He didn't sleep that night or the next day or the next night. \n",
            "\n",
            "Who was he? A naive, untrained individual ready to gush over any \n",
            "new theory that came along? No, Far from it. He was a sophisticated, \n",
            "blasM dealer in art, very much the man about town, who spoke three \n",
            "languages fluently and was a graduate of two European universities. \n",
            "\n",
            "While writing this chapter, I received a letter from a German of the \n",
            "old school, an aristocrat whose forebears had served for generations \n",
            "as professional army officers under the Hohenzollerns. His letter, \n",
            "written from a transatlantic steamer, telling about the application of \n",
            "these principles, rose almost to a religious fervor.\"\n",
            "\n",
            "\n",
            "CONCISE SUMMARY:\u001b[0m\n",
            "Prompt after formatting:\n",
            "\u001b[32;1m\u001b[1;3mWrite a concise summary of the following:\n",
            "\n",
            "\n",
            "\"Another man, an old New Yorker, a Harvard graduate, a wealthy \n",
            "man, the owner of a large carpet factory, declared he had learned \n",
            "more in fourteen weeks through this system of training about the \n",
            "fine art of influencing people than he had learned about the same \n",
            "subject during his four years in college. Absurd? Laughable? \n",
            "Fantastic? Of course, you are privileged to dismiss this statement \n",
            "\n",
            "\n",
            "\n",
            "with whatever adjective you wish. I am merely reporting, without \n",
            "comment, a declaration made by a conservative and eminently \n",
            "successful Harvard graduate in a public address to approximately six \n",
            "hundred people at the Yale Club in New York on the evening of \n",
            "Thursday, February 23, 1933. \n",
            "\n",
            "\"Compared to what we ought to be,\" said the famous Professor \n",
            "William James of Harvard, \"compared to what we ought to be, we \n",
            "are only half awake. We are making use of only a small part of our \n",
            "physical and mental resources. Stating the thing broadly, the human \n",
            "individual thus lives far within his limits. He possesses powers of \n",
            "various sorts which he habitually fails to use,\" \n",
            "\n",
            "Those powers which you \"habitually fail to use\"! The sole purpose of \n",
            "this book is to help you discover, develop and profit by those \n",
            "dormant and unused assets, \n",
            "\n",
            "\"Education,\" said Dr. John G. Hibben, former president of Princeton \n",
            "University, \"is the ability to meet life's situations,\" \n",
            "\n",
            "If by the time you have finished reading the first three chapters of \n",
            "this book- if you aren't then a little better equipped to meet life's \n",
            "situations, then I shall consider this book to be a total failure so far \n",
            "as you are concerned. For \"the great aim of education,\" said Herbert \n",
            "Spencer, \"is not knowledge but action.\" \n",
            "\n",
            "And this is an action book. \n",
            "\n",
            "DALE CARNEGIE 1936\"\n",
            "\n",
            "\n",
            "CONCISE SUMMARY:\u001b[0m\n",
            "\n",
            "\n",
            "\u001b[1m> Entering new LLMChain chain...\u001b[0m\n",
            "Prompt after formatting:\n",
            "\u001b[32;1m\u001b[1;3mWrite a concise summary of the following:\n",
            "\n",
            "\n",
            "\" Dale Carnegie wrote this book to provide practical, common-sense advice on how to deal with people in everyday business and social contacts. He has been conducting educational courses for business and professional men and women since 1912, and has realized that people need more training in this area. Research has shown that 85% of one's financial success is due to skill in human engineering, and John D. Rockefeller said that the ability to deal with people is the highest-priced commodity. Despite this, there are no practical courses available to adults to develop this ability.\n",
            "\n",
            " The University of Chicago and the United Y.M.C.A. Schools conducted a survey to determine what adults want to study. The survey revealed that health and understanding people were the prime interests of adults. Since no practical textbook on the subject existed, the author wrote one based on his own experience, research, and interviews with successful people. The book grew out of the experiences of thousands of adults in the first and only laboratory of human relationships for adults.\n",
            "\n",
            " This book was developed over 15 years of research and experimentation, and the rules it contains are not mere theories or guesswork. They have been seen to revolutionize the lives of many people, from employers to salespeople to executives. Examples are given of people who have seen incredible success in their lives and businesses by applying these principles. The enthusiasm for these principles is so great that people have even called the author at home on Sundays to report their successes.\n",
            "\n",
            " This book is about discovering, developing, and profiting from dormant and unused assets. It is an action book, and its purpose is to help readers become better equipped to meet life's situations. The author cites a Harvard graduate who claims to have learned more about influencing people in 14 weeks than he did in 4 years of college. The book was written by Dale Carnegie in 1936.\"\n",
            "\n",
            "\n",
            "CONCISE SUMMARY:\u001b[0m\n",
            "\n",
            "\u001b[1m> Finished chain.\u001b[0m\n",
            "\n",
            "\u001b[1m> Finished chain.\u001b[0m\n",
            " Dale Carnegie wrote this book to provide practical advice on how to deal with people in everyday\n",
            "business and social contacts. It was developed over 15 years of research and experimentation, and\n",
            "the rules it contains have been seen to revolutionize the lives of many people. It is an action\n",
            "book, and its purpose is to help readers become better equipped to meet life's situations. The\n",
            "enthusiasm for these principles is so great that people have even called the author at home on\n",
            "Sundays to report their successes.\n"
          ]
        }
      ]
    },
    {
      "cell_type": "markdown",
      "source": [
        "### Summarizing with the 'stuff' Chain"
      ],
      "metadata": {
        "id": "M6yiwXNnvzxO"
      }
    },
    {
      "cell_type": "markdown",
      "source": [
        "\n",
        "\n",
        "### Stuffing\n",
        "Stuffing is the simplest method, whereby you simply stuff all the related data into the prompt as context to pass to the language model. This is implemented in LangChain as the StuffDocumentsChain.\n",
        "\n",
        "**Pros:** Only makes a single call to the LLM. When generating text, the LLM has access to all the data at once.\n",
        "\n",
        "**Cons:** Most LLMs have a context length, and for large documents (or many documents) this will not work as it will result in a prompt larger than the context length.\n",
        "\n",
        "The main downside of this method is that **it only works one smaller pieces of data.**  Once you are working with many pieces of data, this approach is no longer feasible. The next two approaches are designed to help deal with that.\n",
        "\n"
      ],
      "metadata": {
        "id": "9o7FgrlMhuW2"
      }
    },
    {
      "cell_type": "code",
      "source": [
        "chain = load_summarize_chain(llm, chain_type=\"stuff\")"
      ],
      "metadata": {
        "id": "OzCHODNOPKnO"
      },
      "execution_count": null,
      "outputs": []
    },
    {
      "cell_type": "code",
      "source": [
        "prompt_template = \"\"\"Write a concise bullet point summary of the following:\n",
        "\n",
        "\n",
        "{text}\n",
        "\n",
        "\n",
        "CONSCISE SUMMARY IN BULLET POINTS:\"\"\"\n",
        "\n",
        "BULLET_POINT_PROMPT = PromptTemplate(template=prompt_template, \n",
        "                        input_variables=[\"text\"])\n"
      ],
      "metadata": {
        "id": "XTMPc6oQPQr0"
      },
      "execution_count": null,
      "outputs": []
    },
    {
      "cell_type": "code",
      "source": [
        "chain = load_summarize_chain(llm, \n",
        "                             chain_type=\"stuff\", \n",
        "                             prompt=BULLET_POINT_PROMPT)\n",
        "\n",
        "output_summary = chain.run(docs)\n",
        "\n",
        "wrapped_text = textwrap.fill(output_summary, \n",
        "                             width=100,\n",
        "                             break_long_words=False,\n",
        "                             replace_whitespace=False)\n",
        "print(wrapped_text)"
      ],
      "metadata": {
        "colab": {
          "base_uri": "https://localhost:8080/"
        },
        "id": "nrtSb8VphVG-",
        "outputId": "8c59f9f3-9a3e-4c7a-a232-1dfc2394fde4"
      },
      "execution_count": null,
      "outputs": [
        {
          "output_type": "stream",
          "name": "stdout",
          "text": [
            " \n",
            "\n",
            "• Dale Carnegie wrote this book to provide practical advice on how to deal with people in\n",
            "everyday business and social contacts. \n",
            "\n",
            "• Research revealed that 85% of success in any profession\n",
            "is due to skill in human engineering, or the ability to lead people. \n",
            "\n",
            "• Carnegie conducted courses\n",
            "for adults in New York and found that no practical, working handbook on human relations existed. \n",
            "\n",
            "•\n",
            "He read everything he could find on the subject, interviewed successful people, and conducted a\n",
            "survey to determine what adults wanted to study. \n",
            "\n",
            "• The survey revealed that people wanted to\n",
            "understand and get along with people, make people like them, and win others to their way of\n",
            "thinking. \n",
            "\n",
            "• Carnegie wrote this book based on his research, interviews, and courses, and it has\n",
            "been tested in business and social contacts with successful results.\n"
          ]
        }
      ]
    },
    {
      "cell_type": "markdown",
      "source": [
        "### Ver 3 With 'map_reduce' with our custom prompt"
      ],
      "metadata": {
        "id": "cJ_ig4J_PYbm"
      }
    },
    {
      "cell_type": "code",
      "source": [
        "chain = load_summarize_chain(llm, \n",
        "                             chain_type=\"map_reduce\",\n",
        "                             map_prompt=BULLET_POINT_PROMPT, \n",
        "                             combine_prompt=BULLET_POINT_PROMPT)\n",
        "\n",
        "# chain.llm_chain.prompt= BULLET_POINT_PROMPT\n",
        "# chain.combine_document_chain.llm_chain.prompt= BULLET_POINT_PROMPT\n",
        "\n",
        "output_summary = chain.run(docs)\n",
        "wrapped_text = textwrap.fill(output_summary, \n",
        "                             width=100,\n",
        "                             break_long_words=False,\n",
        "                             replace_whitespace=False)\n",
        "print(wrapped_text)"
      ],
      "metadata": {
        "colab": {
          "base_uri": "https://localhost:8080/"
        },
        "id": "4lS7vYgKPcqV",
        "outputId": "e2824e48-6d27-4e1a-ba53-489574722574"
      },
      "execution_count": null,
      "outputs": [
        {
          "output_type": "stream",
          "name": "stdout",
          "text": [
            "\n",
            "• Dale Carnegie wrote this book to provide practical, common-sense training in dealing with people\n",
            "• Research revealed that 85% of financial success is due to skill in human engineering\n",
            "• University\n",
            "of Chicago and United Y.M.C.A. Schools conducted a survey to determine what adults want to study\n",
            "•\n",
            "This book was developed over 15 years of experiment and research\n",
            "• Harvard graduate declared he had\n",
            "learned more in 14 weeks through a system of training about influencing people than he had in 4\n",
            "years of college\n",
            "• William James of Harvard said humans live far within their limits and possess\n",
            "powers they habitually fail to use\n",
            "• The purpose of this book is to help discover, develop and\n",
            "profit from these dormant and unused assets\n",
            "• Education is the ability to meet life's situations and\n",
            "the aim of education is not knowledge but action\n"
          ]
        }
      ]
    },
    {
      "cell_type": "code",
      "source": [
        "# with a custom prompt\n",
        "prompt_template = \"\"\"Write a concise summary of the following:\n",
        "\n",
        "\n",
        "{text}\n",
        "\n",
        "\n",
        "CONSCISE SUMMARY IN BULLET POINTS:\"\"\"\n",
        "\n",
        "PROMPT = PromptTemplate(template=prompt_template, \n",
        "                        input_variables=[\"text\"])\n",
        "\n",
        "## with intermediate steps\n",
        "chain = load_summarize_chain(OpenAI(temperature=0), \n",
        "                             chain_type=\"map_reduce\", \n",
        "                             return_intermediate_steps=True, \n",
        "                             map_prompt=PROMPT, \n",
        "                             combine_prompt=PROMPT)\n",
        "\n",
        "output_summary = chain({\"input_documents\": docs}, return_only_outputs=True)\n",
        "wrapped_text = textwrap.fill(output_summary['output_text'], \n",
        "                             width=100,\n",
        "                             break_long_words=False,\n",
        "                             replace_whitespace=False)\n",
        "print(wrapped_text)"
      ],
      "metadata": {
        "colab": {
          "base_uri": "https://localhost:8080/"
        },
        "id": "bUFsaodtPkl4",
        "outputId": "e49cc8b4-f081-43d8-b0b3-3257f1f6e5bf"
      },
      "execution_count": null,
      "outputs": [
        {
          "output_type": "stream",
          "name": "stdout",
          "text": [
            "\n",
            "• Dale Carnegie wrote this book to provide practical, common-sense training in the art of getting\n",
            "along with people in everyday business and social contacts. \n",
            "• Research done by the Carnegie\n",
            "Foundation for the Advancement of Teaching revealed that 85% of one's financial success is due to\n",
            "skill in human engineering-to personality and the ability to lead people. \n",
            "• The University of\n",
            "Chicago and the United Y.M.C.A. Schools conducted a survey to determine what adults want to study,\n",
            "which revealed that health and understanding people were the prime interests of adults. \n",
            "• This book\n",
            "was developed over 15 years of research and experimentation and has been seen to revolutionize the\n",
            "lives of many people. \n",
            "• The purpose of this book is to help readers discover, develop and profit\n",
            "from their dormant and unused assets and equip them to better meet life's situations.\n"
          ]
        }
      ]
    },
    {
      "cell_type": "code",
      "source": [
        "wrapped_text = textwrap.fill(output_summary['intermediate_steps'][2], \n",
        "                             width=100,\n",
        "                             break_long_words=False,\n",
        "                             replace_whitespace=False)\n",
        "print(wrapped_text)"
      ],
      "metadata": {
        "colab": {
          "base_uri": "https://localhost:8080/"
        },
        "id": "OvksjoTytSCb",
        "outputId": "03bc2547-cb3c-45ad-e546-404993cf1f8f"
      },
      "execution_count": null,
      "outputs": [
        {
          "output_type": "stream",
          "name": "stdout",
          "text": [
            "\n",
            "• This book was developed over 15 years of research and experimentation. \n",
            "• The rules set down in\n",
            "the book have been seen to revolutionize the lives of many people. \n",
            "• Examples of success stories\n",
            "include an employer with 314 employees, salespeople, executives, and spouses. \n",
            "• People are often\n",
            "astonished at the results they achieve, which seem like magic. \n",
            "• One man was so inspired by the\n",
            "principles that he stayed up for three days discussing them. \n",
            "• A letter from a German aristocrat\n",
            "expressed religious fervor for the principles.\n"
          ]
        }
      ]
    },
    {
      "cell_type": "markdown",
      "source": [
        "### With the 'refine' CombineDocument Chain"
      ],
      "metadata": {
        "id": "caaAmomfPv9j"
      }
    },
    {
      "cell_type": "markdown",
      "source": [
        "## Refine\n",
        "This method involves **an initial prompt on the first chunk of data, generating some output. For the remaining documents, that output is passed in, along with the next document**, asking the LLM to refine the output based on the new document.\n",
        "\n",
        "**Pros:** Can pull in more relevant context, and may be less lossy than MapReduceDocumentsChain.\n",
        "\n",
        "**Cons:** Requires many more calls to the LLM than StuffDocumentsChain. The calls are also NOT independent, meaning they cannot be paralleled like MapReduceDocumentsChain. There is also some potential dependencies on the ordering of the documents."
      ],
      "metadata": {
        "id": "39P6zjy9lT5X"
      }
    },
    {
      "cell_type": "code",
      "source": [
        "chain = load_summarize_chain(llm, chain_type=\"refine\")\n",
        "\n",
        "output_summary = chain.run(docs)\n",
        "wrapped_text = textwrap.fill(output_summary, width=100)\n",
        "print(wrapped_text)"
      ],
      "metadata": {
        "colab": {
          "base_uri": "https://localhost:8080/"
        },
        "id": "7Ji2D8Q0P2gh",
        "outputId": "cb493a3e-93f2-4fee-e6fc-4e4308e62aa4"
      },
      "execution_count": null,
      "outputs": [
        {
          "output_type": "stream",
          "name": "stdout",
          "text": [
            "  Dale Carnegie wrote this book to provide practical, common-sense training to adults in how to\n",
            "effectively deal with people in everyday business and social contacts. He has been conducting\n",
            "educational courses for business and professional men and women since 1912 and has found that even\n",
            "in technical lines such as engineering, 85% of one's financial success is due to skill in human\n",
            "engineering. He believes that every college should provide courses to develop this ability, but has\n",
            "not found one that does. To create this book, Carnegie conducted a survey to determine what adults\n",
            "wanted to study, read extensively on the subject, and interviewed successful people to discover the\n",
            "techniques they used in human relations. The book was developed out of the experiences of thousands\n",
            "of adults in a laboratory of human relationships, the first of its kind. Carnegie's book provides\n",
            "practical advice on how to revolutionize one's life and relationships through the application of his\n",
            "principles. He has seen the application of these principles literally revolutionize the lives of\n",
            "many people, from increased profits and pay for business people to increased happiness in homes.\n",
            "People are frequently astonished at the new results they achieve, and Carnegie has received letters\n",
            "from all over the world testifying to the success of his principles. Carnegie's book aims to help\n",
            "readers discover, develop and profit from their dormant and\n"
          ]
        }
      ]
    },
    {
      "cell_type": "code",
      "source": [
        "prompt_template = \"\"\"Write a concise summary of the following extracting the key information:\n",
        "\n",
        "\n",
        "{text}\n",
        "\n",
        "\n",
        "CONCISE SUMMARY:\"\"\"\n",
        "PROMPT = PromptTemplate(template=prompt_template, \n",
        "                        input_variables=[\"text\"])\n",
        "\n",
        "refine_template = (\n",
        "    \"Your job is to produce a final summary\\n\"\n",
        "    \"We have provided an existing summary up to a certain point: {existing_answer}\\n\"\n",
        "    \"We have the opportunity to refine the existing summary\"\n",
        "    \"(only if needed) with some more context below.\\n\"\n",
        "    \"------------\\n\"\n",
        "    \"{text}\\n\"\n",
        "    \"------------\\n\"\n",
        "    \"Given the new context, refine the original summary\"\n",
        "    \"If the context isn't useful, return the original summary.\"\n",
        ")\n",
        "refine_prompt = PromptTemplate(\n",
        "    input_variables=[\"existing_answer\", \"text\"],\n",
        "    template=refine_template,\n",
        ")\n",
        "chain = load_summarize_chain(OpenAI(temperature=0), \n",
        "                             chain_type=\"refine\", \n",
        "                             return_intermediate_steps=True, \n",
        "                             question_prompt=PROMPT, \n",
        "                             refine_prompt=refine_prompt)\n"
      ],
      "metadata": {
        "id": "JsoM2yyoQNzF"
      },
      "execution_count": null,
      "outputs": []
    },
    {
      "cell_type": "code",
      "source": [
        "output_summary = chain({\"input_documents\": docs}, return_only_outputs=True)\n",
        "wrapped_text = textwrap.fill(output_summary['output_text'], \n",
        "                             width=100,\n",
        "                             break_long_words=False,\n",
        "                             replace_whitespace=False)\n",
        "print(wrapped_text)"
      ],
      "metadata": {
        "colab": {
          "base_uri": "https://localhost:8080/"
        },
        "id": "mgIuOQWbfFep",
        "outputId": "6b701913-2b71-4652-cfa6-1e96f542ee20"
      },
      "execution_count": null,
      "outputs": [
        {
          "output_type": "stream",
          "name": "stdout",
          "text": [
            "\n",
            "\n",
            "Dale Carnegie wrote this book to provide practical, common-sense training to adults in how to\n",
            "effectively deal with people in everyday business and social contacts. He conducted educational\n",
            "courses for business and professional men and women in New York and realized that they needed more\n",
            "training in this area. Research done a few years ago revealed that even in technical lines such as\n",
            "engineering, 85% of one's financial success is due to skill in human engineering - personality and\n",
            "the ability to lead people. Carnegie wanted to provide this training to adults, as it is not offered\n",
            "in any college in the land. To do this, he conducted a survey to determine what adults wanted to\n",
            "study, and the results revealed that health and understanding and getting along with people were the\n",
            "prime interests. Since no practical textbook on the subject existed, Carnegie wrote one himself,\n",
            "drawing on his own experience, research, and interviews with successful people. The book grew out of\n",
            "the experiences of thousands of adults in Carnegie's laboratory of human relationships. The rules\n",
            "set down in the book have been proven to work like magic, with countless numbers of salespeople,\n",
            "executives, and employers seeing incredible results from applying them. People are often astonished\n",
            "at the new results they achieve, and many have reported increased pay, promotions, and happier\n",
            "homes. Carnegie\n"
          ]
        }
      ]
    },
    {
      "cell_type": "code",
      "source": [
        "wrapped_text = textwrap.fill(output_summary['intermediate_steps'][0], \n",
        "                             width=100,\n",
        "                             break_long_words=False,\n",
        "                             replace_whitespace=False)\n",
        "print(wrapped_text)"
      ],
      "metadata": {
        "colab": {
          "base_uri": "https://localhost:8080/"
        },
        "id": "dt7v2DVavMpX",
        "outputId": "eddfab8d-2731-492f-fc16-8d8c25d2aec8"
      },
      "execution_count": null,
      "outputs": [
        {
          "output_type": "stream",
          "name": "stdout",
          "text": [
            " Dale Carnegie wrote this book to provide practical, common-sense training to adults in how to\n",
            "effectively deal with people in everyday business and social contacts. He conducted educational\n",
            "courses for business and professional men and women in New York and realized that they needed more\n",
            "training in this area. Research done a few years ago revealed that even in technical lines such as\n",
            "engineering, 85% of one's financial success is due to skill in human engineering - personality and\n",
            "the ability to lead people. Carnegie wanted to provide this training to adults, as it is not offered\n",
            "in any college in the land.\n"
          ]
        }
      ]
    },
    {
      "cell_type": "code",
      "source": [],
      "metadata": {
        "id": "WtEBpGcCRGzk"
      },
      "execution_count": null,
      "outputs": []
    }
  ]
}